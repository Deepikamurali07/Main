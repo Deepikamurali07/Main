{
 "cells": [
  {
   "cell_type": "markdown",
   "metadata": {
    "id": "_pa6wyGT9tL4"
   },
   "source": [
    "# __Big Data for Decision Making - Individual Assignment__\n",
    "\n",
    "__Module code: BNM832__ <br>\n",
    "__Student ID: 230181766__"
   ]
  },
  {
   "cell_type": "markdown",
   "metadata": {
    "id": "pE6PI-eA7aFd"
   },
   "source": [
    "__Table of Contents__\n",
    "1. Business Objective\n",
    "2. Data Loading\n",
    "3. Baseline Model\n",
    "4. Feature Selection based on feature importance\n",
    "5. Modeling with hypertuning and validation\n",
    "6. Models comparison\n",
    "7. Future improvements\n",
    "8. Conclusion"
   ]
  },
  {
   "cell_type": "markdown",
   "metadata": {
    "id": "cnpTC7Ik9tL6"
   },
   "source": [
    "## 1. Business Objective"
   ]
  },
  {
   "cell_type": "markdown",
   "metadata": {
    "id": "Jstj5Yp69tL6"
   },
   "source": [
    "The project aims to use machine learning models to assess the severity of accidents that insurance applicants are likely to be involved in. By training these models with UK road safety data of year 2022, the insurance company aims to improve its risk assessment capabilities. This predictive analysis helps the company determine insurance premiums based on individual risk profiles, charging higher premiums for drivers with a higher likelihood of severe accidents. Lower-risk drivers may receive more competitive premium rates, enhancing the company's ability to attract and retain customers. Accurately assessing accident severity also optimizes risk management strategies, identifying trends and patterns in accident data to mitigate risks and allocate resources more effectively. The implementation of machine learning models supports the insurance company's goal of enhancing profitability, maintaining regulatory compliance, and providing superior insurance products and services."
   ]
  },
  {
   "cell_type": "markdown",
   "metadata": {
    "id": "Rm6vecLH9tL6"
   },
   "source": [
    "## 2. Data Loading"
   ]
  },
  {
   "cell_type": "markdown",
   "metadata": {
    "id": "Xp_48gnrUI3k"
   },
   "source": [
    "Importing the necessary libraries"
   ]
  },
  {
   "cell_type": "code",
   "execution_count": 147,
   "metadata": {
    "id": "C36YyL4I9tL7"
   },
   "outputs": [],
   "source": [
    "#importing libraries\n",
    "import pandas as pd\n",
    "import numpy as np\n",
    "import matplotlib.pyplot as plt\n",
    "import seaborn as sns\n",
    "from sklearn.model_selection import train_test_split\n",
    "from sklearn.metrics import accuracy_score, classification_report\n",
    "from sklearn.model_selection import GridSearchCV"
   ]
  },
  {
   "cell_type": "markdown",
   "metadata": {
    "id": "9nC0yg2cUYiP"
   },
   "source": [
    "The training data is loaded, this data is output from group assignment after data preprocessing. Accident Severity is considered as the target variable."
   ]
  },
  {
   "cell_type": "code",
   "execution_count": 148,
   "metadata": {
    "colab": {
     "base_uri": "https://localhost:8080/",
     "height": 272
    },
    "id": "nbQRIwQc9tL7",
    "outputId": "3d2964fc-e35c-49e1-d185-71bb067a2378"
   },
   "outputs": [
    {
     "data": {
      "application/vnd.google.colaboratory.intrinsic+json": {
       "type": "dataframe",
       "variable_name": "df1"
      },
      "text/html": [
       "\n",
       "  <div id=\"df-e1a84897-4788-4d21-a495-dad8050828f1\" class=\"colab-df-container\">\n",
       "    <div>\n",
       "<style scoped>\n",
       "    .dataframe tbody tr th:only-of-type {\n",
       "        vertical-align: middle;\n",
       "    }\n",
       "\n",
       "    .dataframe tbody tr th {\n",
       "        vertical-align: top;\n",
       "    }\n",
       "\n",
       "    .dataframe thead th {\n",
       "        text-align: right;\n",
       "    }\n",
       "</style>\n",
       "<table border=\"1\" class=\"dataframe\">\n",
       "  <thead>\n",
       "    <tr style=\"text-align: right;\">\n",
       "      <th></th>\n",
       "      <th>age_of_driver</th>\n",
       "      <th>age_band_of_driver</th>\n",
       "      <th>engine_capacity_cc</th>\n",
       "      <th>age_of_vehicle</th>\n",
       "      <th>sex_of_driver_Male</th>\n",
       "      <th>journey_purpose_of_driver_Journey as part of work</th>\n",
       "      <th>journey_purpose_of_driver_Not known</th>\n",
       "      <th>journey_purpose_of_driver_Other</th>\n",
       "      <th>journey_purpose_of_driver_Pupil riding to/from school</th>\n",
       "      <th>journey_purpose_of_driver_Taking pupil to/from school</th>\n",
       "      <th>...</th>\n",
       "      <th>model_SEAT</th>\n",
       "      <th>model_SKODA</th>\n",
       "      <th>model_SUZUKI</th>\n",
       "      <th>model_TOYOTA</th>\n",
       "      <th>model_TRIUMPH</th>\n",
       "      <th>model_VAUXHALL</th>\n",
       "      <th>model_VOLKSWAGEN</th>\n",
       "      <th>model_VOLVO</th>\n",
       "      <th>model_YAMAHA</th>\n",
       "      <th>accident_severity</th>\n",
       "    </tr>\n",
       "  </thead>\n",
       "  <tbody>\n",
       "    <tr>\n",
       "      <th>0</th>\n",
       "      <td>3.784190</td>\n",
       "      <td>2.079442</td>\n",
       "      <td>7.600902</td>\n",
       "      <td>15.0</td>\n",
       "      <td>0.0</td>\n",
       "      <td>0.0</td>\n",
       "      <td>0.0</td>\n",
       "      <td>0.0</td>\n",
       "      <td>0.0</td>\n",
       "      <td>0.0</td>\n",
       "      <td>...</td>\n",
       "      <td>0.0</td>\n",
       "      <td>0.0</td>\n",
       "      <td>0.0</td>\n",
       "      <td>0.0</td>\n",
       "      <td>0.0</td>\n",
       "      <td>0.0</td>\n",
       "      <td>0.0</td>\n",
       "      <td>0.0</td>\n",
       "      <td>0.0</td>\n",
       "      <td>3</td>\n",
       "    </tr>\n",
       "    <tr>\n",
       "      <th>1</th>\n",
       "      <td>3.761200</td>\n",
       "      <td>2.079442</td>\n",
       "      <td>4.836282</td>\n",
       "      <td>4.0</td>\n",
       "      <td>1.0</td>\n",
       "      <td>0.0</td>\n",
       "      <td>1.0</td>\n",
       "      <td>0.0</td>\n",
       "      <td>0.0</td>\n",
       "      <td>0.0</td>\n",
       "      <td>...</td>\n",
       "      <td>0.0</td>\n",
       "      <td>0.0</td>\n",
       "      <td>0.0</td>\n",
       "      <td>0.0</td>\n",
       "      <td>0.0</td>\n",
       "      <td>0.0</td>\n",
       "      <td>0.0</td>\n",
       "      <td>0.0</td>\n",
       "      <td>0.0</td>\n",
       "      <td>3</td>\n",
       "    </tr>\n",
       "    <tr>\n",
       "      <th>2</th>\n",
       "      <td>3.178054</td>\n",
       "      <td>1.791759</td>\n",
       "      <td>7.377134</td>\n",
       "      <td>19.0</td>\n",
       "      <td>0.0</td>\n",
       "      <td>0.0</td>\n",
       "      <td>0.0</td>\n",
       "      <td>0.0</td>\n",
       "      <td>0.0</td>\n",
       "      <td>0.0</td>\n",
       "      <td>...</td>\n",
       "      <td>0.0</td>\n",
       "      <td>0.0</td>\n",
       "      <td>0.0</td>\n",
       "      <td>0.0</td>\n",
       "      <td>0.0</td>\n",
       "      <td>0.0</td>\n",
       "      <td>0.0</td>\n",
       "      <td>0.0</td>\n",
       "      <td>0.0</td>\n",
       "      <td>3</td>\n",
       "    </tr>\n",
       "    <tr>\n",
       "      <th>3</th>\n",
       "      <td>3.135494</td>\n",
       "      <td>1.791759</td>\n",
       "      <td>7.377134</td>\n",
       "      <td>6.0</td>\n",
       "      <td>0.0</td>\n",
       "      <td>0.0</td>\n",
       "      <td>0.0</td>\n",
       "      <td>1.0</td>\n",
       "      <td>0.0</td>\n",
       "      <td>0.0</td>\n",
       "      <td>...</td>\n",
       "      <td>0.0</td>\n",
       "      <td>0.0</td>\n",
       "      <td>0.0</td>\n",
       "      <td>0.0</td>\n",
       "      <td>0.0</td>\n",
       "      <td>1.0</td>\n",
       "      <td>0.0</td>\n",
       "      <td>0.0</td>\n",
       "      <td>0.0</td>\n",
       "      <td>3</td>\n",
       "    </tr>\n",
       "    <tr>\n",
       "      <th>4</th>\n",
       "      <td>3.828641</td>\n",
       "      <td>2.079442</td>\n",
       "      <td>7.377134</td>\n",
       "      <td>5.0</td>\n",
       "      <td>0.0</td>\n",
       "      <td>1.0</td>\n",
       "      <td>0.0</td>\n",
       "      <td>0.0</td>\n",
       "      <td>0.0</td>\n",
       "      <td>0.0</td>\n",
       "      <td>...</td>\n",
       "      <td>0.0</td>\n",
       "      <td>0.0</td>\n",
       "      <td>0.0</td>\n",
       "      <td>0.0</td>\n",
       "      <td>0.0</td>\n",
       "      <td>0.0</td>\n",
       "      <td>1.0</td>\n",
       "      <td>0.0</td>\n",
       "      <td>0.0</td>\n",
       "      <td>3</td>\n",
       "    </tr>\n",
       "  </tbody>\n",
       "</table>\n",
       "<p>5 rows × 54 columns</p>\n",
       "</div>\n",
       "    <div class=\"colab-df-buttons\">\n",
       "\n",
       "  <div class=\"colab-df-container\">\n",
       "    <button class=\"colab-df-convert\" onclick=\"convertToInteractive('df-e1a84897-4788-4d21-a495-dad8050828f1')\"\n",
       "            title=\"Convert this dataframe to an interactive table.\"\n",
       "            style=\"display:none;\">\n",
       "\n",
       "  <svg xmlns=\"http://www.w3.org/2000/svg\" height=\"24px\" viewBox=\"0 -960 960 960\">\n",
       "    <path d=\"M120-120v-720h720v720H120Zm60-500h600v-160H180v160Zm220 220h160v-160H400v160Zm0 220h160v-160H400v160ZM180-400h160v-160H180v160Zm440 0h160v-160H620v160ZM180-180h160v-160H180v160Zm440 0h160v-160H620v160Z\"/>\n",
       "  </svg>\n",
       "    </button>\n",
       "\n",
       "  <style>\n",
       "    .colab-df-container {\n",
       "      display:flex;\n",
       "      gap: 12px;\n",
       "    }\n",
       "\n",
       "    .colab-df-convert {\n",
       "      background-color: #E8F0FE;\n",
       "      border: none;\n",
       "      border-radius: 50%;\n",
       "      cursor: pointer;\n",
       "      display: none;\n",
       "      fill: #1967D2;\n",
       "      height: 32px;\n",
       "      padding: 0 0 0 0;\n",
       "      width: 32px;\n",
       "    }\n",
       "\n",
       "    .colab-df-convert:hover {\n",
       "      background-color: #E2EBFA;\n",
       "      box-shadow: 0px 1px 2px rgba(60, 64, 67, 0.3), 0px 1px 3px 1px rgba(60, 64, 67, 0.15);\n",
       "      fill: #174EA6;\n",
       "    }\n",
       "\n",
       "    .colab-df-buttons div {\n",
       "      margin-bottom: 4px;\n",
       "    }\n",
       "\n",
       "    [theme=dark] .colab-df-convert {\n",
       "      background-color: #3B4455;\n",
       "      fill: #D2E3FC;\n",
       "    }\n",
       "\n",
       "    [theme=dark] .colab-df-convert:hover {\n",
       "      background-color: #434B5C;\n",
       "      box-shadow: 0px 1px 3px 1px rgba(0, 0, 0, 0.15);\n",
       "      filter: drop-shadow(0px 1px 2px rgba(0, 0, 0, 0.3));\n",
       "      fill: #FFFFFF;\n",
       "    }\n",
       "  </style>\n",
       "\n",
       "    <script>\n",
       "      const buttonEl =\n",
       "        document.querySelector('#df-e1a84897-4788-4d21-a495-dad8050828f1 button.colab-df-convert');\n",
       "      buttonEl.style.display =\n",
       "        google.colab.kernel.accessAllowed ? 'block' : 'none';\n",
       "\n",
       "      async function convertToInteractive(key) {\n",
       "        const element = document.querySelector('#df-e1a84897-4788-4d21-a495-dad8050828f1');\n",
       "        const dataTable =\n",
       "          await google.colab.kernel.invokeFunction('convertToInteractive',\n",
       "                                                    [key], {});\n",
       "        if (!dataTable) return;\n",
       "\n",
       "        const docLinkHtml = 'Like what you see? Visit the ' +\n",
       "          '<a target=\"_blank\" href=https://colab.research.google.com/notebooks/data_table.ipynb>data table notebook</a>'\n",
       "          + ' to learn more about interactive tables.';\n",
       "        element.innerHTML = '';\n",
       "        dataTable['output_type'] = 'display_data';\n",
       "        await google.colab.output.renderOutput(dataTable, element);\n",
       "        const docLink = document.createElement('div');\n",
       "        docLink.innerHTML = docLinkHtml;\n",
       "        element.appendChild(docLink);\n",
       "      }\n",
       "    </script>\n",
       "  </div>\n",
       "\n",
       "\n",
       "<div id=\"df-b4a5dd3a-25d0-4d03-a88e-af606c47f2f1\">\n",
       "  <button class=\"colab-df-quickchart\" onclick=\"quickchart('df-b4a5dd3a-25d0-4d03-a88e-af606c47f2f1')\"\n",
       "            title=\"Suggest charts\"\n",
       "            style=\"display:none;\">\n",
       "\n",
       "<svg xmlns=\"http://www.w3.org/2000/svg\" height=\"24px\"viewBox=\"0 0 24 24\"\n",
       "     width=\"24px\">\n",
       "    <g>\n",
       "        <path d=\"M19 3H5c-1.1 0-2 .9-2 2v14c0 1.1.9 2 2 2h14c1.1 0 2-.9 2-2V5c0-1.1-.9-2-2-2zM9 17H7v-7h2v7zm4 0h-2V7h2v10zm4 0h-2v-4h2v4z\"/>\n",
       "    </g>\n",
       "</svg>\n",
       "  </button>\n",
       "\n",
       "<style>\n",
       "  .colab-df-quickchart {\n",
       "      --bg-color: #E8F0FE;\n",
       "      --fill-color: #1967D2;\n",
       "      --hover-bg-color: #E2EBFA;\n",
       "      --hover-fill-color: #174EA6;\n",
       "      --disabled-fill-color: #AAA;\n",
       "      --disabled-bg-color: #DDD;\n",
       "  }\n",
       "\n",
       "  [theme=dark] .colab-df-quickchart {\n",
       "      --bg-color: #3B4455;\n",
       "      --fill-color: #D2E3FC;\n",
       "      --hover-bg-color: #434B5C;\n",
       "      --hover-fill-color: #FFFFFF;\n",
       "      --disabled-bg-color: #3B4455;\n",
       "      --disabled-fill-color: #666;\n",
       "  }\n",
       "\n",
       "  .colab-df-quickchart {\n",
       "    background-color: var(--bg-color);\n",
       "    border: none;\n",
       "    border-radius: 50%;\n",
       "    cursor: pointer;\n",
       "    display: none;\n",
       "    fill: var(--fill-color);\n",
       "    height: 32px;\n",
       "    padding: 0;\n",
       "    width: 32px;\n",
       "  }\n",
       "\n",
       "  .colab-df-quickchart:hover {\n",
       "    background-color: var(--hover-bg-color);\n",
       "    box-shadow: 0 1px 2px rgba(60, 64, 67, 0.3), 0 1px 3px 1px rgba(60, 64, 67, 0.15);\n",
       "    fill: var(--button-hover-fill-color);\n",
       "  }\n",
       "\n",
       "  .colab-df-quickchart-complete:disabled,\n",
       "  .colab-df-quickchart-complete:disabled:hover {\n",
       "    background-color: var(--disabled-bg-color);\n",
       "    fill: var(--disabled-fill-color);\n",
       "    box-shadow: none;\n",
       "  }\n",
       "\n",
       "  .colab-df-spinner {\n",
       "    border: 2px solid var(--fill-color);\n",
       "    border-color: transparent;\n",
       "    border-bottom-color: var(--fill-color);\n",
       "    animation:\n",
       "      spin 1s steps(1) infinite;\n",
       "  }\n",
       "\n",
       "  @keyframes spin {\n",
       "    0% {\n",
       "      border-color: transparent;\n",
       "      border-bottom-color: var(--fill-color);\n",
       "      border-left-color: var(--fill-color);\n",
       "    }\n",
       "    20% {\n",
       "      border-color: transparent;\n",
       "      border-left-color: var(--fill-color);\n",
       "      border-top-color: var(--fill-color);\n",
       "    }\n",
       "    30% {\n",
       "      border-color: transparent;\n",
       "      border-left-color: var(--fill-color);\n",
       "      border-top-color: var(--fill-color);\n",
       "      border-right-color: var(--fill-color);\n",
       "    }\n",
       "    40% {\n",
       "      border-color: transparent;\n",
       "      border-right-color: var(--fill-color);\n",
       "      border-top-color: var(--fill-color);\n",
       "    }\n",
       "    60% {\n",
       "      border-color: transparent;\n",
       "      border-right-color: var(--fill-color);\n",
       "    }\n",
       "    80% {\n",
       "      border-color: transparent;\n",
       "      border-right-color: var(--fill-color);\n",
       "      border-bottom-color: var(--fill-color);\n",
       "    }\n",
       "    90% {\n",
       "      border-color: transparent;\n",
       "      border-bottom-color: var(--fill-color);\n",
       "    }\n",
       "  }\n",
       "</style>\n",
       "\n",
       "  <script>\n",
       "    async function quickchart(key) {\n",
       "      const quickchartButtonEl =\n",
       "        document.querySelector('#' + key + ' button');\n",
       "      quickchartButtonEl.disabled = true;  // To prevent multiple clicks.\n",
       "      quickchartButtonEl.classList.add('colab-df-spinner');\n",
       "      try {\n",
       "        const charts = await google.colab.kernel.invokeFunction(\n",
       "            'suggestCharts', [key], {});\n",
       "      } catch (error) {\n",
       "        console.error('Error during call to suggestCharts:', error);\n",
       "      }\n",
       "      quickchartButtonEl.classList.remove('colab-df-spinner');\n",
       "      quickchartButtonEl.classList.add('colab-df-quickchart-complete');\n",
       "    }\n",
       "    (() => {\n",
       "      let quickchartButtonEl =\n",
       "        document.querySelector('#df-b4a5dd3a-25d0-4d03-a88e-af606c47f2f1 button');\n",
       "      quickchartButtonEl.style.display =\n",
       "        google.colab.kernel.accessAllowed ? 'block' : 'none';\n",
       "    })();\n",
       "  </script>\n",
       "</div>\n",
       "    </div>\n",
       "  </div>\n"
      ],
      "text/plain": [
       "   age_of_driver  age_band_of_driver  engine_capacity_cc  age_of_vehicle  \\\n",
       "0       3.784190            2.079442            7.600902            15.0   \n",
       "1       3.761200            2.079442            4.836282             4.0   \n",
       "2       3.178054            1.791759            7.377134            19.0   \n",
       "3       3.135494            1.791759            7.377134             6.0   \n",
       "4       3.828641            2.079442            7.377134             5.0   \n",
       "\n",
       "   sex_of_driver_Male  journey_purpose_of_driver_Journey as part of work  \\\n",
       "0                 0.0                                                0.0   \n",
       "1                 1.0                                                0.0   \n",
       "2                 0.0                                                0.0   \n",
       "3                 0.0                                                0.0   \n",
       "4                 0.0                                                1.0   \n",
       "\n",
       "   journey_purpose_of_driver_Not known  journey_purpose_of_driver_Other  \\\n",
       "0                                  0.0                              0.0   \n",
       "1                                  1.0                              0.0   \n",
       "2                                  0.0                              0.0   \n",
       "3                                  0.0                              1.0   \n",
       "4                                  0.0                              0.0   \n",
       "\n",
       "   journey_purpose_of_driver_Pupil riding to/from school  \\\n",
       "0                                                0.0       \n",
       "1                                                0.0       \n",
       "2                                                0.0       \n",
       "3                                                0.0       \n",
       "4                                                0.0       \n",
       "\n",
       "   journey_purpose_of_driver_Taking pupil to/from school  ...  model_SEAT  \\\n",
       "0                                                0.0      ...         0.0   \n",
       "1                                                0.0      ...         0.0   \n",
       "2                                                0.0      ...         0.0   \n",
       "3                                                0.0      ...         0.0   \n",
       "4                                                0.0      ...         0.0   \n",
       "\n",
       "   model_SKODA  model_SUZUKI  model_TOYOTA  model_TRIUMPH  model_VAUXHALL  \\\n",
       "0          0.0           0.0           0.0            0.0             0.0   \n",
       "1          0.0           0.0           0.0            0.0             0.0   \n",
       "2          0.0           0.0           0.0            0.0             0.0   \n",
       "3          0.0           0.0           0.0            0.0             1.0   \n",
       "4          0.0           0.0           0.0            0.0             0.0   \n",
       "\n",
       "   model_VOLKSWAGEN  model_VOLVO  model_YAMAHA  accident_severity  \n",
       "0               0.0          0.0           0.0                  3  \n",
       "1               0.0          0.0           0.0                  3  \n",
       "2               0.0          0.0           0.0                  3  \n",
       "3               0.0          0.0           0.0                  3  \n",
       "4               1.0          0.0           0.0                  3  \n",
       "\n",
       "[5 rows x 54 columns]"
      ]
     },
     "execution_count": 148,
     "metadata": {},
     "output_type": "execute_result"
    }
   ],
   "source": [
    "# Load the data\n",
    "df1 = pd.read_csv(\"trainset_BD.csv\")\n",
    "\n",
    "df1.head()"
   ]
  },
  {
   "cell_type": "markdown",
   "metadata": {
    "id": "Y9iM2av3UmVD"
   },
   "source": [
    "The test data is also loaded."
   ]
  },
  {
   "cell_type": "code",
   "execution_count": 149,
   "metadata": {
    "colab": {
     "base_uri": "https://localhost:8080/",
     "height": 272
    },
    "id": "m5KCttUx9tL8",
    "outputId": "c8dcbe0a-3547-4c4f-96f1-5664ccac5a3f"
   },
   "outputs": [
    {
     "data": {
      "application/vnd.google.colaboratory.intrinsic+json": {
       "type": "dataframe",
       "variable_name": "df2"
      },
      "text/html": [
       "\n",
       "  <div id=\"df-0dda66e9-be38-4fb6-87fd-412869f25096\" class=\"colab-df-container\">\n",
       "    <div>\n",
       "<style scoped>\n",
       "    .dataframe tbody tr th:only-of-type {\n",
       "        vertical-align: middle;\n",
       "    }\n",
       "\n",
       "    .dataframe tbody tr th {\n",
       "        vertical-align: top;\n",
       "    }\n",
       "\n",
       "    .dataframe thead th {\n",
       "        text-align: right;\n",
       "    }\n",
       "</style>\n",
       "<table border=\"1\" class=\"dataframe\">\n",
       "  <thead>\n",
       "    <tr style=\"text-align: right;\">\n",
       "      <th></th>\n",
       "      <th>age_of_driver</th>\n",
       "      <th>age_band_of_driver</th>\n",
       "      <th>engine_capacity_cc</th>\n",
       "      <th>age_of_vehicle</th>\n",
       "      <th>sex_of_driver_Male</th>\n",
       "      <th>journey_purpose_of_driver_Journey as part of work</th>\n",
       "      <th>journey_purpose_of_driver_Not known</th>\n",
       "      <th>journey_purpose_of_driver_Other</th>\n",
       "      <th>journey_purpose_of_driver_Pupil riding to/from school</th>\n",
       "      <th>journey_purpose_of_driver_Taking pupil to/from school</th>\n",
       "      <th>...</th>\n",
       "      <th>model_SEAT</th>\n",
       "      <th>model_SKODA</th>\n",
       "      <th>model_SUZUKI</th>\n",
       "      <th>model_TOYOTA</th>\n",
       "      <th>model_TRIUMPH</th>\n",
       "      <th>model_VAUXHALL</th>\n",
       "      <th>model_VOLKSWAGEN</th>\n",
       "      <th>model_VOLVO</th>\n",
       "      <th>model_YAMAHA</th>\n",
       "      <th>accident_severity</th>\n",
       "    </tr>\n",
       "  </thead>\n",
       "  <tbody>\n",
       "    <tr>\n",
       "      <th>0</th>\n",
       "      <td>4.234107</td>\n",
       "      <td>2.397895</td>\n",
       "      <td>7.311886</td>\n",
       "      <td>2.0</td>\n",
       "      <td>0.0</td>\n",
       "      <td>0.0</td>\n",
       "      <td>0.0</td>\n",
       "      <td>1.0</td>\n",
       "      <td>0.0</td>\n",
       "      <td>0.0</td>\n",
       "      <td>...</td>\n",
       "      <td>0.0</td>\n",
       "      <td>0.0</td>\n",
       "      <td>0.0</td>\n",
       "      <td>1.0</td>\n",
       "      <td>0.0</td>\n",
       "      <td>0.0</td>\n",
       "      <td>0.0</td>\n",
       "      <td>0.0</td>\n",
       "      <td>0.0</td>\n",
       "      <td>3</td>\n",
       "    </tr>\n",
       "    <tr>\n",
       "      <th>1</th>\n",
       "      <td>4.007333</td>\n",
       "      <td>2.197225</td>\n",
       "      <td>7.287561</td>\n",
       "      <td>3.0</td>\n",
       "      <td>1.0</td>\n",
       "      <td>1.0</td>\n",
       "      <td>0.0</td>\n",
       "      <td>0.0</td>\n",
       "      <td>0.0</td>\n",
       "      <td>0.0</td>\n",
       "      <td>...</td>\n",
       "      <td>0.0</td>\n",
       "      <td>0.0</td>\n",
       "      <td>0.0</td>\n",
       "      <td>0.0</td>\n",
       "      <td>0.0</td>\n",
       "      <td>0.0</td>\n",
       "      <td>0.0</td>\n",
       "      <td>0.0</td>\n",
       "      <td>0.0</td>\n",
       "      <td>3</td>\n",
       "    </tr>\n",
       "    <tr>\n",
       "      <th>2</th>\n",
       "      <td>3.332205</td>\n",
       "      <td>1.945910</td>\n",
       "      <td>7.493874</td>\n",
       "      <td>14.0</td>\n",
       "      <td>1.0</td>\n",
       "      <td>0.0</td>\n",
       "      <td>1.0</td>\n",
       "      <td>0.0</td>\n",
       "      <td>0.0</td>\n",
       "      <td>0.0</td>\n",
       "      <td>...</td>\n",
       "      <td>0.0</td>\n",
       "      <td>0.0</td>\n",
       "      <td>0.0</td>\n",
       "      <td>0.0</td>\n",
       "      <td>0.0</td>\n",
       "      <td>1.0</td>\n",
       "      <td>0.0</td>\n",
       "      <td>0.0</td>\n",
       "      <td>0.0</td>\n",
       "      <td>2</td>\n",
       "    </tr>\n",
       "    <tr>\n",
       "      <th>3</th>\n",
       "      <td>3.367296</td>\n",
       "      <td>1.945910</td>\n",
       "      <td>7.585281</td>\n",
       "      <td>14.0</td>\n",
       "      <td>1.0</td>\n",
       "      <td>0.0</td>\n",
       "      <td>1.0</td>\n",
       "      <td>0.0</td>\n",
       "      <td>0.0</td>\n",
       "      <td>0.0</td>\n",
       "      <td>...</td>\n",
       "      <td>0.0</td>\n",
       "      <td>0.0</td>\n",
       "      <td>0.0</td>\n",
       "      <td>0.0</td>\n",
       "      <td>0.0</td>\n",
       "      <td>0.0</td>\n",
       "      <td>1.0</td>\n",
       "      <td>0.0</td>\n",
       "      <td>0.0</td>\n",
       "      <td>2</td>\n",
       "    </tr>\n",
       "    <tr>\n",
       "      <th>4</th>\n",
       "      <td>2.944439</td>\n",
       "      <td>1.609438</td>\n",
       "      <td>7.151485</td>\n",
       "      <td>26.0</td>\n",
       "      <td>0.0</td>\n",
       "      <td>0.0</td>\n",
       "      <td>1.0</td>\n",
       "      <td>0.0</td>\n",
       "      <td>0.0</td>\n",
       "      <td>0.0</td>\n",
       "      <td>...</td>\n",
       "      <td>0.0</td>\n",
       "      <td>0.0</td>\n",
       "      <td>0.0</td>\n",
       "      <td>0.0</td>\n",
       "      <td>0.0</td>\n",
       "      <td>0.0</td>\n",
       "      <td>0.0</td>\n",
       "      <td>0.0</td>\n",
       "      <td>0.0</td>\n",
       "      <td>3</td>\n",
       "    </tr>\n",
       "  </tbody>\n",
       "</table>\n",
       "<p>5 rows × 54 columns</p>\n",
       "</div>\n",
       "    <div class=\"colab-df-buttons\">\n",
       "\n",
       "  <div class=\"colab-df-container\">\n",
       "    <button class=\"colab-df-convert\" onclick=\"convertToInteractive('df-0dda66e9-be38-4fb6-87fd-412869f25096')\"\n",
       "            title=\"Convert this dataframe to an interactive table.\"\n",
       "            style=\"display:none;\">\n",
       "\n",
       "  <svg xmlns=\"http://www.w3.org/2000/svg\" height=\"24px\" viewBox=\"0 -960 960 960\">\n",
       "    <path d=\"M120-120v-720h720v720H120Zm60-500h600v-160H180v160Zm220 220h160v-160H400v160Zm0 220h160v-160H400v160ZM180-400h160v-160H180v160Zm440 0h160v-160H620v160ZM180-180h160v-160H180v160Zm440 0h160v-160H620v160Z\"/>\n",
       "  </svg>\n",
       "    </button>\n",
       "\n",
       "  <style>\n",
       "    .colab-df-container {\n",
       "      display:flex;\n",
       "      gap: 12px;\n",
       "    }\n",
       "\n",
       "    .colab-df-convert {\n",
       "      background-color: #E8F0FE;\n",
       "      border: none;\n",
       "      border-radius: 50%;\n",
       "      cursor: pointer;\n",
       "      display: none;\n",
       "      fill: #1967D2;\n",
       "      height: 32px;\n",
       "      padding: 0 0 0 0;\n",
       "      width: 32px;\n",
       "    }\n",
       "\n",
       "    .colab-df-convert:hover {\n",
       "      background-color: #E2EBFA;\n",
       "      box-shadow: 0px 1px 2px rgba(60, 64, 67, 0.3), 0px 1px 3px 1px rgba(60, 64, 67, 0.15);\n",
       "      fill: #174EA6;\n",
       "    }\n",
       "\n",
       "    .colab-df-buttons div {\n",
       "      margin-bottom: 4px;\n",
       "    }\n",
       "\n",
       "    [theme=dark] .colab-df-convert {\n",
       "      background-color: #3B4455;\n",
       "      fill: #D2E3FC;\n",
       "    }\n",
       "\n",
       "    [theme=dark] .colab-df-convert:hover {\n",
       "      background-color: #434B5C;\n",
       "      box-shadow: 0px 1px 3px 1px rgba(0, 0, 0, 0.15);\n",
       "      filter: drop-shadow(0px 1px 2px rgba(0, 0, 0, 0.3));\n",
       "      fill: #FFFFFF;\n",
       "    }\n",
       "  </style>\n",
       "\n",
       "    <script>\n",
       "      const buttonEl =\n",
       "        document.querySelector('#df-0dda66e9-be38-4fb6-87fd-412869f25096 button.colab-df-convert');\n",
       "      buttonEl.style.display =\n",
       "        google.colab.kernel.accessAllowed ? 'block' : 'none';\n",
       "\n",
       "      async function convertToInteractive(key) {\n",
       "        const element = document.querySelector('#df-0dda66e9-be38-4fb6-87fd-412869f25096');\n",
       "        const dataTable =\n",
       "          await google.colab.kernel.invokeFunction('convertToInteractive',\n",
       "                                                    [key], {});\n",
       "        if (!dataTable) return;\n",
       "\n",
       "        const docLinkHtml = 'Like what you see? Visit the ' +\n",
       "          '<a target=\"_blank\" href=https://colab.research.google.com/notebooks/data_table.ipynb>data table notebook</a>'\n",
       "          + ' to learn more about interactive tables.';\n",
       "        element.innerHTML = '';\n",
       "        dataTable['output_type'] = 'display_data';\n",
       "        await google.colab.output.renderOutput(dataTable, element);\n",
       "        const docLink = document.createElement('div');\n",
       "        docLink.innerHTML = docLinkHtml;\n",
       "        element.appendChild(docLink);\n",
       "      }\n",
       "    </script>\n",
       "  </div>\n",
       "\n",
       "\n",
       "<div id=\"df-6cee7a8f-af4b-4461-ab5a-380648847487\">\n",
       "  <button class=\"colab-df-quickchart\" onclick=\"quickchart('df-6cee7a8f-af4b-4461-ab5a-380648847487')\"\n",
       "            title=\"Suggest charts\"\n",
       "            style=\"display:none;\">\n",
       "\n",
       "<svg xmlns=\"http://www.w3.org/2000/svg\" height=\"24px\"viewBox=\"0 0 24 24\"\n",
       "     width=\"24px\">\n",
       "    <g>\n",
       "        <path d=\"M19 3H5c-1.1 0-2 .9-2 2v14c0 1.1.9 2 2 2h14c1.1 0 2-.9 2-2V5c0-1.1-.9-2-2-2zM9 17H7v-7h2v7zm4 0h-2V7h2v10zm4 0h-2v-4h2v4z\"/>\n",
       "    </g>\n",
       "</svg>\n",
       "  </button>\n",
       "\n",
       "<style>\n",
       "  .colab-df-quickchart {\n",
       "      --bg-color: #E8F0FE;\n",
       "      --fill-color: #1967D2;\n",
       "      --hover-bg-color: #E2EBFA;\n",
       "      --hover-fill-color: #174EA6;\n",
       "      --disabled-fill-color: #AAA;\n",
       "      --disabled-bg-color: #DDD;\n",
       "  }\n",
       "\n",
       "  [theme=dark] .colab-df-quickchart {\n",
       "      --bg-color: #3B4455;\n",
       "      --fill-color: #D2E3FC;\n",
       "      --hover-bg-color: #434B5C;\n",
       "      --hover-fill-color: #FFFFFF;\n",
       "      --disabled-bg-color: #3B4455;\n",
       "      --disabled-fill-color: #666;\n",
       "  }\n",
       "\n",
       "  .colab-df-quickchart {\n",
       "    background-color: var(--bg-color);\n",
       "    border: none;\n",
       "    border-radius: 50%;\n",
       "    cursor: pointer;\n",
       "    display: none;\n",
       "    fill: var(--fill-color);\n",
       "    height: 32px;\n",
       "    padding: 0;\n",
       "    width: 32px;\n",
       "  }\n",
       "\n",
       "  .colab-df-quickchart:hover {\n",
       "    background-color: var(--hover-bg-color);\n",
       "    box-shadow: 0 1px 2px rgba(60, 64, 67, 0.3), 0 1px 3px 1px rgba(60, 64, 67, 0.15);\n",
       "    fill: var(--button-hover-fill-color);\n",
       "  }\n",
       "\n",
       "  .colab-df-quickchart-complete:disabled,\n",
       "  .colab-df-quickchart-complete:disabled:hover {\n",
       "    background-color: var(--disabled-bg-color);\n",
       "    fill: var(--disabled-fill-color);\n",
       "    box-shadow: none;\n",
       "  }\n",
       "\n",
       "  .colab-df-spinner {\n",
       "    border: 2px solid var(--fill-color);\n",
       "    border-color: transparent;\n",
       "    border-bottom-color: var(--fill-color);\n",
       "    animation:\n",
       "      spin 1s steps(1) infinite;\n",
       "  }\n",
       "\n",
       "  @keyframes spin {\n",
       "    0% {\n",
       "      border-color: transparent;\n",
       "      border-bottom-color: var(--fill-color);\n",
       "      border-left-color: var(--fill-color);\n",
       "    }\n",
       "    20% {\n",
       "      border-color: transparent;\n",
       "      border-left-color: var(--fill-color);\n",
       "      border-top-color: var(--fill-color);\n",
       "    }\n",
       "    30% {\n",
       "      border-color: transparent;\n",
       "      border-left-color: var(--fill-color);\n",
       "      border-top-color: var(--fill-color);\n",
       "      border-right-color: var(--fill-color);\n",
       "    }\n",
       "    40% {\n",
       "      border-color: transparent;\n",
       "      border-right-color: var(--fill-color);\n",
       "      border-top-color: var(--fill-color);\n",
       "    }\n",
       "    60% {\n",
       "      border-color: transparent;\n",
       "      border-right-color: var(--fill-color);\n",
       "    }\n",
       "    80% {\n",
       "      border-color: transparent;\n",
       "      border-right-color: var(--fill-color);\n",
       "      border-bottom-color: var(--fill-color);\n",
       "    }\n",
       "    90% {\n",
       "      border-color: transparent;\n",
       "      border-bottom-color: var(--fill-color);\n",
       "    }\n",
       "  }\n",
       "</style>\n",
       "\n",
       "  <script>\n",
       "    async function quickchart(key) {\n",
       "      const quickchartButtonEl =\n",
       "        document.querySelector('#' + key + ' button');\n",
       "      quickchartButtonEl.disabled = true;  // To prevent multiple clicks.\n",
       "      quickchartButtonEl.classList.add('colab-df-spinner');\n",
       "      try {\n",
       "        const charts = await google.colab.kernel.invokeFunction(\n",
       "            'suggestCharts', [key], {});\n",
       "      } catch (error) {\n",
       "        console.error('Error during call to suggestCharts:', error);\n",
       "      }\n",
       "      quickchartButtonEl.classList.remove('colab-df-spinner');\n",
       "      quickchartButtonEl.classList.add('colab-df-quickchart-complete');\n",
       "    }\n",
       "    (() => {\n",
       "      let quickchartButtonEl =\n",
       "        document.querySelector('#df-6cee7a8f-af4b-4461-ab5a-380648847487 button');\n",
       "      quickchartButtonEl.style.display =\n",
       "        google.colab.kernel.accessAllowed ? 'block' : 'none';\n",
       "    })();\n",
       "  </script>\n",
       "</div>\n",
       "    </div>\n",
       "  </div>\n"
      ],
      "text/plain": [
       "   age_of_driver  age_band_of_driver  engine_capacity_cc  age_of_vehicle  \\\n",
       "0       4.234107            2.397895            7.311886             2.0   \n",
       "1       4.007333            2.197225            7.287561             3.0   \n",
       "2       3.332205            1.945910            7.493874            14.0   \n",
       "3       3.367296            1.945910            7.585281            14.0   \n",
       "4       2.944439            1.609438            7.151485            26.0   \n",
       "\n",
       "   sex_of_driver_Male  journey_purpose_of_driver_Journey as part of work  \\\n",
       "0                 0.0                                                0.0   \n",
       "1                 1.0                                                1.0   \n",
       "2                 1.0                                                0.0   \n",
       "3                 1.0                                                0.0   \n",
       "4                 0.0                                                0.0   \n",
       "\n",
       "   journey_purpose_of_driver_Not known  journey_purpose_of_driver_Other  \\\n",
       "0                                  0.0                              1.0   \n",
       "1                                  0.0                              0.0   \n",
       "2                                  1.0                              0.0   \n",
       "3                                  1.0                              0.0   \n",
       "4                                  1.0                              0.0   \n",
       "\n",
       "   journey_purpose_of_driver_Pupil riding to/from school  \\\n",
       "0                                                0.0       \n",
       "1                                                0.0       \n",
       "2                                                0.0       \n",
       "3                                                0.0       \n",
       "4                                                0.0       \n",
       "\n",
       "   journey_purpose_of_driver_Taking pupil to/from school  ...  model_SEAT  \\\n",
       "0                                                0.0      ...         0.0   \n",
       "1                                                0.0      ...         0.0   \n",
       "2                                                0.0      ...         0.0   \n",
       "3                                                0.0      ...         0.0   \n",
       "4                                                0.0      ...         0.0   \n",
       "\n",
       "   model_SKODA  model_SUZUKI  model_TOYOTA  model_TRIUMPH  model_VAUXHALL  \\\n",
       "0          0.0           0.0           1.0            0.0             0.0   \n",
       "1          0.0           0.0           0.0            0.0             0.0   \n",
       "2          0.0           0.0           0.0            0.0             1.0   \n",
       "3          0.0           0.0           0.0            0.0             0.0   \n",
       "4          0.0           0.0           0.0            0.0             0.0   \n",
       "\n",
       "   model_VOLKSWAGEN  model_VOLVO  model_YAMAHA  accident_severity  \n",
       "0               0.0          0.0           0.0                  3  \n",
       "1               0.0          0.0           0.0                  3  \n",
       "2               0.0          0.0           0.0                  2  \n",
       "3               1.0          0.0           0.0                  2  \n",
       "4               0.0          0.0           0.0                  3  \n",
       "\n",
       "[5 rows x 54 columns]"
      ]
     },
     "execution_count": 149,
     "metadata": {},
     "output_type": "execute_result"
    }
   ],
   "source": [
    "# Load the data\n",
    "df2 = pd.read_csv(\"testset_BD.csv\")\n",
    "\n",
    "df2.head()"
   ]
  },
  {
   "cell_type": "markdown",
   "metadata": {
    "id": "evHcs_9yUqpj"
   },
   "source": [
    "The below code shows us that there are 7510 rows and 54 columns in dataset (These 53 columns are obtained after creating dummy variables)"
   ]
  },
  {
   "cell_type": "code",
   "execution_count": 150,
   "metadata": {
    "colab": {
     "base_uri": "https://localhost:8080/"
    },
    "id": "OPGkp9zl9tL8",
    "outputId": "a470527b-859d-44c3-9c42-f7f0ac86eb55"
   },
   "outputs": [
    {
     "name": "stdout",
     "output_type": "stream",
     "text": [
      "(7510, 54)\n",
      "(1886, 54)\n"
     ]
    }
   ],
   "source": [
    "#print the number of rows and columns\n",
    "print(df1.shape)\n",
    "print(df2.shape)"
   ]
  },
  {
   "cell_type": "markdown",
   "metadata": {
    "id": "kshURRHpU9UF"
   },
   "source": [
    "Combining the dataset to used stratified split command"
   ]
  },
  {
   "cell_type": "code",
   "execution_count": 151,
   "metadata": {
    "id": "8r28rVQ49tL9"
   },
   "outputs": [],
   "source": [
    "# Combining dataset to perform stratified split\n",
    "df = pd.concat([df1, df2], axis=0)"
   ]
  },
  {
   "cell_type": "code",
   "execution_count": 152,
   "metadata": {
    "colab": {
     "base_uri": "https://localhost:8080/"
    },
    "id": "UhbXp_OG9tL9",
    "outputId": "70c54654-bf5b-49c6-a62d-65628baf90d9"
   },
   "outputs": [
    {
     "data": {
      "text/plain": [
       "(9396, 54)"
      ]
     },
     "execution_count": 152,
     "metadata": {},
     "output_type": "execute_result"
    }
   ],
   "source": [
    "df.shape"
   ]
  },
  {
   "cell_type": "markdown",
   "metadata": {
    "id": "botJLK0t81CS"
   },
   "source": [
    "Making sure the indexing is done properly"
   ]
  },
  {
   "cell_type": "code",
   "execution_count": 153,
   "metadata": {
    "id": "nZOYLPBO9tL9"
   },
   "outputs": [],
   "source": [
    "#reset index\n",
    "df.reset_index(drop=True, inplace=True)\n"
   ]
  },
  {
   "cell_type": "code",
   "execution_count": 154,
   "metadata": {
    "colab": {
     "base_uri": "https://localhost:8080/",
     "height": 461
    },
    "id": "AyT_rTpR9tL9",
    "outputId": "01cd2ed2-f0b7-4868-d054-e65120f966e6"
   },
   "outputs": [
    {
     "data": {
      "application/vnd.google.colaboratory.intrinsic+json": {
       "type": "dataframe",
       "variable_name": "df"
      },
      "text/html": [
       "\n",
       "  <div id=\"df-7253f398-a0f3-401d-81bb-b1e78577ddc4\" class=\"colab-df-container\">\n",
       "    <div>\n",
       "<style scoped>\n",
       "    .dataframe tbody tr th:only-of-type {\n",
       "        vertical-align: middle;\n",
       "    }\n",
       "\n",
       "    .dataframe tbody tr th {\n",
       "        vertical-align: top;\n",
       "    }\n",
       "\n",
       "    .dataframe thead th {\n",
       "        text-align: right;\n",
       "    }\n",
       "</style>\n",
       "<table border=\"1\" class=\"dataframe\">\n",
       "  <thead>\n",
       "    <tr style=\"text-align: right;\">\n",
       "      <th></th>\n",
       "      <th>age_of_driver</th>\n",
       "      <th>age_band_of_driver</th>\n",
       "      <th>engine_capacity_cc</th>\n",
       "      <th>age_of_vehicle</th>\n",
       "      <th>sex_of_driver_Male</th>\n",
       "      <th>journey_purpose_of_driver_Journey as part of work</th>\n",
       "      <th>journey_purpose_of_driver_Not known</th>\n",
       "      <th>journey_purpose_of_driver_Other</th>\n",
       "      <th>journey_purpose_of_driver_Pupil riding to/from school</th>\n",
       "      <th>journey_purpose_of_driver_Taking pupil to/from school</th>\n",
       "      <th>...</th>\n",
       "      <th>model_SEAT</th>\n",
       "      <th>model_SKODA</th>\n",
       "      <th>model_SUZUKI</th>\n",
       "      <th>model_TOYOTA</th>\n",
       "      <th>model_TRIUMPH</th>\n",
       "      <th>model_VAUXHALL</th>\n",
       "      <th>model_VOLKSWAGEN</th>\n",
       "      <th>model_VOLVO</th>\n",
       "      <th>model_YAMAHA</th>\n",
       "      <th>accident_severity</th>\n",
       "    </tr>\n",
       "  </thead>\n",
       "  <tbody>\n",
       "    <tr>\n",
       "      <th>0</th>\n",
       "      <td>3.784190</td>\n",
       "      <td>2.079442</td>\n",
       "      <td>7.600902</td>\n",
       "      <td>15.0</td>\n",
       "      <td>0.0</td>\n",
       "      <td>0.0</td>\n",
       "      <td>0.0</td>\n",
       "      <td>0.0</td>\n",
       "      <td>0.0</td>\n",
       "      <td>0.0</td>\n",
       "      <td>...</td>\n",
       "      <td>0.0</td>\n",
       "      <td>0.0</td>\n",
       "      <td>0.0</td>\n",
       "      <td>0.0</td>\n",
       "      <td>0.0</td>\n",
       "      <td>0.0</td>\n",
       "      <td>0.0</td>\n",
       "      <td>0.0</td>\n",
       "      <td>0.0</td>\n",
       "      <td>3</td>\n",
       "    </tr>\n",
       "    <tr>\n",
       "      <th>1</th>\n",
       "      <td>3.761200</td>\n",
       "      <td>2.079442</td>\n",
       "      <td>4.836282</td>\n",
       "      <td>4.0</td>\n",
       "      <td>1.0</td>\n",
       "      <td>0.0</td>\n",
       "      <td>1.0</td>\n",
       "      <td>0.0</td>\n",
       "      <td>0.0</td>\n",
       "      <td>0.0</td>\n",
       "      <td>...</td>\n",
       "      <td>0.0</td>\n",
       "      <td>0.0</td>\n",
       "      <td>0.0</td>\n",
       "      <td>0.0</td>\n",
       "      <td>0.0</td>\n",
       "      <td>0.0</td>\n",
       "      <td>0.0</td>\n",
       "      <td>0.0</td>\n",
       "      <td>0.0</td>\n",
       "      <td>3</td>\n",
       "    </tr>\n",
       "    <tr>\n",
       "      <th>2</th>\n",
       "      <td>3.178054</td>\n",
       "      <td>1.791759</td>\n",
       "      <td>7.377134</td>\n",
       "      <td>19.0</td>\n",
       "      <td>0.0</td>\n",
       "      <td>0.0</td>\n",
       "      <td>0.0</td>\n",
       "      <td>0.0</td>\n",
       "      <td>0.0</td>\n",
       "      <td>0.0</td>\n",
       "      <td>...</td>\n",
       "      <td>0.0</td>\n",
       "      <td>0.0</td>\n",
       "      <td>0.0</td>\n",
       "      <td>0.0</td>\n",
       "      <td>0.0</td>\n",
       "      <td>0.0</td>\n",
       "      <td>0.0</td>\n",
       "      <td>0.0</td>\n",
       "      <td>0.0</td>\n",
       "      <td>3</td>\n",
       "    </tr>\n",
       "    <tr>\n",
       "      <th>3</th>\n",
       "      <td>3.135494</td>\n",
       "      <td>1.791759</td>\n",
       "      <td>7.377134</td>\n",
       "      <td>6.0</td>\n",
       "      <td>0.0</td>\n",
       "      <td>0.0</td>\n",
       "      <td>0.0</td>\n",
       "      <td>1.0</td>\n",
       "      <td>0.0</td>\n",
       "      <td>0.0</td>\n",
       "      <td>...</td>\n",
       "      <td>0.0</td>\n",
       "      <td>0.0</td>\n",
       "      <td>0.0</td>\n",
       "      <td>0.0</td>\n",
       "      <td>0.0</td>\n",
       "      <td>1.0</td>\n",
       "      <td>0.0</td>\n",
       "      <td>0.0</td>\n",
       "      <td>0.0</td>\n",
       "      <td>3</td>\n",
       "    </tr>\n",
       "    <tr>\n",
       "      <th>4</th>\n",
       "      <td>3.828641</td>\n",
       "      <td>2.079442</td>\n",
       "      <td>7.377134</td>\n",
       "      <td>5.0</td>\n",
       "      <td>0.0</td>\n",
       "      <td>1.0</td>\n",
       "      <td>0.0</td>\n",
       "      <td>0.0</td>\n",
       "      <td>0.0</td>\n",
       "      <td>0.0</td>\n",
       "      <td>...</td>\n",
       "      <td>0.0</td>\n",
       "      <td>0.0</td>\n",
       "      <td>0.0</td>\n",
       "      <td>0.0</td>\n",
       "      <td>0.0</td>\n",
       "      <td>0.0</td>\n",
       "      <td>1.0</td>\n",
       "      <td>0.0</td>\n",
       "      <td>0.0</td>\n",
       "      <td>3</td>\n",
       "    </tr>\n",
       "    <tr>\n",
       "      <th>...</th>\n",
       "      <td>...</td>\n",
       "      <td>...</td>\n",
       "      <td>...</td>\n",
       "      <td>...</td>\n",
       "      <td>...</td>\n",
       "      <td>...</td>\n",
       "      <td>...</td>\n",
       "      <td>...</td>\n",
       "      <td>...</td>\n",
       "      <td>...</td>\n",
       "      <td>...</td>\n",
       "      <td>...</td>\n",
       "      <td>...</td>\n",
       "      <td>...</td>\n",
       "      <td>...</td>\n",
       "      <td>...</td>\n",
       "      <td>...</td>\n",
       "      <td>...</td>\n",
       "      <td>...</td>\n",
       "      <td>...</td>\n",
       "      <td>...</td>\n",
       "    </tr>\n",
       "    <tr>\n",
       "      <th>9391</th>\n",
       "      <td>4.025352</td>\n",
       "      <td>2.197225</td>\n",
       "      <td>7.125283</td>\n",
       "      <td>8.0</td>\n",
       "      <td>0.0</td>\n",
       "      <td>0.0</td>\n",
       "      <td>1.0</td>\n",
       "      <td>0.0</td>\n",
       "      <td>0.0</td>\n",
       "      <td>0.0</td>\n",
       "      <td>...</td>\n",
       "      <td>0.0</td>\n",
       "      <td>0.0</td>\n",
       "      <td>0.0</td>\n",
       "      <td>0.0</td>\n",
       "      <td>0.0</td>\n",
       "      <td>0.0</td>\n",
       "      <td>0.0</td>\n",
       "      <td>0.0</td>\n",
       "      <td>0.0</td>\n",
       "      <td>3</td>\n",
       "    </tr>\n",
       "    <tr>\n",
       "      <th>9392</th>\n",
       "      <td>4.007333</td>\n",
       "      <td>2.197225</td>\n",
       "      <td>8.517193</td>\n",
       "      <td>3.0</td>\n",
       "      <td>0.0</td>\n",
       "      <td>0.0</td>\n",
       "      <td>1.0</td>\n",
       "      <td>0.0</td>\n",
       "      <td>0.0</td>\n",
       "      <td>0.0</td>\n",
       "      <td>...</td>\n",
       "      <td>0.0</td>\n",
       "      <td>0.0</td>\n",
       "      <td>0.0</td>\n",
       "      <td>0.0</td>\n",
       "      <td>0.0</td>\n",
       "      <td>0.0</td>\n",
       "      <td>0.0</td>\n",
       "      <td>0.0</td>\n",
       "      <td>0.0</td>\n",
       "      <td>3</td>\n",
       "    </tr>\n",
       "    <tr>\n",
       "      <th>9393</th>\n",
       "      <td>3.496508</td>\n",
       "      <td>1.945910</td>\n",
       "      <td>6.396930</td>\n",
       "      <td>8.0</td>\n",
       "      <td>1.0</td>\n",
       "      <td>0.0</td>\n",
       "      <td>1.0</td>\n",
       "      <td>0.0</td>\n",
       "      <td>0.0</td>\n",
       "      <td>0.0</td>\n",
       "      <td>...</td>\n",
       "      <td>0.0</td>\n",
       "      <td>0.0</td>\n",
       "      <td>1.0</td>\n",
       "      <td>0.0</td>\n",
       "      <td>0.0</td>\n",
       "      <td>0.0</td>\n",
       "      <td>0.0</td>\n",
       "      <td>0.0</td>\n",
       "      <td>0.0</td>\n",
       "      <td>2</td>\n",
       "    </tr>\n",
       "    <tr>\n",
       "      <th>9394</th>\n",
       "      <td>4.234107</td>\n",
       "      <td>2.397895</td>\n",
       "      <td>7.600402</td>\n",
       "      <td>18.0</td>\n",
       "      <td>1.0</td>\n",
       "      <td>0.0</td>\n",
       "      <td>0.0</td>\n",
       "      <td>1.0</td>\n",
       "      <td>0.0</td>\n",
       "      <td>0.0</td>\n",
       "      <td>...</td>\n",
       "      <td>0.0</td>\n",
       "      <td>0.0</td>\n",
       "      <td>0.0</td>\n",
       "      <td>0.0</td>\n",
       "      <td>0.0</td>\n",
       "      <td>0.0</td>\n",
       "      <td>0.0</td>\n",
       "      <td>0.0</td>\n",
       "      <td>0.0</td>\n",
       "      <td>2</td>\n",
       "    </tr>\n",
       "    <tr>\n",
       "      <th>9395</th>\n",
       "      <td>4.094345</td>\n",
       "      <td>2.302585</td>\n",
       "      <td>7.241366</td>\n",
       "      <td>6.0</td>\n",
       "      <td>0.0</td>\n",
       "      <td>0.0</td>\n",
       "      <td>0.0</td>\n",
       "      <td>1.0</td>\n",
       "      <td>0.0</td>\n",
       "      <td>0.0</td>\n",
       "      <td>...</td>\n",
       "      <td>0.0</td>\n",
       "      <td>0.0</td>\n",
       "      <td>0.0</td>\n",
       "      <td>0.0</td>\n",
       "      <td>0.0</td>\n",
       "      <td>0.0</td>\n",
       "      <td>1.0</td>\n",
       "      <td>0.0</td>\n",
       "      <td>0.0</td>\n",
       "      <td>3</td>\n",
       "    </tr>\n",
       "  </tbody>\n",
       "</table>\n",
       "<p>9396 rows × 54 columns</p>\n",
       "</div>\n",
       "    <div class=\"colab-df-buttons\">\n",
       "\n",
       "  <div class=\"colab-df-container\">\n",
       "    <button class=\"colab-df-convert\" onclick=\"convertToInteractive('df-7253f398-a0f3-401d-81bb-b1e78577ddc4')\"\n",
       "            title=\"Convert this dataframe to an interactive table.\"\n",
       "            style=\"display:none;\">\n",
       "\n",
       "  <svg xmlns=\"http://www.w3.org/2000/svg\" height=\"24px\" viewBox=\"0 -960 960 960\">\n",
       "    <path d=\"M120-120v-720h720v720H120Zm60-500h600v-160H180v160Zm220 220h160v-160H400v160Zm0 220h160v-160H400v160ZM180-400h160v-160H180v160Zm440 0h160v-160H620v160ZM180-180h160v-160H180v160Zm440 0h160v-160H620v160Z\"/>\n",
       "  </svg>\n",
       "    </button>\n",
       "\n",
       "  <style>\n",
       "    .colab-df-container {\n",
       "      display:flex;\n",
       "      gap: 12px;\n",
       "    }\n",
       "\n",
       "    .colab-df-convert {\n",
       "      background-color: #E8F0FE;\n",
       "      border: none;\n",
       "      border-radius: 50%;\n",
       "      cursor: pointer;\n",
       "      display: none;\n",
       "      fill: #1967D2;\n",
       "      height: 32px;\n",
       "      padding: 0 0 0 0;\n",
       "      width: 32px;\n",
       "    }\n",
       "\n",
       "    .colab-df-convert:hover {\n",
       "      background-color: #E2EBFA;\n",
       "      box-shadow: 0px 1px 2px rgba(60, 64, 67, 0.3), 0px 1px 3px 1px rgba(60, 64, 67, 0.15);\n",
       "      fill: #174EA6;\n",
       "    }\n",
       "\n",
       "    .colab-df-buttons div {\n",
       "      margin-bottom: 4px;\n",
       "    }\n",
       "\n",
       "    [theme=dark] .colab-df-convert {\n",
       "      background-color: #3B4455;\n",
       "      fill: #D2E3FC;\n",
       "    }\n",
       "\n",
       "    [theme=dark] .colab-df-convert:hover {\n",
       "      background-color: #434B5C;\n",
       "      box-shadow: 0px 1px 3px 1px rgba(0, 0, 0, 0.15);\n",
       "      filter: drop-shadow(0px 1px 2px rgba(0, 0, 0, 0.3));\n",
       "      fill: #FFFFFF;\n",
       "    }\n",
       "  </style>\n",
       "\n",
       "    <script>\n",
       "      const buttonEl =\n",
       "        document.querySelector('#df-7253f398-a0f3-401d-81bb-b1e78577ddc4 button.colab-df-convert');\n",
       "      buttonEl.style.display =\n",
       "        google.colab.kernel.accessAllowed ? 'block' : 'none';\n",
       "\n",
       "      async function convertToInteractive(key) {\n",
       "        const element = document.querySelector('#df-7253f398-a0f3-401d-81bb-b1e78577ddc4');\n",
       "        const dataTable =\n",
       "          await google.colab.kernel.invokeFunction('convertToInteractive',\n",
       "                                                    [key], {});\n",
       "        if (!dataTable) return;\n",
       "\n",
       "        const docLinkHtml = 'Like what you see? Visit the ' +\n",
       "          '<a target=\"_blank\" href=https://colab.research.google.com/notebooks/data_table.ipynb>data table notebook</a>'\n",
       "          + ' to learn more about interactive tables.';\n",
       "        element.innerHTML = '';\n",
       "        dataTable['output_type'] = 'display_data';\n",
       "        await google.colab.output.renderOutput(dataTable, element);\n",
       "        const docLink = document.createElement('div');\n",
       "        docLink.innerHTML = docLinkHtml;\n",
       "        element.appendChild(docLink);\n",
       "      }\n",
       "    </script>\n",
       "  </div>\n",
       "\n",
       "\n",
       "<div id=\"df-8016d40f-76d8-484a-a1e7-4c1c4b4c29f8\">\n",
       "  <button class=\"colab-df-quickchart\" onclick=\"quickchart('df-8016d40f-76d8-484a-a1e7-4c1c4b4c29f8')\"\n",
       "            title=\"Suggest charts\"\n",
       "            style=\"display:none;\">\n",
       "\n",
       "<svg xmlns=\"http://www.w3.org/2000/svg\" height=\"24px\"viewBox=\"0 0 24 24\"\n",
       "     width=\"24px\">\n",
       "    <g>\n",
       "        <path d=\"M19 3H5c-1.1 0-2 .9-2 2v14c0 1.1.9 2 2 2h14c1.1 0 2-.9 2-2V5c0-1.1-.9-2-2-2zM9 17H7v-7h2v7zm4 0h-2V7h2v10zm4 0h-2v-4h2v4z\"/>\n",
       "    </g>\n",
       "</svg>\n",
       "  </button>\n",
       "\n",
       "<style>\n",
       "  .colab-df-quickchart {\n",
       "      --bg-color: #E8F0FE;\n",
       "      --fill-color: #1967D2;\n",
       "      --hover-bg-color: #E2EBFA;\n",
       "      --hover-fill-color: #174EA6;\n",
       "      --disabled-fill-color: #AAA;\n",
       "      --disabled-bg-color: #DDD;\n",
       "  }\n",
       "\n",
       "  [theme=dark] .colab-df-quickchart {\n",
       "      --bg-color: #3B4455;\n",
       "      --fill-color: #D2E3FC;\n",
       "      --hover-bg-color: #434B5C;\n",
       "      --hover-fill-color: #FFFFFF;\n",
       "      --disabled-bg-color: #3B4455;\n",
       "      --disabled-fill-color: #666;\n",
       "  }\n",
       "\n",
       "  .colab-df-quickchart {\n",
       "    background-color: var(--bg-color);\n",
       "    border: none;\n",
       "    border-radius: 50%;\n",
       "    cursor: pointer;\n",
       "    display: none;\n",
       "    fill: var(--fill-color);\n",
       "    height: 32px;\n",
       "    padding: 0;\n",
       "    width: 32px;\n",
       "  }\n",
       "\n",
       "  .colab-df-quickchart:hover {\n",
       "    background-color: var(--hover-bg-color);\n",
       "    box-shadow: 0 1px 2px rgba(60, 64, 67, 0.3), 0 1px 3px 1px rgba(60, 64, 67, 0.15);\n",
       "    fill: var(--button-hover-fill-color);\n",
       "  }\n",
       "\n",
       "  .colab-df-quickchart-complete:disabled,\n",
       "  .colab-df-quickchart-complete:disabled:hover {\n",
       "    background-color: var(--disabled-bg-color);\n",
       "    fill: var(--disabled-fill-color);\n",
       "    box-shadow: none;\n",
       "  }\n",
       "\n",
       "  .colab-df-spinner {\n",
       "    border: 2px solid var(--fill-color);\n",
       "    border-color: transparent;\n",
       "    border-bottom-color: var(--fill-color);\n",
       "    animation:\n",
       "      spin 1s steps(1) infinite;\n",
       "  }\n",
       "\n",
       "  @keyframes spin {\n",
       "    0% {\n",
       "      border-color: transparent;\n",
       "      border-bottom-color: var(--fill-color);\n",
       "      border-left-color: var(--fill-color);\n",
       "    }\n",
       "    20% {\n",
       "      border-color: transparent;\n",
       "      border-left-color: var(--fill-color);\n",
       "      border-top-color: var(--fill-color);\n",
       "    }\n",
       "    30% {\n",
       "      border-color: transparent;\n",
       "      border-left-color: var(--fill-color);\n",
       "      border-top-color: var(--fill-color);\n",
       "      border-right-color: var(--fill-color);\n",
       "    }\n",
       "    40% {\n",
       "      border-color: transparent;\n",
       "      border-right-color: var(--fill-color);\n",
       "      border-top-color: var(--fill-color);\n",
       "    }\n",
       "    60% {\n",
       "      border-color: transparent;\n",
       "      border-right-color: var(--fill-color);\n",
       "    }\n",
       "    80% {\n",
       "      border-color: transparent;\n",
       "      border-right-color: var(--fill-color);\n",
       "      border-bottom-color: var(--fill-color);\n",
       "    }\n",
       "    90% {\n",
       "      border-color: transparent;\n",
       "      border-bottom-color: var(--fill-color);\n",
       "    }\n",
       "  }\n",
       "</style>\n",
       "\n",
       "  <script>\n",
       "    async function quickchart(key) {\n",
       "      const quickchartButtonEl =\n",
       "        document.querySelector('#' + key + ' button');\n",
       "      quickchartButtonEl.disabled = true;  // To prevent multiple clicks.\n",
       "      quickchartButtonEl.classList.add('colab-df-spinner');\n",
       "      try {\n",
       "        const charts = await google.colab.kernel.invokeFunction(\n",
       "            'suggestCharts', [key], {});\n",
       "      } catch (error) {\n",
       "        console.error('Error during call to suggestCharts:', error);\n",
       "      }\n",
       "      quickchartButtonEl.classList.remove('colab-df-spinner');\n",
       "      quickchartButtonEl.classList.add('colab-df-quickchart-complete');\n",
       "    }\n",
       "    (() => {\n",
       "      let quickchartButtonEl =\n",
       "        document.querySelector('#df-8016d40f-76d8-484a-a1e7-4c1c4b4c29f8 button');\n",
       "      quickchartButtonEl.style.display =\n",
       "        google.colab.kernel.accessAllowed ? 'block' : 'none';\n",
       "    })();\n",
       "  </script>\n",
       "</div>\n",
       "    </div>\n",
       "  </div>\n"
      ],
      "text/plain": [
       "      age_of_driver  age_band_of_driver  engine_capacity_cc  age_of_vehicle  \\\n",
       "0          3.784190            2.079442            7.600902            15.0   \n",
       "1          3.761200            2.079442            4.836282             4.0   \n",
       "2          3.178054            1.791759            7.377134            19.0   \n",
       "3          3.135494            1.791759            7.377134             6.0   \n",
       "4          3.828641            2.079442            7.377134             5.0   \n",
       "...             ...                 ...                 ...             ...   \n",
       "9391       4.025352            2.197225            7.125283             8.0   \n",
       "9392       4.007333            2.197225            8.517193             3.0   \n",
       "9393       3.496508            1.945910            6.396930             8.0   \n",
       "9394       4.234107            2.397895            7.600402            18.0   \n",
       "9395       4.094345            2.302585            7.241366             6.0   \n",
       "\n",
       "      sex_of_driver_Male  journey_purpose_of_driver_Journey as part of work  \\\n",
       "0                    0.0                                                0.0   \n",
       "1                    1.0                                                0.0   \n",
       "2                    0.0                                                0.0   \n",
       "3                    0.0                                                0.0   \n",
       "4                    0.0                                                1.0   \n",
       "...                  ...                                                ...   \n",
       "9391                 0.0                                                0.0   \n",
       "9392                 0.0                                                0.0   \n",
       "9393                 1.0                                                0.0   \n",
       "9394                 1.0                                                0.0   \n",
       "9395                 0.0                                                0.0   \n",
       "\n",
       "      journey_purpose_of_driver_Not known  journey_purpose_of_driver_Other  \\\n",
       "0                                     0.0                              0.0   \n",
       "1                                     1.0                              0.0   \n",
       "2                                     0.0                              0.0   \n",
       "3                                     0.0                              1.0   \n",
       "4                                     0.0                              0.0   \n",
       "...                                   ...                              ...   \n",
       "9391                                  1.0                              0.0   \n",
       "9392                                  1.0                              0.0   \n",
       "9393                                  1.0                              0.0   \n",
       "9394                                  0.0                              1.0   \n",
       "9395                                  0.0                              1.0   \n",
       "\n",
       "      journey_purpose_of_driver_Pupil riding to/from school  \\\n",
       "0                                                   0.0       \n",
       "1                                                   0.0       \n",
       "2                                                   0.0       \n",
       "3                                                   0.0       \n",
       "4                                                   0.0       \n",
       "...                                                 ...       \n",
       "9391                                                0.0       \n",
       "9392                                                0.0       \n",
       "9393                                                0.0       \n",
       "9394                                                0.0       \n",
       "9395                                                0.0       \n",
       "\n",
       "      journey_purpose_of_driver_Taking pupil to/from school  ...  model_SEAT  \\\n",
       "0                                                   0.0      ...         0.0   \n",
       "1                                                   0.0      ...         0.0   \n",
       "2                                                   0.0      ...         0.0   \n",
       "3                                                   0.0      ...         0.0   \n",
       "4                                                   0.0      ...         0.0   \n",
       "...                                                 ...      ...         ...   \n",
       "9391                                                0.0      ...         0.0   \n",
       "9392                                                0.0      ...         0.0   \n",
       "9393                                                0.0      ...         0.0   \n",
       "9394                                                0.0      ...         0.0   \n",
       "9395                                                0.0      ...         0.0   \n",
       "\n",
       "      model_SKODA  model_SUZUKI  model_TOYOTA  model_TRIUMPH  model_VAUXHALL  \\\n",
       "0             0.0           0.0           0.0            0.0             0.0   \n",
       "1             0.0           0.0           0.0            0.0             0.0   \n",
       "2             0.0           0.0           0.0            0.0             0.0   \n",
       "3             0.0           0.0           0.0            0.0             1.0   \n",
       "4             0.0           0.0           0.0            0.0             0.0   \n",
       "...           ...           ...           ...            ...             ...   \n",
       "9391          0.0           0.0           0.0            0.0             0.0   \n",
       "9392          0.0           0.0           0.0            0.0             0.0   \n",
       "9393          0.0           1.0           0.0            0.0             0.0   \n",
       "9394          0.0           0.0           0.0            0.0             0.0   \n",
       "9395          0.0           0.0           0.0            0.0             0.0   \n",
       "\n",
       "      model_VOLKSWAGEN  model_VOLVO  model_YAMAHA  accident_severity  \n",
       "0                  0.0          0.0           0.0                  3  \n",
       "1                  0.0          0.0           0.0                  3  \n",
       "2                  0.0          0.0           0.0                  3  \n",
       "3                  0.0          0.0           0.0                  3  \n",
       "4                  1.0          0.0           0.0                  3  \n",
       "...                ...          ...           ...                ...  \n",
       "9391               0.0          0.0           0.0                  3  \n",
       "9392               0.0          0.0           0.0                  3  \n",
       "9393               0.0          0.0           0.0                  2  \n",
       "9394               0.0          0.0           0.0                  2  \n",
       "9395               1.0          0.0           0.0                  3  \n",
       "\n",
       "[9396 rows x 54 columns]"
      ]
     },
     "execution_count": 154,
     "metadata": {},
     "output_type": "execute_result"
    }
   ],
   "source": [
    "df"
   ]
  },
  {
   "cell_type": "markdown",
   "metadata": {
    "id": "Fltn4Gz3WErg"
   },
   "source": [
    "StratifiedShuffleSplit is used for splitting datasets into training and testing sets while ensuring that the class distribution is maintained across the splits.This also helps in improving model performance."
   ]
  },
  {
   "cell_type": "markdown",
   "metadata": {
    "id": "OJdc_MC5-K7R"
   },
   "source": [
    "Here 80% of data is considered for training and 20% for testing."
   ]
  },
  {
   "cell_type": "code",
   "execution_count": 155,
   "metadata": {
    "id": "GcG0F0OZ9tL9"
   },
   "outputs": [],
   "source": [
    "# Implement stratified split logic\n",
    "from sklearn.model_selection import StratifiedShuffleSplit\n",
    "\n",
    "stratified_splitter= StratifiedShuffleSplit(n_splits=1, test_size=0.2,\n",
    "                                            random_state=7)\n",
    "\n",
    "train_index, test_index=list(stratified_splitter.split(df,\n",
    "                                      df[\"accident_severity\"]))[0]\n",
    "\n",
    "trainset=df.loc[train_index]\n",
    "testset=df.loc[test_index]"
   ]
  },
  {
   "cell_type": "markdown",
   "metadata": {
    "id": "igS2uHuXWmdM"
   },
   "source": [
    "The below code shows the frquency of each accident severity categories in training and testing data. We could see that the data is splitted with equal frequencies in all categories."
   ]
  },
  {
   "cell_type": "code",
   "execution_count": 156,
   "metadata": {
    "colab": {
     "base_uri": "https://localhost:8080/"
    },
    "id": "j7T8-KY59tL-",
    "outputId": "7f985ee8-1323-4aae-ce28-727498022e03"
   },
   "outputs": [
    {
     "data": {
      "text/plain": [
       "3    0.763970\n",
       "2    0.214742\n",
       "1    0.021288\n",
       "Name: accident_severity, dtype: float64"
      ]
     },
     "execution_count": 156,
     "metadata": {},
     "output_type": "execute_result"
    }
   ],
   "source": [
    "# Count of data of each category in accident severity in train dataset\n",
    "trainset[\"accident_severity\"].value_counts(normalize=True)"
   ]
  },
  {
   "cell_type": "code",
   "execution_count": 157,
   "metadata": {
    "colab": {
     "base_uri": "https://localhost:8080/"
    },
    "id": "jItSoDhC9tL-",
    "outputId": "517cbd73-81f7-4b32-9b0d-2b7481faea7b"
   },
   "outputs": [
    {
     "data": {
      "text/plain": [
       "3    0.763830\n",
       "2    0.214894\n",
       "1    0.021277\n",
       "Name: accident_severity, dtype: float64"
      ]
     },
     "execution_count": 157,
     "metadata": {},
     "output_type": "execute_result"
    }
   ],
   "source": [
    "# Count of data of each category in accident severity in test dataset\n",
    "testset[\"accident_severity\"].value_counts(normalize=True)"
   ]
  },
  {
   "cell_type": "markdown",
   "metadata": {
    "id": "eVDGnFbzXckZ"
   },
   "source": [
    "The \"accident_severity\" is removed from the training data as it is the target variable and the testing data has only the target variables. The X is for the independent variables (predictors) and y is for the dependent variable (target)."
   ]
  },
  {
   "cell_type": "code",
   "execution_count": 158,
   "metadata": {
    "id": "qIjicEB09tL-"
   },
   "outputs": [],
   "source": [
    "# Deleting Accident_severity(target) from X and assign accident_severity to y\n",
    "X_train=trainset.drop(columns=[\"accident_severity\"])\n",
    "y_train=trainset[\"accident_severity\"]\n",
    "X_test=testset.drop(columns=[\"accident_severity\"])\n",
    "y_test=testset[\"accident_severity\"]"
   ]
  },
  {
   "cell_type": "code",
   "execution_count": 159,
   "metadata": {
    "colab": {
     "base_uri": "https://localhost:8080/"
    },
    "id": "Gs8wp4lK9tL-",
    "outputId": "a2428c40-ef0e-43df-d8b8-564178a1a6f2"
   },
   "outputs": [
    {
     "name": "stdout",
     "output_type": "stream",
     "text": [
      "(7516, 53)\n",
      "(7516,)\n",
      "(1880, 53)\n",
      "(1880,)\n"
     ]
    }
   ],
   "source": [
    "#Display rows and columns\n",
    "print(X_train.shape)\n",
    "print(y_train.shape)\n",
    "print(X_test.shape)\n",
    "print(y_test.shape)"
   ]
  },
  {
   "cell_type": "markdown",
   "metadata": {
    "id": "mssj6Fkn9tL_"
   },
   "source": [
    "## 3. Baseline Model"
   ]
  },
  {
   "cell_type": "markdown",
   "metadata": {
    "id": "zonL3Na7Yfu3"
   },
   "source": [
    "For Baseline model, Dummy classifier function is used. This method simply predicts the most frequent class in the training data for all instances. It serves as a baseline model to compare the performance of more sophisticated models.\n",
    "\n"
   ]
  },
  {
   "cell_type": "code",
   "execution_count": 160,
   "metadata": {
    "colab": {
     "base_uri": "https://localhost:8080/"
    },
    "id": "wNljVI9X9tL_",
    "outputId": "0e500e33-ac08-4a76-b4e4-035d059f6e3a"
   },
   "outputs": [
    {
     "name": "stdout",
     "output_type": "stream",
     "text": [
      "Accuracy: 0.7639701969132517\n",
      "Precision: 0.8196802648584208\n",
      "Recall: 0.7639701969132517\n",
      "F1-score: 0.6617463977486636\n"
     ]
    }
   ],
   "source": [
    "from sklearn.dummy import DummyClassifier\n",
    "from sklearn.metrics import precision_recall_fscore_support\n",
    "from sklearn.metrics import accuracy_score, precision_score,recall_score,f1_score\n",
    "\n",
    "# Baseline model using dummy classifier\n",
    "dummy_clf = DummyClassifier(strategy=\"most_frequent\")\n",
    "dummy_clf.fit(X_train, y_train)\n",
    "yhat = dummy_clf.predict(X_train)\n",
    "\n",
    "# Calculating accuracy\n",
    "Accuracy_b = accuracy_score(y_train, yhat)\n",
    "\n",
    "# Calculating precision\n",
    "Precision_b = precision_score(y_train, yhat, average='weighted',\n",
    "                              zero_division=1)\n",
    "\n",
    "# Calculating recall\n",
    "Recall_b = recall_score(y_train, yhat, average='weighted',zero_division=1)\n",
    "\n",
    "# Calculating F1-score\n",
    "F1score_b = f1_score(y_train, yhat, average='weighted', zero_division=1)\n",
    "\n",
    "print(\"Accuracy:\", Accuracy_b)\n",
    "print(\"Precision:\", Precision_b)\n",
    "print(\"Recall:\", Recall_b)\n",
    "print(\"F1-score:\", F1score_b)"
   ]
  },
  {
   "cell_type": "markdown",
   "metadata": {
    "id": "bwlO_VxN9tL_"
   },
   "source": [
    "## 4. Feature Selection based on feature importance"
   ]
  },
  {
   "cell_type": "markdown",
   "metadata": {
    "id": "zK-Ze2_Lc3z0"
   },
   "source": [
    " To identify the most relevant predictors that contribute significantly to the prediction outcome of a model. It helps in understanding the relative importance of different predictors in making accurate predictions."
   ]
  },
  {
   "cell_type": "markdown",
   "metadata": {
    "id": "miL635P-fu0P"
   },
   "source": [
    "Various algorithms are employed to identify the most important features contributing to the prediction of accident severity:\n",
    "\n",
    "*   Random Forest\n",
    "*   Decision Tree\n",
    "*   Logistic Regression\n",
    "*   Adaboost classifier\n",
    "*   Gradient Boosting Classfier\n"
   ]
  },
  {
   "cell_type": "markdown",
   "metadata": {
    "id": "HJfwW9MO9tL_"
   },
   "source": [
    "### Random Forest"
   ]
  },
  {
   "cell_type": "code",
   "execution_count": 161,
   "metadata": {
    "colab": {
     "base_uri": "https://localhost:8080/"
    },
    "id": "fawdOR1y9tL_",
    "outputId": "9048db1c-d2b3-4230-c09c-3a9c8606cf82"
   },
   "outputs": [
    {
     "name": "stdout",
     "output_type": "stream",
     "text": [
      "Index(['age_of_driver', 'age_of_vehicle', 'engine_capacity_cc',\n",
      "       'age_band_of_driver', 'journey_purpose_of_driver_Not known',\n",
      "       'driver_home_area_type_Urban area', 'journey_purpose_of_driver_Other',\n",
      "       'driver_imd_decile_More deprived 40-50%',\n",
      "       'driver_imd_decile_Less deprived 30-40%',\n",
      "       'driver_imd_decile_Less deprived 40-50%',\n",
      "       'driver_imd_decile_Less deprived 20-30%', 'sex_of_driver_Male',\n",
      "       'driver_imd_decile_More deprived 30-40%',\n",
      "       'driver_imd_decile_Most deprived 10%',\n",
      "       'driver_imd_decile_Less deprived 10-20%',\n",
      "       'driver_imd_decile_More deprived 20-30%', 'model_FORD',\n",
      "       'model_VOLKSWAGEN', 'driver_home_area_type_Small town',\n",
      "       'driver_imd_decile_More deprived 10-20%'],\n",
      "      dtype='object')\n"
     ]
    }
   ],
   "source": [
    "from sklearn.ensemble import RandomForestClassifier\n",
    "from sklearn.datasets import make_classification\n",
    "from sklearn.model_selection import train_test_split\n",
    "import pandas as pd\n",
    "\n",
    "\n",
    "# Creating a Random Forest classifier\n",
    "rf_classifier = RandomForestClassifier(n_estimators=100, random_state=42)\n",
    "\n",
    "# Training the classifier\n",
    "rf_classifier.fit(X_train, y_train)\n",
    "\n",
    "# Get feature importances\n",
    "feature_importances = rf_classifier.feature_importances_\n",
    "\n",
    "# Create a DataFrame to store feature importances\n",
    "feature_importance_df = pd.DataFrame({\n",
    "    'Feature': range(len(feature_importances)),\n",
    "    'Importance': feature_importances})\n",
    "\n",
    "# Sort DataFrame by importance scores in descending order\n",
    "feature_importance_df = feature_importance_df.sort_values(by='Importance',\n",
    "                                                          ascending=False)\n",
    "\n",
    "# Select top 20 features\n",
    "top_20_features = feature_importance_df.head(20)['Feature'].tolist()\n",
    "\n",
    "# Convert the list of column indices to column names\n",
    "selected_feature_names = X_train.columns[top_20_features]\n",
    "\n",
    "# Select columns from the DataFrame\n",
    "X_train_rf = X_train[selected_feature_names]\n",
    "X_test_rf=X_test[selected_feature_names]\n",
    "\n",
    "\n",
    "print(selected_feature_names)\n"
   ]
  },
  {
   "cell_type": "markdown",
   "metadata": {
    "id": "BGp1ESXWdeM5"
   },
   "source": [
    "The above columns are significantly constributing to the performance of the model. A new dataset X_train_rf and X_test_rf is created by selecting the following columns"
   ]
  },
  {
   "cell_type": "code",
   "execution_count": 162,
   "metadata": {
    "colab": {
     "base_uri": "https://localhost:8080/"
    },
    "id": "fH_Hj5a39tL_",
    "outputId": "2c389c95-5d4b-4583-d2dd-596c489a2e0e"
   },
   "outputs": [
    {
     "data": {
      "text/plain": [
       "(1880, 20)"
      ]
     },
     "execution_count": 162,
     "metadata": {},
     "output_type": "execute_result"
    }
   ],
   "source": [
    "X_train_rf.shape\n",
    "X_test_rf.shape"
   ]
  },
  {
   "cell_type": "markdown",
   "metadata": {
    "id": "G_Bmf8r_d7Yp"
   },
   "source": [
    "Similarly the feature importance of the predictors are identified for Decision tree, logistic regression, adaboost and gradient boosting which is later used for modelling."
   ]
  },
  {
   "cell_type": "markdown",
   "metadata": {
    "id": "h390xbpV9tMA"
   },
   "source": [
    "### Decision Trees"
   ]
  },
  {
   "cell_type": "code",
   "execution_count": 163,
   "metadata": {
    "colab": {
     "base_uri": "https://localhost:8080/"
    },
    "id": "hmKyOAY39tMA",
    "outputId": "88b08fd5-4fef-4683-c485-def94c8333d4"
   },
   "outputs": [
    {
     "name": "stdout",
     "output_type": "stream",
     "text": [
      "Index(['age_of_driver', 'age_of_vehicle', 'engine_capacity_cc',\n",
      "       'age_band_of_driver', 'journey_purpose_of_driver_Not known',\n",
      "       'driver_imd_decile_Less deprived 40-50%',\n",
      "       'driver_imd_decile_Less deprived 30-40%',\n",
      "       'driver_imd_decile_More deprived 20-30%',\n",
      "       'driver_imd_decile_More deprived 30-40%',\n",
      "       'driver_imd_decile_Most deprived 10%',\n",
      "       'driver_imd_decile_Less deprived 10-20%',\n",
      "       'driver_imd_decile_Less deprived 20-30%',\n",
      "       'driver_imd_decile_More deprived 10-20%', 'model_VOLKSWAGEN',\n",
      "       'model_FORD', 'driver_imd_decile_More deprived 40-50%',\n",
      "       'propulsion_code_Petrol', 'model_VAUXHALL',\n",
      "       'journey_purpose_of_driver_Other', 'model_HONDA'],\n",
      "      dtype='object')\n"
     ]
    }
   ],
   "source": [
    "from sklearn.tree import DecisionTreeClassifier\n",
    "\n",
    "# Creating a Decision Tree classifier\n",
    "dt_classifier = DecisionTreeClassifier(random_state=42)\n",
    "\n",
    "# Training the classifier\n",
    "dt_classifier.fit(X_train, y_train)\n",
    "\n",
    "# Get feature importances\n",
    "feature_importances_d = dt_classifier.feature_importances_\n",
    "\n",
    "# Create a DataFrame to store feature importances\n",
    "feature_importance_df = pd.DataFrame({\n",
    "    'Feature': range(len(feature_importances_d)),\n",
    "    'Importance': feature_importances_d})\n",
    "\n",
    "# Sort DataFrame by importance scores in descending order\n",
    "feature_importance_df = feature_importance_df.sort_values(by='Importance',\n",
    "                                                          ascending=False)\n",
    "\n",
    "# Select top 20 features\n",
    "top_20_features_df = feature_importance_df.head(20)['Feature'].tolist()\n",
    "\n",
    "# Convert the list of column indices to column names\n",
    "selected_feature_names_df = X_train.columns[top_20_features_df]\n",
    "\n",
    "# Select columns from the DataFrame\n",
    "X_train_dt = X_train[selected_feature_names_df]\n",
    "X_test_dt=X_test[selected_feature_names_df]\n",
    "\n",
    "\n",
    "print(selected_feature_names_df)\n"
   ]
  },
  {
   "cell_type": "code",
   "execution_count": 164,
   "metadata": {
    "colab": {
     "base_uri": "https://localhost:8080/"
    },
    "id": "rKDOzdDy9tMA",
    "outputId": "e491b37d-468f-479f-bea5-03f9335a538b"
   },
   "outputs": [
    {
     "data": {
      "text/plain": [
       "(1880, 20)"
      ]
     },
     "execution_count": 164,
     "metadata": {},
     "output_type": "execute_result"
    }
   ],
   "source": [
    "X_train_dt.shape\n",
    "X_test_dt.shape"
   ]
  },
  {
   "cell_type": "markdown",
   "metadata": {
    "id": "AA9cBjZp9tMA"
   },
   "source": [
    "### Logistic Regression"
   ]
  },
  {
   "cell_type": "code",
   "execution_count": 165,
   "metadata": {
    "colab": {
     "base_uri": "https://localhost:8080/"
    },
    "id": "QEfpiO-q9tMA",
    "outputId": "49a0341d-f436-4ffb-f7ca-d54f60effe43"
   },
   "outputs": [
    {
     "name": "stdout",
     "output_type": "stream",
     "text": [
      "Index(['model_KTM', 'journey_purpose_of_driver_Not known', 'model_VOLVO',\n",
      "       'model_MAZDA', 'model_SKODA', 'model_LAND', 'model_KAWASAKI',\n",
      "       'model_YAMAHA', 'model_LEXMOTO', 'model_SEAT', 'model_MITSUBISHI',\n",
      "       'model_RENAULT', 'sex_of_driver_Male',\n",
      "       'journey_purpose_of_driver_Taking pupil to/from school', 'model_NISSAN',\n",
      "       'model_TRIUMPH', 'age_band_of_driver',\n",
      "       'journey_purpose_of_driver_Journey as part of work',\n",
      "       'propulsion_code_Petrol', 'journey_purpose_of_driver_Other'],\n",
      "      dtype='object')\n"
     ]
    }
   ],
   "source": [
    "from sklearn.linear_model import LogisticRegression\n",
    "# Creating a Logistic Regression classifier\n",
    "log_reg_classifier = LogisticRegression(max_iter=1000, random_state=42)\n",
    "\n",
    "# Training the classifier\n",
    "log_reg_classifier.fit(X_train, y_train)\n",
    "\n",
    "# Get coefficients\n",
    "coefficients = log_reg_classifier.coef_[0]\n",
    "\n",
    "# Get absolute coefficients and sort\n",
    "abs_coefficients = np.abs(coefficients)\n",
    "top_20_indices = np.argsort(abs_coefficients)[::-1][:20]\n",
    "\n",
    "# Select columns from the DataFrame\n",
    "X_train_LR = X_train.iloc[:, top_20_indices]\n",
    "X_test_LR=X_test.iloc[:, top_20_indices]\n",
    "\n",
    "print(X_train.columns[top_20_indices])"
   ]
  },
  {
   "cell_type": "code",
   "execution_count": 166,
   "metadata": {
    "colab": {
     "base_uri": "https://localhost:8080/"
    },
    "id": "L8xNxQc99tMA",
    "outputId": "9e915048-4a1e-4949-f8f0-97b40eddf3f1"
   },
   "outputs": [
    {
     "data": {
      "text/plain": [
       "(1880, 20)"
      ]
     },
     "execution_count": 166,
     "metadata": {},
     "output_type": "execute_result"
    }
   ],
   "source": [
    "X_train_LR.shape\n",
    "X_test_LR.shape"
   ]
  },
  {
   "cell_type": "markdown",
   "metadata": {
    "id": "fjg_chUm9tMA"
   },
   "source": [
    "### Agaboost Classifier"
   ]
  },
  {
   "cell_type": "code",
   "execution_count": 167,
   "metadata": {
    "colab": {
     "base_uri": "https://localhost:8080/"
    },
    "id": "G9QU6ovh9tMA",
    "outputId": "680aa009-bc10-4f25-9ff1-7a6c4ca45f9a"
   },
   "outputs": [
    {
     "name": "stdout",
     "output_type": "stream",
     "text": [
      "Index(['age_of_driver', 'engine_capacity_cc', 'age_of_vehicle',\n",
      "       'journey_purpose_of_driver_Not known', 'sex_of_driver_Male',\n",
      "       'driver_imd_decile_More deprived 40-50%', 'model_HONDA', 'model_FIAT',\n",
      "       'model_VOLVO', 'model_BMW', 'driver_home_area_type_Urban area',\n",
      "       'driver_home_area_type_Small town',\n",
      "       'driver_imd_decile_Less deprived 10-20%',\n",
      "       'driver_imd_decile_More deprived 30-40%', 'model_JAGUAR',\n",
      "       'propulsion_code_Petrol',\n",
      "       'journey_purpose_of_driver_Taking pupil to/from school',\n",
      "       'journey_purpose_of_driver_Other',\n",
      "       'journey_purpose_of_driver_Journey as part of work', 'model_HYUNDAI'],\n",
      "      dtype='object')\n"
     ]
    }
   ],
   "source": [
    "from sklearn.ensemble import AdaBoostClassifier\n",
    "# Creating a base Decision Tree classifier for AdaBoost\n",
    "base_classifier = DecisionTreeClassifier(max_depth=1)\n",
    "\n",
    "# Creating an AdaBoost classifier with the base classifier\n",
    "adaboost_classifier = AdaBoostClassifier(estimator=base_classifier,\n",
    "                                         n_estimators=100, random_state=42)\n",
    "\n",
    "# Training the classifier\n",
    "adaboost_classifier.fit(X_train, y_train)\n",
    "\n",
    "# Get feature importances\n",
    "feature_importances_AB = np.mean([tree.feature_importances_\n",
    "                    for tree in adaboost_classifier.estimators_],\n",
    "                                 axis=0)\n",
    "\n",
    "# Get indices of top 20 features\n",
    "top_20_indices = np.argsort(feature_importances_AB)[::-1][:20]\n",
    "\n",
    "# Select columns from the DataFrame\n",
    "X_train_AB = X_train.iloc[:, top_20_indices]\n",
    "X_test_AB=X_test.iloc[:, top_20_indices]\n",
    "\n",
    "print(X_train.columns[top_20_indices])"
   ]
  },
  {
   "cell_type": "code",
   "execution_count": 168,
   "metadata": {
    "colab": {
     "base_uri": "https://localhost:8080/"
    },
    "id": "5klZ6FOo9tMB",
    "outputId": "9ce74e51-b31c-4a80-f0e2-f326c00036e9"
   },
   "outputs": [
    {
     "data": {
      "text/plain": [
       "(1880, 20)"
      ]
     },
     "execution_count": 168,
     "metadata": {},
     "output_type": "execute_result"
    }
   ],
   "source": [
    "X_train_AB.shape\n",
    "\n",
    "X_test_AB.shape"
   ]
  },
  {
   "cell_type": "markdown",
   "metadata": {
    "id": "sRyY6L2y9tMB"
   },
   "source": [
    "### Gradient Boosting Classifier"
   ]
  },
  {
   "cell_type": "code",
   "execution_count": 169,
   "metadata": {
    "colab": {
     "base_uri": "https://localhost:8080/"
    },
    "id": "495RIgKYV-1Y",
    "outputId": "ecb31157-ccca-416c-fb0c-068d01a5fdc2"
   },
   "outputs": [
    {
     "name": "stdout",
     "output_type": "stream",
     "text": [
      "['engine_capacity_cc', 'age_of_driver', 'age_of_vehicle', 'sex_of_driver_Male', 'driver_home_area_type_Urban area', 'model_TRIUMPH', 'journey_purpose_of_driver_Other', 'age_band_of_driver', 'model_YAMAHA', 'model_SUZUKI', 'driver_imd_decile_Less deprived 10-20%', 'propulsion_code_Petrol', 'driver_imd_decile_Most deprived 10%', 'journey_purpose_of_driver_Not known', 'driver_home_area_type_Small town', 'model_KAWASAKI', 'model_FIAT', 'model_RENAULT', 'driver_imd_decile_More deprived 40-50%', 'driver_imd_decile_More deprived 20-30%']\n"
     ]
    }
   ],
   "source": [
    "from sklearn.feature_selection import SelectFromModel\n",
    "from sklearn.ensemble import GradientBoostingClassifier\n",
    "\n",
    "# Creating an Gradient Boost classifier with the base classifier\n",
    "model = GradientBoostingClassifier(learning_rate=0.05, max_depth=5,\n",
    "                    n_estimators=500, min_samples_split=5, n_iter_no_change=10)\n",
    "\n",
    "# Training the classifier\n",
    "model.fit(X_train, y_train)\n",
    "\n",
    "# Get feature importances\n",
    "feature_importance = model.feature_importances_\n",
    "importance_df = pd.DataFrame({'features': X_train.columns,\n",
    "                              'importance': feature_importance})\n",
    "importance_df.sort_values(by='importance', ascending=False, inplace=True)\n",
    "\n",
    "# Get top 20 features\n",
    "feature_list = importance_df['features'].head(20).tolist()\n",
    "print(feature_list)\n",
    "\n",
    "# Select columns from the DataFrame\n",
    "X_train_GB = X_train[feature_list]\n",
    "X_test_GB = X_test[feature_list]\n"
   ]
  },
  {
   "cell_type": "code",
   "execution_count": 170,
   "metadata": {
    "colab": {
     "base_uri": "https://localhost:8080/"
    },
    "id": "0EzF1ysN9tMB",
    "outputId": "8b0fc967-93f9-4e57-f23c-eaacd928bcce"
   },
   "outputs": [
    {
     "data": {
      "text/plain": [
       "(1880, 20)"
      ]
     },
     "execution_count": 170,
     "metadata": {},
     "output_type": "execute_result"
    }
   ],
   "source": [
    "X_train_GB.shape\n",
    "X_test_GB.shape"
   ]
  },
  {
   "cell_type": "markdown",
   "metadata": {
    "id": "IXVlhYWD9tMB"
   },
   "source": [
    "## 5. Modeling with Hyperparameter tuning and validation"
   ]
  },
  {
   "cell_type": "markdown",
   "metadata": {
    "id": "Z8zsind49tMB"
   },
   "source": [
    "### Random Forest"
   ]
  },
  {
   "cell_type": "markdown",
   "metadata": {
    "id": "Emf4xyJlk9qg"
   },
   "source": [
    "Grid search CV method is used for implementing hypertuning"
   ]
  },
  {
   "cell_type": "code",
   "execution_count": 171,
   "metadata": {
    "colab": {
     "base_uri": "https://localhost:8080/"
    },
    "id": "gTerWDej9tMB",
    "outputId": "986954b5-a890-4f92-deca-f2de05b7051c"
   },
   "outputs": [
    {
     "name": "stdout",
     "output_type": "stream",
     "text": [
      "Best Parameters: {'max_depth': None, 'min_samples_leaf': 2, 'min_samples_split': 10, 'n_estimators': 200}\n"
     ]
    }
   ],
   "source": [
    "from sklearn.model_selection import GridSearchCV\n",
    "from sklearn.metrics import classification_report\n",
    "from sklearn.ensemble import RandomForestClassifier\n",
    "\n",
    "# Creating a Random Forest classifier\n",
    "rf_classifier = RandomForestClassifier(random_state=42)\n",
    "\n",
    "# Define hyperparameters for grid search\n",
    "param_grid_rf = {\n",
    "    'n_estimators': [100, 200],\n",
    "    'max_depth': [None, 10, 20],\n",
    "    'min_samples_split': [2, 5, 10],\n",
    "    'min_samples_leaf': [1, 2, 4]\n",
    "}\n",
    "\n",
    "# Perform grid search with cross-validation\n",
    "grid_search_rf = GridSearchCV(estimator=rf_classifier, param_grid=param_grid_rf,\n",
    "                              cv=5, scoring='accuracy')\n",
    "grid_search_rf.fit(X_train_rf, y_train)\n",
    "\n",
    "# Get the best model from grid search\n",
    "best_rf_model = grid_search_rf.best_estimator_\n",
    "\n",
    "#best parameters\n",
    "best_rf= grid_search_rf.best_params_\n",
    "\n",
    "# Print the best parameters found by GridSearchCV\n",
    "print(\"Best Parameters:\", best_rf)"
   ]
  },
  {
   "cell_type": "markdown",
   "metadata": {
    "id": "EGJyj1TVmHiu"
   },
   "source": [
    "Using the identified best parameters the model is again trained and the values are predicted"
   ]
  },
  {
   "cell_type": "code",
   "execution_count": 172,
   "metadata": {
    "colab": {
     "base_uri": "https://localhost:8080/"
    },
    "id": "UTtSVPWT9tMB",
    "outputId": "5e0419c4-2e81-4508-813b-0922c2482066"
   },
   "outputs": [
    {
     "name": "stdout",
     "output_type": "stream",
     "text": [
      "Accuracy: 0.8096061734965407\n",
      "Precision: 0.8433557342352839\n",
      "Recall: 0.8096061734965407\n",
      "F1-score: 0.7550539292958172\n"
     ]
    }
   ],
   "source": [
    "# Creating a Random Forest classifier with the best parameters\n",
    "best_rf_classifier = RandomForestClassifier(**best_rf, random_state=42)\n",
    "\n",
    "# Retraining the classifier on the entire training data\n",
    "best_rf_classifier.fit(X_train_rf, y_train)\n",
    "\n",
    "# Evaluate the best model on the training set\n",
    "y_pred_rf = best_rf_classifier.predict(X_train_rf)\n",
    "\n",
    "\n",
    "# Calculating accuracy\n",
    "rf_tr_a = accuracy_score(y_train, y_pred_rf)\n",
    "\n",
    "# Calculating precision\n",
    "rf_tr_p = precision_score(y_train, y_pred_rf, average='weighted',\n",
    "                          zero_division=1)\n",
    "\n",
    "# Calculating recall\n",
    "rf_tr_r = recall_score(y_train, y_pred_rf, average='weighted',zero_division=1)\n",
    "\n",
    "# Calculating F1-score\n",
    "rf_tr_f1 = f1_score(y_train, y_pred_rf, average='weighted', zero_division=1)\n",
    "\n",
    "print(\"Accuracy:\", rf_tr_a)\n",
    "print(\"Precision:\", rf_tr_p)\n",
    "print(\"Recall:\", rf_tr_r)\n",
    "print(\"F1-score:\", rf_tr_f1)"
   ]
  },
  {
   "cell_type": "code",
   "execution_count": 173,
   "metadata": {
    "colab": {
     "base_uri": "https://localhost:8080/"
    },
    "id": "nVOnKGrBkVff",
    "outputId": "75fde82f-e739-4e5b-8788-46416d7ec20d"
   },
   "outputs": [
    {
     "name": "stdout",
     "output_type": "stream",
     "text": [
      "Cross-validated Scores: [0.76795213 0.75981371 0.76380572 0.7671324  0.76314039]\n",
      "Mean Cross-validated Accuracy: 0.7643688686456873\n"
     ]
    }
   ],
   "source": [
    "from sklearn.model_selection import cross_val_score\n",
    "# Compute cross-validated scores\n",
    "cv_scores = cross_val_score(best_rf_classifier, X_train_rf, y_train, cv=5,\n",
    "                            scoring='accuracy')\n",
    "\n",
    "# Print cross-validated scores\n",
    "print(\"Cross-validated Scores:\", cv_scores)\n",
    "print(\"Mean Cross-validated Accuracy:\", cv_scores.mean())\n"
   ]
  },
  {
   "cell_type": "markdown",
   "metadata": {
    "id": "pCFQOFbhnGX1"
   },
   "source": [
    "The cross validated score states that Each score corresponds to the accuracy achieved on a different fold of the training data."
   ]
  },
  {
   "cell_type": "markdown",
   "metadata": {
    "id": "s4RPVoxRmWAE"
   },
   "source": [
    "The model is evaluated using test data and the performance metrics are calculated.\n",
    "\n"
   ]
  },
  {
   "cell_type": "code",
   "execution_count": 174,
   "metadata": {
    "colab": {
     "base_uri": "https://localhost:8080/"
    },
    "id": "gUOV8pEl9tMC",
    "outputId": "c59ae0e4-8f0d-454b-e22a-bdcc3429dd69"
   },
   "outputs": [
    {
     "name": "stdout",
     "output_type": "stream",
     "text": [
      "Accuracy: 0.7632978723404256\n",
      "Precision: 0.7095506029340575\n",
      "Recall: 0.7632978723404256\n",
      "F1-score: 0.6761963145290876\n"
     ]
    }
   ],
   "source": [
    "# Evaluate the best model on the test set\n",
    "y_pred_rf_t = best_rf_classifier.predict(X_test_rf)\n",
    "\n",
    "# Calculating accuracy\n",
    "rf_te_a = accuracy_score(y_test, y_pred_rf_t)\n",
    "\n",
    "# Calculating precision\n",
    "rf_te_p = precision_score(y_test, y_pred_rf_t, average='weighted',\n",
    "                          zero_division=1)\n",
    "\n",
    "# Calculating recall\n",
    "rf_te_r = recall_score(y_test, y_pred_rf_t, average='weighted',zero_division=1)\n",
    "\n",
    "# Calculating F1-score\n",
    "rf_te_f1 = f1_score(y_test, y_pred_rf_t, average='weighted', zero_division=1)\n",
    "\n",
    "print(\"Accuracy:\", rf_te_a)\n",
    "print(\"Precision:\", rf_te_p)\n",
    "print(\"Recall:\", rf_te_r)\n",
    "print(\"F1-score:\", rf_te_f1)\n",
    "\n"
   ]
  },
  {
   "cell_type": "code",
   "execution_count": 175,
   "metadata": {
    "colab": {
     "base_uri": "https://localhost:8080/",
     "height": 461
    },
    "id": "51FonF6ZDv_8",
    "outputId": "21da54fc-8f42-4203-9642-147b7437d7e8"
   },
   "outputs": [
    {
     "data": {
      "text/plain": [
       "<sklearn.metrics._plot.confusion_matrix.ConfusionMatrixDisplay at 0x799a44b49360>"
      ]
     },
     "execution_count": 175,
     "metadata": {},
     "output_type": "execute_result"
    },
    {
     "data": {
      "image/png": "[encoded data removed]",
      "text/plain": [
       "<Figure size 640x480 with 2 Axes>"
      ]
     },
     "metadata": {},
     "output_type": "display_data"
    }
   ],
   "source": [
    "#confusion matrix\n",
    "from sklearn.metrics import ConfusionMatrixDisplay\n",
    "ConfusionMatrixDisplay.from_predictions(y_test, y_pred_rf_t,\n",
    "                                        labels=best_rf_model.classes_,\n",
    "                                        xticks_rotation=\"vertical\",\n",
    "                                        normalize=\"true\",\n",
    "                                        cmap=plt.cm.Blues)"
   ]
  },
  {
   "cell_type": "markdown",
   "metadata": {
    "id": "hqbp7P59nmc9"
   },
   "source": [
    "The model performs well on both training and test datasets, predicting accident severity accurately. Its close alignment indicates robustness and reliability, but a slight drop in performance metrics from training to testing dataset indicates a degree of overfitting."
   ]
  },
  {
   "cell_type": "markdown",
   "metadata": {
    "id": "0uKN9O969tMC"
   },
   "source": [
    "### Decision Tree"
   ]
  },
  {
   "cell_type": "markdown",
   "metadata": {
    "id": "Cc6zdKHylK5l"
   },
   "source": [
    "Similar to Random Forest, we defined a grid of hyperparameters for the Decision Tree algorithm, including parameters like the maximum depth of the tree (max_depth), the minimum number of samples required to split a node (min_samples_split). The best parameters are found."
   ]
  },
  {
   "cell_type": "code",
   "execution_count": 176,
   "metadata": {
    "colab": {
     "base_uri": "https://localhost:8080/"
    },
    "id": "exf9Vd5L9tMC",
    "outputId": "8e14cb02-c6b5-414d-ad2b-7a11d4edfe8f"
   },
   "outputs": [
    {
     "name": "stdout",
     "output_type": "stream",
     "text": [
      "Best Parameters: {'max_depth': 5, 'min_samples_leaf': 2, 'min_samples_split': 2}\n"
     ]
    }
   ],
   "source": [
    "from sklearn.tree import DecisionTreeClassifier\n",
    "\n",
    "# Creating a Decision Tree classifier\n",
    "dt_classifier = DecisionTreeClassifier(random_state=42)\n",
    "\n",
    "# Define hyperparameters for grid search\n",
    "param_grid_dt = {\n",
    "    'max_depth': [None, 5, 10, 20],\n",
    "    'min_samples_split': [2, 5, 10],\n",
    "    'min_samples_leaf': [1, 2, 4]\n",
    "}\n",
    "\n",
    "# Perform grid search with cross-validation\n",
    "grid_search_dt = GridSearchCV(estimator=dt_classifier, param_grid=param_grid_dt,\n",
    "                              cv=5, scoring='accuracy')\n",
    "grid_search_dt.fit(X_train_dt, y_train)\n",
    "\n",
    "# Get the best model from grid search\n",
    "best_dt_model = grid_search_dt.best_estimator_\n",
    "\n",
    "# Best parameters\n",
    "best_dt= grid_search_dt.best_params_\n",
    "\n",
    "# Print the best parameters found by GridSearchCV\n",
    "print(\"Best Parameters:\", best_dt)"
   ]
  },
  {
   "cell_type": "markdown",
   "metadata": {
    "id": "lg_zsoo5n9nJ"
   },
   "source": [
    "Again training the model with best parameter."
   ]
  },
  {
   "cell_type": "code",
   "execution_count": 177,
   "metadata": {
    "colab": {
     "base_uri": "https://localhost:8080/"
    },
    "id": "H_DavIT_9tMC",
    "outputId": "4cc03c86-a379-432e-915f-65d112e504b9"
   },
   "outputs": [
    {
     "name": "stdout",
     "output_type": "stream",
     "text": [
      "Accuracy: 0.7700904736562001\n",
      "Precision: 0.7262005883511501\n",
      "Recall: 0.7700904736562001\n",
      "F1-score: 0.6965124132387877\n"
     ]
    }
   ],
   "source": [
    "# Creating a Decision tree classifier with the best parameters\n",
    "best_dt_classifier = DecisionTreeClassifier(**best_dt, random_state=42)\n",
    "\n",
    "# Retraining the classifier on the entire training data\n",
    "best_dt_classifier.fit(X_train_dt, y_train)\n",
    "\n",
    "# Evaluate the best model on the test set\n",
    "y_pred_dt = best_dt_classifier.predict(X_train_dt)\n",
    "\n",
    "# Calculating accuracy\n",
    "dt_tr_a = accuracy_score(y_train, y_pred_dt)\n",
    "\n",
    "# Calculating precision\n",
    "dt_tr_p = precision_score(y_train, y_pred_dt, average='weighted',\n",
    "                          zero_division=1)\n",
    "\n",
    "# Calculating recall\n",
    "dt_tr_r = recall_score(y_train, y_pred_dt, average='weighted',zero_division=1)\n",
    "\n",
    "# Calculating F1-score\n",
    "dt_tr_f1 = f1_score(y_train, y_pred_dt, average='weighted', zero_division=1)\n",
    "\n",
    "print(\"Accuracy:\", dt_tr_a)\n",
    "print(\"Precision:\", dt_tr_p)\n",
    "print(\"Recall:\", dt_tr_r)\n",
    "print(\"F1-score:\", dt_tr_f1)\n"
   ]
  },
  {
   "cell_type": "code",
   "execution_count": 178,
   "metadata": {
    "colab": {
     "base_uri": "https://localhost:8080/"
    },
    "id": "0p-gGRk1lE1c",
    "outputId": "38f29224-e27b-4f40-e4c2-7ec55a6f213d"
   },
   "outputs": [
    {
     "name": "stdout",
     "output_type": "stream",
     "text": [
      "Cross-validated Scores: [0.75664894 0.75848303 0.75582169 0.7671324  0.76047904]\n",
      "Mean Cross-validated Accuracy: 0.7597130207669767\n"
     ]
    }
   ],
   "source": [
    "from sklearn.model_selection import cross_val_score\n",
    "# Compute cross-validated scores\n",
    "cv_scores = cross_val_score(best_dt_classifier, X_train_dt, y_train,\n",
    "                            cv=5, scoring='accuracy')\n",
    "\n",
    "# Print cross-validated scores\n",
    "print(\"Cross-validated Scores:\", cv_scores)\n",
    "print(\"Mean Cross-validated Accuracy:\", cv_scores.mean())\n"
   ]
  },
  {
   "cell_type": "markdown",
   "metadata": {
    "id": "in3Uh35hDDZj"
   },
   "source": [
    "The model is evaluated using test data and the performance metrics are calculated.\n",
    "\n"
   ]
  },
  {
   "cell_type": "code",
   "execution_count": 179,
   "metadata": {
    "colab": {
     "base_uri": "https://localhost:8080/"
    },
    "id": "XK1z0N1O9tMC",
    "outputId": "6662d9cc-d078-4c4f-fa66-fc8590286c06"
   },
   "outputs": [
    {
     "name": "stdout",
     "output_type": "stream",
     "text": [
      "Accuracy: 0.7632978723404256\n",
      "Precision: 0.6896154039011181\n",
      "Recall: 0.7632978723404256\n",
      "F1-score: 0.6880554813606333\n"
     ]
    }
   ],
   "source": [
    "# Evaluate the best model on the test set\n",
    "y_pred_dt_t = best_dt_classifier.predict(X_test_dt)\n",
    "\n",
    "# Calculating accuracy\n",
    "dt_te_a = accuracy_score(y_test, y_pred_dt_t)\n",
    "\n",
    "# Calculating precision\n",
    "dt_te_p = precision_score(y_test, y_pred_dt_t, average='weighted',\n",
    "                          zero_division=1)\n",
    "\n",
    "# Calculating recall\n",
    "dt_te_r = recall_score(y_test, y_pred_dt_t, average='weighted',zero_division=1)\n",
    "\n",
    "# Calculating F1-score\n",
    "dt_te_f1 = f1_score(y_test, y_pred_dt_t, average='weighted', zero_division=1)\n",
    "\n",
    "print(\"Accuracy:\", dt_te_a)\n",
    "print(\"Precision:\", dt_te_p)\n",
    "print(\"Recall:\", dt_te_r)\n",
    "print(\"F1-score:\", dt_te_f1)"
   ]
  },
  {
   "cell_type": "code",
   "execution_count": 180,
   "metadata": {
    "colab": {
     "base_uri": "https://localhost:8080/",
     "height": 461
    },
    "id": "2YyL_zrBI0pq",
    "outputId": "91d58674-a0e7-40a8-9f2d-80bb708fe6dc"
   },
   "outputs": [
    {
     "data": {
      "text/plain": [
       "<sklearn.metrics._plot.confusion_matrix.ConfusionMatrixDisplay at 0x799a47be7ee0>"
      ]
     },
     "execution_count": 180,
     "metadata": {},
     "output_type": "execute_result"
    },
    {
     "data": {
      "image/png": "[encoded data removed]",
      "text/plain": [
       "<Figure size 640x480 with 2 Axes>"
      ]
     },
     "metadata": {},
     "output_type": "display_data"
    }
   ],
   "source": [
    "#confusion matrix\n",
    "from sklearn.metrics import ConfusionMatrixDisplay\n",
    "ConfusionMatrixDisplay.from_predictions(y_test, y_pred_dt_t,\n",
    "                                        labels=best_dt_model.classes_,\n",
    "                                        xticks_rotation=\"vertical\",\n",
    "                                        normalize=\"true\",\n",
    "                                        cmap=plt.cm.Blues)"
   ]
  },
  {
   "cell_type": "markdown",
   "metadata": {
    "id": "8bu-zDuhozOW"
   },
   "source": [
    "The similar performance metrics on both the training and test datasets suggest that the model generalizes well to test data. However, the precision and F1-score on the test data are slightly lower compared to the training data, suggesting a potential for slight overfitting"
   ]
  },
  {
   "cell_type": "markdown",
   "metadata": {
    "id": "V4FhJZLu9tMC"
   },
   "source": [
    "### Logistics Regression"
   ]
  },
  {
   "cell_type": "code",
   "execution_count": 181,
   "metadata": {
    "colab": {
     "base_uri": "https://localhost:8080/"
    },
    "id": "0KniRoBk9tMD",
    "outputId": "3dba50f9-d26d-43e4-bacc-0e9e1ba88865"
   },
   "outputs": [
    {
     "name": "stdout",
     "output_type": "stream",
     "text": [
      "Best Parameters: {'penalty': None}\n"
     ]
    }
   ],
   "source": [
    "# Creating a Logistic Regression classifier\n",
    "lr_classifier = LogisticRegression(max_iter=1000,random_state=42)\n",
    "\n",
    "# Define hyperparameters for grid search\n",
    "param_grid_lr = {\n",
    "    'penalty': [None],\n",
    "}\n",
    "\n",
    "# Perform grid search with cross-validation\n",
    "grid_search_lr = GridSearchCV(estimator=lr_classifier, param_grid=param_grid_lr,\n",
    "                              cv=5, scoring='accuracy',error_score='raise')\n",
    "grid_search_lr.fit(X_train_LR, y_train)\n",
    "\n",
    "# Get the best model from grid search\n",
    "best_lr_model = grid_search_lr.best_estimator_\n",
    "\n",
    "# Best parameters\n",
    "best_lr= grid_search_lr.best_params_\n",
    "\n",
    "# Print the best parameters found by GridSearchCV\n",
    "print(\"Best Parameters:\", best_lr)"
   ]
  },
  {
   "cell_type": "markdown",
   "metadata": {
    "id": "8XBTMLIwpID6"
   },
   "source": [
    "Model is again trained with the best parameters obtained."
   ]
  },
  {
   "cell_type": "code",
   "execution_count": 182,
   "metadata": {
    "colab": {
     "base_uri": "https://localhost:8080/"
    },
    "id": "hWPyJEOl9tMD",
    "outputId": "4080826b-31fc-454f-85a9-35950e569741"
   },
   "outputs": [
    {
     "name": "stdout",
     "output_type": "stream",
     "text": [
      "Accuracy: 0.7649015433741352\n",
      "Precision: 0.7234651627661123\n",
      "Recall: 0.7649015433741352\n",
      "F1-score: 0.6700252537931214\n"
     ]
    }
   ],
   "source": [
    "# Creating a Logistic Regression classifier with the best parameters\n",
    "best_lr_classifier = LogisticRegression(max_iter=1000, **best_lr,\n",
    "                                        random_state=42)\n",
    "\n",
    "# Retraining the classifier on the entire training data\n",
    "best_lr_classifier.fit(X_train_LR, y_train)\n",
    "\n",
    "# Evaluate the best model on the test set\n",
    "y_pred_lr = best_lr_classifier.predict(X_train_LR)\n",
    "\n",
    "# Calculating accuracy\n",
    "lr_tr_a = accuracy_score(y_train, y_pred_lr)\n",
    "\n",
    "# Calculating precision\n",
    "lr_tr_p = precision_score(y_train, y_pred_lr, average='weighted',\n",
    "                          zero_division=1)\n",
    "\n",
    "# Calculating recall\n",
    "lr_tr_r = recall_score(y_train, y_pred_lr, average='weighted',zero_division=1)\n",
    "\n",
    "# Calculating F1-score\n",
    "lr_tr_f1 = f1_score(y_train, y_pred_lr, average='weighted', zero_division=1)\n",
    "\n",
    "print(\"Accuracy:\", lr_tr_a)\n",
    "print(\"Precision:\", lr_tr_p)\n",
    "print(\"Recall:\", lr_tr_r)\n",
    "print(\"F1-score:\", lr_tr_f1)"
   ]
  },
  {
   "cell_type": "code",
   "execution_count": 183,
   "metadata": {
    "colab": {
     "base_uri": "https://localhost:8080/"
    },
    "id": "bJ6ZYapEo7As",
    "outputId": "d631dfec-f064-44b2-8c4d-8cdc569378b9"
   },
   "outputs": [
    {
     "name": "stdout",
     "output_type": "stream",
     "text": [
      "Cross-validated Scores: [0.76396277 0.76247505 0.76247505 0.76580173 0.7671324 ]\n",
      "Mean Cross-validated Accuracy: 0.7643693994988746\n"
     ]
    }
   ],
   "source": [
    "from sklearn.model_selection import cross_val_score\n",
    "# Compute cross-validated scores\n",
    "cv_scores = cross_val_score(best_lr_classifier, X_train_LR, y_train, cv=5,\n",
    "                            scoring='accuracy')\n",
    "\n",
    "# Print cross-validated scores\n",
    "print(\"Cross-validated Scores:\", cv_scores)\n",
    "print(\"Mean Cross-validated Accuracy:\", cv_scores.mean())\n"
   ]
  },
  {
   "cell_type": "markdown",
   "metadata": {
    "id": "OUybjZhfDJ3R"
   },
   "source": [
    "The model is evaluated using test data and the performance metrics are calculated.\n",
    "\n"
   ]
  },
  {
   "cell_type": "code",
   "execution_count": 184,
   "metadata": {
    "colab": {
     "base_uri": "https://localhost:8080/"
    },
    "id": "uY_Okij19tMD",
    "outputId": "6c02c5fd-322e-4828-d3f1-0092846e4647"
   },
   "outputs": [
    {
     "name": "stdout",
     "output_type": "stream",
     "text": [
      "Accuracy: 0.7627659574468085\n",
      "Precision: 0.7043665012815093\n",
      "Recall: 0.7627659574468085\n",
      "F1-score: 0.6704978985775029\n"
     ]
    }
   ],
   "source": [
    "# Evaluate the best model on the test set\n",
    "y_pred_lr_t = best_lr_classifier.predict(X_test_LR)\n",
    "\n",
    "# Calculating accuracy\n",
    "lr_te_a = accuracy_score(y_test, y_pred_lr_t)\n",
    "\n",
    "# Calculating precision\n",
    "lr_te_p = precision_score(y_test, y_pred_lr_t, average='weighted',\n",
    "                          zero_division=1)\n",
    "\n",
    "# Calculating recall\n",
    "lr_te_r = recall_score(y_test, y_pred_lr_t, average='weighted',zero_division=1)\n",
    "\n",
    "# Calculating F1-score\n",
    "lr_te_f1 = f1_score(y_test, y_pred_lr_t, average='weighted', zero_division=1)\n",
    "\n",
    "print(\"Accuracy:\", lr_te_a)\n",
    "print(\"Precision:\", lr_te_p)\n",
    "print(\"Recall:\", lr_te_r)\n",
    "print(\"F1-score:\", lr_te_f1)"
   ]
  },
  {
   "cell_type": "code",
   "execution_count": 185,
   "metadata": {
    "colab": {
     "base_uri": "https://localhost:8080/",
     "height": 467
    },
    "id": "zSvjxnDxJuYv",
    "outputId": "907af362-79ff-4a48-a8c3-cb7ff65034bf"
   },
   "outputs": [
    {
     "data": {
      "text/plain": [
       "<sklearn.metrics._plot.confusion_matrix.ConfusionMatrixDisplay at 0x799a44fe5960>"
      ]
     },
     "execution_count": 185,
     "metadata": {},
     "output_type": "execute_result"
    },
    {
     "data": {
      "image/png": "[encoded data removed]",
      "text/plain": [
       "<Figure size 640x480 with 2 Axes>"
      ]
     },
     "metadata": {},
     "output_type": "display_data"
    }
   ],
   "source": [
    "#confusion matrix\n",
    "from sklearn.metrics import ConfusionMatrixDisplay\n",
    "ConfusionMatrixDisplay.from_predictions(y_test, y_pred_lr_t,\n",
    "                                        labels=best_lr_model.classes_,\n",
    "                                        xticks_rotation=\"vertical\",\n",
    "                                        normalize=\"true\",\n",
    "                                        cmap=plt.cm.Blues)"
   ]
  },
  {
   "cell_type": "markdown",
   "metadata": {
    "id": "RUx5w-nLqM0X"
   },
   "source": [
    "The logistic regression model shows a fairly consistent performance between the training and test datasets, indicating good generalization. The model's ability to generalize well to test data suggests that it is not overly complex and does not suffer from significant overfitting."
   ]
  },
  {
   "cell_type": "markdown",
   "metadata": {
    "id": "RHNqeiDV9tMD"
   },
   "source": [
    "### Adaboost Classifier"
   ]
  },
  {
   "cell_type": "code",
   "execution_count": 186,
   "metadata": {
    "colab": {
     "base_uri": "https://localhost:8080/"
    },
    "id": "IS2TrbSc9tMD",
    "outputId": "7d2200a5-ca27-4e57-b069-7e85cc1887d0"
   },
   "outputs": [
    {
     "name": "stdout",
     "output_type": "stream",
     "text": [
      "Best Parameters: {'learning_rate': 1.0, 'n_estimators': 100}\n"
     ]
    }
   ],
   "source": [
    "# Creating an AdaBoost classifier with Decision tree as base estimator\n",
    "base_estimator = DecisionTreeClassifier(max_depth=1)\n",
    "adaboost_classifier = AdaBoostClassifier(estimator=base_estimator,\n",
    "                                         random_state=42)\n",
    "\n",
    "# Define hyperparameters for grid search\n",
    "param_grid_ab = {\n",
    "    'n_estimators': [50, 100, 200],\n",
    "    'learning_rate': [0.01, 0.1, 1.0]\n",
    "}\n",
    "\n",
    "# Perform grid search with cross-validation\n",
    "grid_search_ab = GridSearchCV(estimator=adaboost_classifier,\n",
    "                              param_grid=param_grid_ab, cv=5,\n",
    "                              scoring='accuracy')\n",
    "\n",
    "grid_search_ab.fit(X_train_AB, y_train)\n",
    "\n",
    "# Get the best model from grid search\n",
    "best_adaboost_model = grid_search_ab.best_estimator_\n",
    "\n",
    "# Best parameters\n",
    "best_ab= grid_search_ab.best_params_\n",
    "\n",
    "# Print the best parameters found by GridSearchCV\n",
    "print(\"Best Parameters:\", best_ab)"
   ]
  },
  {
   "cell_type": "code",
   "execution_count": 187,
   "metadata": {
    "colab": {
     "base_uri": "https://localhost:8080/"
    },
    "id": "1825l9LJ9tMD",
    "outputId": "9d5c9827-8be8-4e82-a7cd-684bf7bf4686"
   },
   "outputs": [
    {
     "name": "stdout",
     "output_type": "stream",
     "text": [
      "Accuracy: 0.765167642362959\n",
      "Precision: 0.7159292945620459\n",
      "Recall: 0.765167642362959\n",
      "F1-score: 0.6713897464946472\n"
     ]
    }
   ],
   "source": [
    "# Creating a adaboost classifier with the best parameters\n",
    "base_estimator = DecisionTreeClassifier(max_depth=1)\n",
    "best_ab_classifier = AdaBoostClassifier(**best_ab, random_state=42,\n",
    "                                        estimator=base_estimator)\n",
    "\n",
    "# Retraining the classifier on the entire training data\n",
    "best_ab_classifier.fit(X_train_AB, y_train)\n",
    "\n",
    "# Evaluate the best model on the test set\n",
    "y_pred_ab = best_ab_classifier.predict(X_train_AB)\n",
    "\n",
    "# Calculating accuracy\n",
    "ab_tr_a = accuracy_score(y_train, y_pred_ab)\n",
    "\n",
    "# Calculating precision\n",
    "ab_tr_p = precision_score(y_train, y_pred_ab, average='weighted',\n",
    "                          zero_division=1)\n",
    "\n",
    "# Calculating recall\n",
    "ab_tr_r = recall_score(y_train, y_pred_ab, average='weighted',zero_division=1)\n",
    "\n",
    "# Calculating F1-score\n",
    "ab_tr_f1 = f1_score(y_train, y_pred_ab, average='weighted', zero_division=1)\n",
    "\n",
    "print(\"Accuracy:\", ab_tr_a)\n",
    "print(\"Precision:\", ab_tr_p)\n",
    "print(\"Recall:\", ab_tr_r)\n",
    "print(\"F1-score:\", ab_tr_f1)"
   ]
  },
  {
   "cell_type": "code",
   "execution_count": 188,
   "metadata": {
    "colab": {
     "base_uri": "https://localhost:8080/"
    },
    "id": "qATMs4XrqiRU",
    "outputId": "bea47ef8-35e7-46cc-f6bb-0f3db85eea28"
   },
   "outputs": [
    {
     "name": "stdout",
     "output_type": "stream",
     "text": [
      "Cross-validated Scores: [0.76728723 0.76314039 0.76580173 0.76513639 0.75981371]\n",
      "Mean Cross-validated Accuracy: 0.7642358899222831\n"
     ]
    }
   ],
   "source": [
    "from sklearn.model_selection import cross_val_score\n",
    "# Compute cross-validated scores\n",
    "cv_scores = cross_val_score(best_ab_classifier, X_train_AB, y_train, cv=5,\n",
    "                            scoring='accuracy')\n",
    "\n",
    "# Print cross-validated scores\n",
    "print(\"Cross-validated Scores:\", cv_scores)\n",
    "print(\"Mean Cross-validated Accuracy:\", cv_scores.mean())\n"
   ]
  },
  {
   "cell_type": "markdown",
   "metadata": {
    "id": "PCDU9xZ2DLjL"
   },
   "source": [
    "The model is evaluated using test data and the performance metrics are calculated.\n",
    "\n"
   ]
  },
  {
   "cell_type": "code",
   "execution_count": 189,
   "metadata": {
    "colab": {
     "base_uri": "https://localhost:8080/"
    },
    "id": "IOwzCNPD9tMD",
    "outputId": "56794c38-9749-482d-fb35-59916f0a42c2"
   },
   "outputs": [
    {
     "name": "stdout",
     "output_type": "stream",
     "text": [
      "Accuracy: 0.7643617021276595\n",
      "Precision: 0.7153974155936561\n",
      "Recall: 0.7643617021276595\n",
      "F1-score: 0.6742054927817189\n"
     ]
    }
   ],
   "source": [
    "# Evaluate the best model on the test set\n",
    "y_pred_ab_t = best_ab_classifier.predict(X_test_AB)\n",
    "\n",
    "# Calculating accuracy\n",
    "ab_te_a = accuracy_score(y_test, y_pred_ab_t)\n",
    "\n",
    "# Calculating precision\n",
    "ab_te_p = precision_score(y_test, y_pred_ab_t, average='weighted',\n",
    "                          zero_division=1)\n",
    "\n",
    "# Calculating recall\n",
    "ab_te_r = recall_score(y_test, y_pred_ab_t, average='weighted',zero_division=1)\n",
    "\n",
    "# Calculating F1-score\n",
    "ab_te_f1 = f1_score(y_test, y_pred_ab_t, average='weighted', zero_division=1)\n",
    "\n",
    "print(\"Accuracy:\", ab_te_a)\n",
    "print(\"Precision:\", ab_te_p)\n",
    "print(\"Recall:\", ab_te_r)\n",
    "print(\"F1-score:\", ab_te_f1)"
   ]
  },
  {
   "cell_type": "code",
   "execution_count": 190,
   "metadata": {
    "colab": {
     "base_uri": "https://localhost:8080/",
     "height": 461
    },
    "id": "zmuU4C0mJ5gy",
    "outputId": "7681fad2-9faf-49da-a4cb-7fc09222b112"
   },
   "outputs": [
    {
     "data": {
      "text/plain": [
       "<sklearn.metrics._plot.confusion_matrix.ConfusionMatrixDisplay at 0x799a47657a60>"
      ]
     },
     "execution_count": 190,
     "metadata": {},
     "output_type": "execute_result"
    },
    {
     "data": {
      "image/png": "[encoded data removed]",
      "text/plain": [
       "<Figure size 640x480 with 2 Axes>"
      ]
     },
     "metadata": {},
     "output_type": "display_data"
    }
   ],
   "source": [
    "#confusion matrix\n",
    "from sklearn.metrics import ConfusionMatrixDisplay\n",
    "ConfusionMatrixDisplay.from_predictions(y_test, y_pred_ab_t,\n",
    "                                        labels=best_adaboost_model.classes_,\n",
    "                                        xticks_rotation=\"vertical\",\n",
    "                                        normalize=\"true\",\n",
    "                                        cmap=plt.cm.Blues)"
   ]
  },
  {
   "cell_type": "markdown",
   "metadata": {
    "id": "VGN-BA_Fr0N0"
   },
   "source": [
    "The AdaBoost model exhibits robust performance across both training and testing datasets, demonstrating no overfitting. The slight improvement in F1-score from training to testing suggests the model may perform better under test conditions, indicating its applicability to real-world data."
   ]
  },
  {
   "cell_type": "markdown",
   "metadata": {
    "id": "-u87Q3Pu9tMD"
   },
   "source": [
    "### Gradient Boosting Classifier"
   ]
  },
  {
   "cell_type": "code",
   "execution_count": 191,
   "metadata": {
    "colab": {
     "base_uri": "https://localhost:8080/"
    },
    "id": "KVOenMp0PsTb",
    "outputId": "bb497a1a-43b7-439f-f161-aa610d96a0af"
   },
   "outputs": [
    {
     "name": "stdout",
     "output_type": "stream",
     "text": [
      "Best Parameters: {'learning_rate': 0.01, 'max_depth': 3, 'n_estimators': 50}\n"
     ]
    }
   ],
   "source": [
    "from sklearn.ensemble import GradientBoostingClassifier\n",
    "from sklearn.model_selection import GridSearchCV\n",
    "\n",
    "# Creating a Gradient Boosting classifier\n",
    "gb_classifier = GradientBoostingClassifier(random_state=42)\n",
    "\n",
    "# Define hyperparameters for grid search\n",
    "param_grid_gb = {\n",
    "    'n_estimators': [50, 100, 200],\n",
    "    'learning_rate': [0.01, 0.1, 1.0],\n",
    "    'max_depth': [3, 5, 7]\n",
    "}\n",
    "\n",
    "# Perform grid search with cross-validation\n",
    "grid_search_gb = GridSearchCV(estimator=gb_classifier, param_grid=param_grid_gb,\n",
    "                              cv=5)\n",
    "grid_search_gb.fit(X_train_GB, y_train)\n",
    "\n",
    "# Get the best model from grid search\n",
    "best_gb_model = grid_search_gb.best_estimator_\n",
    "\n",
    "# Best Parameters\n",
    "best_gb= grid_search_gb.best_params_\n",
    "\n",
    "# Print the best parameters found by GridSearchCV\n",
    "print(\"Best Parameters:\", best_gb)\n"
   ]
  },
  {
   "cell_type": "code",
   "execution_count": 192,
   "metadata": {
    "colab": {
     "base_uri": "https://localhost:8080/"
    },
    "id": "xqhLLjLu9tME",
    "outputId": "b8d5bc92-e294-43ca-c5ff-5121774078f6"
   },
   "outputs": [
    {
     "name": "stdout",
     "output_type": "stream",
     "text": [
      "Accuracy: 0.7639701969132517\n",
      "Precision: 0.8196802648584208\n",
      "Recall: 0.7639701969132517\n",
      "F1-score: 0.6617463977486636\n"
     ]
    }
   ],
   "source": [
    "# Creating a Gradient Boosting classifier with the best parameters\n",
    "best_gb_classifier = GradientBoostingClassifier(**best_gb, random_state=42)\n",
    "\n",
    "# Retraining the classifier on the entire training data\n",
    "best_gb_classifier.fit(X_train_GB, y_train)\n",
    "\n",
    "# Evaluate the best model on the test set\n",
    "y_pred_gb = best_gb_classifier.predict(X_train_GB)\n",
    "\n",
    "# Calculating accuracy\n",
    "gb_tr_a = accuracy_score(y_train, y_pred_gb)\n",
    "\n",
    "# Calculating precision\n",
    "gb_tr_p = precision_score(y_train, y_pred_gb, average='weighted',\n",
    "                          zero_division=1)\n",
    "\n",
    "# Calculating recall\n",
    "gb_tr_r = recall_score(y_train, y_pred_gb, average='weighted',zero_division=1)\n",
    "\n",
    "# Calculating F1-score\n",
    "gb_tr_f1 = f1_score(y_train, y_pred_gb, average='weighted', zero_division=1)\n",
    "\n",
    "print(\"Accuracy:\", gb_tr_a)\n",
    "print(\"Precision:\", gb_tr_p)\n",
    "print(\"Recall:\", gb_tr_r)\n",
    "print(\"F1-score:\", gb_tr_f1)"
   ]
  },
  {
   "cell_type": "code",
   "execution_count": 193,
   "metadata": {
    "colab": {
     "base_uri": "https://localhost:8080/"
    },
    "id": "SieRI7ILDRT0",
    "outputId": "c45e2a30-b66d-4c54-c77a-c2ed6c87b7fb"
   },
   "outputs": [
    {
     "name": "stdout",
     "output_type": "stream",
     "text": [
      "Cross-validated Scores: [0.76396277 0.76447106 0.76380572 0.76380572 0.76380572]\n",
      "Mean Cross-validated Accuracy: 0.7639701979020682\n"
     ]
    }
   ],
   "source": [
    "from sklearn.model_selection import cross_val_score\n",
    "# Compute cross-validated scores\n",
    "cv_scores = cross_val_score(best_gb_classifier, X_train_GB, y_train, cv=5,\n",
    "                            scoring='accuracy')\n",
    "\n",
    "# Print cross-validated scores\n",
    "print(\"Cross-validated Scores:\", cv_scores)\n",
    "print(\"Mean Cross-validated Accuracy:\", cv_scores.mean())\n"
   ]
  },
  {
   "cell_type": "markdown",
   "metadata": {
    "id": "WbNuMWY1DOTS"
   },
   "source": [
    "The model is evaluated using test data and the performance metrics are calculated.\n",
    "\n"
   ]
  },
  {
   "cell_type": "code",
   "execution_count": 194,
   "metadata": {
    "colab": {
     "base_uri": "https://localhost:8080/"
    },
    "id": "YONLi7Qj9tME",
    "outputId": "20b83186-bbe8-49f7-eef3-64cc5d1de826"
   },
   "outputs": [
    {
     "name": "stdout",
     "output_type": "stream",
     "text": [
      "Accuracy: 0.7638297872340426\n",
      "Precision: 0.8196061566319602\n",
      "Recall: 0.7638297872340426\n",
      "F1-score: 0.6615558350229704\n"
     ]
    }
   ],
   "source": [
    "# Evaluate the best model on the test set\n",
    "y_pred_gb_t = best_gb_classifier.predict(X_test_GB)\n",
    "\n",
    "# Calculating accuracy\n",
    "gb_te_a = accuracy_score(y_test, y_pred_gb_t)\n",
    "\n",
    "# Calculating precision\n",
    "gb_te_p = precision_score(y_test, y_pred_gb_t, average='weighted',\n",
    "                          zero_division=1)\n",
    "\n",
    "# Calculating recall\n",
    "gb_te_r = recall_score(y_test, y_pred_gb_t, average='weighted',zero_division=1)\n",
    "\n",
    "# Calculating F1-score\n",
    "gb_te_f1 = f1_score(y_test, y_pred_gb_t, average='weighted', zero_division=1)\n",
    "\n",
    "print(\"Accuracy:\", gb_te_a)\n",
    "print(\"Precision:\", gb_te_p)\n",
    "print(\"Recall:\", gb_te_r)\n",
    "print(\"F1-score:\", gb_te_f1)"
   ]
  },
  {
   "cell_type": "code",
   "execution_count": 195,
   "metadata": {
    "colab": {
     "base_uri": "https://localhost:8080/",
     "height": 467
    },
    "id": "sLV0hEk9KUcb",
    "outputId": "9e029787-bb1c-49b3-dcd3-d256254edbc1"
   },
   "outputs": [
    {
     "data": {
      "text/plain": [
       "<sklearn.metrics._plot.confusion_matrix.ConfusionMatrixDisplay at 0x799a43023f10>"
      ]
     },
     "execution_count": 195,
     "metadata": {},
     "output_type": "execute_result"
    },
    {
     "data": {
      "image/png": "[encoded data removed]",
      "text/plain": [
       "<Figure size 640x480 with 2 Axes>"
      ]
     },
     "metadata": {},
     "output_type": "display_data"
    }
   ],
   "source": [
    "#confusion matrix\n",
    "from sklearn.metrics import ConfusionMatrixDisplay\n",
    "ConfusionMatrixDisplay.from_predictions(y_test, y_pred_gb_t,\n",
    "                                        labels=best_gb_model.classes_,\n",
    "                                        xticks_rotation=\"vertical\",\n",
    "                                        normalize=\"true\",\n",
    "                                        cmap=plt.cm.Blues)"
   ]
  },
  {
   "cell_type": "markdown",
   "metadata": {
    "id": "CKIBL6pVsupZ"
   },
   "source": [
    "The Gradient Boosting Classifier consistently outperforms both training and test datasets in terms of precision, indicating its ability to predict true positives while minimizing false positives. This is particularly useful in high-cost false positive applications. However, the model's F1-score may bias towards fewer false positive errors, potentially missing some true positives."
   ]
  },
  {
   "cell_type": "markdown",
   "metadata": {
    "id": "8Xj2z1IU9tME"
   },
   "source": [
    "## 6. Model Comparison"
   ]
  },
  {
   "cell_type": "code",
   "execution_count": 196,
   "metadata": {
    "colab": {
     "base_uri": "https://localhost:8080/"
    },
    "id": "glKOoTu09tME",
    "outputId": "76ea0da8-287a-4abb-a5e4-3b49b2fde32f"
   },
   "outputs": [
    {
     "name": "stdout",
     "output_type": "stream",
     "text": [
      "Random Forest:\n",
      "Precision: 0.7095506029340575\n",
      "Recall: 0.7632978723404256\n",
      "Accuracy: 0.7632978723404256\n",
      "F1 Score: 0.6761963145290876\n",
      "Decision Tree:\n",
      "Precision: 0.6896154039011181\n",
      "Recall: 0.7632978723404256\n",
      "Accuracy: 0.7632978723404256\n",
      "F1 Score: 0.6880554813606333\n",
      "Logistic Regression:\n",
      "Precision: 0.7043665012815093\n",
      "Recall: 0.7627659574468085\n",
      "Accuracy: 0.7627659574468085\n",
      "F1 Score: 0.6704978985775029\n",
      "Adaboost model:\n",
      "Precision: 0.7043665012815093\n",
      "Recall: 0.7627659574468085\n",
      "Accuracy: 0.7627659574468085\n",
      "F1 Score: 0.6704978985775029\n",
      "Gradient Boosting model:\n",
      "Precision: 0.8196061566319602\n",
      "Recall: 0.7638297872340426\n",
      "Accuracy: 0.7638297872340426\n",
      "F1 Score: 0.6615558350229704\n"
     ]
    }
   ],
   "source": [
    "# Display all Test data performance results\n",
    "print(\"Random Forest:\")\n",
    "print(\"Precision:\", rf_te_p)\n",
    "print(\"Recall:\", rf_te_r)\n",
    "print(\"Accuracy:\", rf_te_a)\n",
    "print(\"F1 Score:\", rf_te_f1)\n",
    "\n",
    "print(\"Decision Tree:\")\n",
    "print(\"Precision:\", dt_te_p)\n",
    "print(\"Recall:\", dt_te_r)\n",
    "print(\"Accuracy:\", dt_te_a)\n",
    "print(\"F1 Score:\", dt_te_f1)\n",
    "\n",
    "print(\"Logistic Regression:\")\n",
    "print(\"Precision:\", lr_te_p)\n",
    "print(\"Recall:\", lr_te_r)\n",
    "print(\"Accuracy:\", lr_te_a)\n",
    "print(\"F1 Score:\", lr_te_f1)\n",
    "\n",
    "print(\"Adaboost model:\")\n",
    "print(\"Precision:\", lr_te_p)\n",
    "print(\"Recall:\", lr_te_r)\n",
    "print(\"Accuracy:\", lr_te_a)\n",
    "print(\"F1 Score:\", lr_te_f1)\n",
    "\n",
    "print(\"Gradient Boosting model:\")\n",
    "print(\"Precision:\", gb_te_p)\n",
    "print(\"Recall:\", gb_te_r)\n",
    "print(\"Accuracy:\", gb_te_a)\n",
    "print(\"F1 Score:\", gb_te_f1)"
   ]
  },
  {
   "cell_type": "markdown",
   "metadata": {
    "id": "rpgfDn2atufU"
   },
   "source": [
    "The Gradient Boosting model has the highest precision (81.96%), indicating its best accuracy in ensuring positive predictions. The Random Forest and Logistic Regression models have similar precision, slightly lower than Gradient Boosting. The Decision Tree model has the lowest precision, suggesting it makes more false positive errors. All models have similar recall values, with the Gradient Boosting model slightly better at capturing all positive cases. The overall accuracy of the model is slightly higher than the other models, with the Random Forest, Decision Tree, Logistic Regression, and AdaBoost models sharing identical accuracy scores. The F1 Score, a balance between precision and recall, evaluates the model's performance considering both false positives and false negatives. The Decision Tree model has the highest F1 Score, while the Gradient Boosting model has a lower F1 Score."
   ]
  },
  {
   "cell_type": "code",
   "execution_count": 197,
   "metadata": {
    "colab": {
     "base_uri": "https://localhost:8080/",
     "height": 607
    },
    "id": "9qpLNQz29tME",
    "outputId": "7c7f351f-fa52-4707-8d14-e256743b15b7"
   },
   "outputs": [
    {
     "data": {
      "image/png": "[encoded data removed]",
      "text/plain": [
       "<Figure size 1000x600 with 1 Axes>"
      ]
     },
     "metadata": {},
     "output_type": "display_data"
    }
   ],
   "source": [
    "import matplotlib.pyplot as plt\n",
    "\n",
    "# Results of different models\n",
    "models = ['RF', 'DT', 'LR', 'AB','GB']\n",
    "accuracy = [rf_te_a, dt_te_a, lr_te_a, ab_te_a,gb_te_a]\n",
    "precision = [rf_te_p, dt_te_p, lr_te_p, ab_te_p,gb_te_p]\n",
    "recall = [rf_te_r, dt_te_r, lr_te_r, ab_te_r,gb_te_r]\n",
    "f1scores = [rf_te_f1, dt_te_f1, lr_te_f1, ab_te_f1,gb_te_f1]\n",
    "\n",
    "# Plotting\n",
    "plt.figure(figsize=(10, 6))\n",
    "\n",
    "# Plot accuracy\n",
    "plt.bar([model + \" (Accuracy)\" for model in models], accuracy,\n",
    "        color='b', alpha=0.5, label='Accuracy')\n",
    "\n",
    "# Plot precision\n",
    "plt.bar([model + \" (Precision)\" for model in models], precision,\n",
    "        color='g', alpha=0.5, label='Precision')\n",
    "\n",
    "# Plot recall\n",
    "plt.bar([model + \" (Recall)\" for model in models], recall,\n",
    "        color='r', alpha=0.5, label='Recall')\n",
    "\n",
    "# Plot F1 score\n",
    "plt.bar([model + \" (F1 Score)\" for model in models], f1scores,\n",
    "        color='y', alpha=0.5, label='F1 Score')\n",
    "\n",
    "# Labels and title\n",
    "plt.xlabel('Models and Metrics', fontsize=14)\n",
    "plt.ylabel('Scores', fontsize=14)\n",
    "plt.title('Comparison of Performance Metrics for Different Models', fontsize=16)\n",
    "\n",
    "plt.xticks(rotation=45)  # Rotate x-axis labels for better visibility\n",
    "\n",
    "# Move legend to the right side\n",
    "plt.legend(loc='center left', bbox_to_anchor=(1, 0.5), fontsize=12)\n",
    "\n",
    "plt.tight_layout()\n",
    "plt.show()\n"
   ]
  },
  {
   "cell_type": "markdown",
   "metadata": {
    "id": "H2-UwzgXufuJ"
   },
   "source": [
    "Gradient Boosting stands out with the highest precision and slightly higher accuracy, making it the best choice in scenarios where it's crucial to minimize false positives and where the overall correctness of predictions is slightly more important.\n",
    "\n",
    "However, the Decision Tree model shows a good balance between precision and recall, as indicated by its F1 Score, suggesting it could be a strong contender in scenarios where both false positives and false negatives are equally costly.\n",
    "\n",
    "Despite sharing identical accuracy and recall with some models, AdaBoost and Logistic Regression do not excel in precision or F1 Score compared to Gradient Boosting or the Decision Tree model."
   ]
  },
  {
   "cell_type": "markdown",
   "metadata": {
    "id": "eA6JxAtcuhy7"
   },
   "source": [
    "The Gradient Boosting Model is the optimal choice for insurance companies to assess accident risk factors due to its superior precision in identifying high-risk clients and avoiding false positives. Although slightly lower than the Decision Tree model, its precision outweighs the need for a perfect balance between precision and recall.This approach helps in accurately pricing policies for high-risk clients while avoiding overpricing for low-risk individuals, maintaining competitiveness and fairness."
   ]
  },
  {
   "cell_type": "markdown",
   "metadata": {
    "id": "xEMy3qEa9tME"
   },
   "source": [
    "## 7. Future Improvements"
   ]
  },
  {
   "cell_type": "markdown",
   "metadata": {
    "id": "95lph53Dw6Yh"
   },
   "source": [
    "To enhance model learning, use techniques like SMOTE, feature importance analysis, and adjusting class weights. Integrate predictions into business processes and use techniques like oversampling or undersampling to address class imbalance issues. Incorporate temporal analysis to capture seasonality and trends in accident data. Integrate external datasets for a comprehensive understanding of accident severity factors. Establish a continuous monitoring framework, updating to adapt to evolving trends and emerging risk factors, and collaborate with domain experts to refine the model."
   ]
  },
  {
   "cell_type": "markdown",
   "metadata": {
    "id": "5rfxI24K9tME"
   },
   "source": [
    "## 8. Conclusion"
   ]
  },
  {
   "cell_type": "markdown",
   "metadata": {
    "id": "XmRceWPZPGWL"
   },
   "source": [
    "In conclusion, assessing accident risk factors using models like Gradient Boosting, Random Forest, Decision Tree, Logistic Regression, and AdaBoost offers valuable insights for insurance companies. The comparison of these models based on precision, recall, accuracy, and F1 score reveals that the Gradient Boosting model, with its high precision and good overall performance, is particularly suited for insurance risk assessment. Future improvements in insurance models include advanced feature engineering, hyperparameter tuning, ensemble methods, class imbalance, model interpretability, and operational process integration. Regular updates ensure relevance, align insurance practices with company goals, and improve customer satisfaction."
   ]
  },
  {
   "cell_type": "code",
   "execution_count": 198,
   "metadata": {
    "colab": {
     "base_uri": "https://localhost:8080/",
     "height": 17
    },
    "id": "IdSmze4Jzv2z",
    "outputId": "15d11bf7-1343-4542-f0a4-cf1bfdd8e5fb"
   },
   "outputs": [
    {
     "data": {
      "application/javascript": [
       "var nb = IPython.notebook;\n",
       "var kernel = IPython.notebook.kernel;\n",
       "var command = \"NOTEBOOK_FULL_PATH = '\" + nb.notebook_path + \"'\";\n",
       "kernel.execute(command);\n"
      ],
      "text/plain": [
       "<IPython.core.display.Javascript object>"
      ]
     },
     "metadata": {},
     "output_type": "display_data"
    }
   ],
   "source": [
    "%%javascript\n",
    "var nb = IPython.notebook;\n",
    "var kernel = IPython.notebook.kernel;\n",
    "var command = \"NOTEBOOK_FULL_PATH = '\" + nb.notebook_path + \"'\";\n",
    "kernel.execute(command);"
   ]
  },
  {
   "cell_type": "code",
   "execution_count": 199,
   "metadata": {
    "colab": {
     "base_uri": "https://localhost:8080/"
    },
    "id": "GdBeqbtYzwse",
    "outputId": "efa3e493-ce8e-422e-8d1c-ddc8b1904a87"
   },
   "outputs": [
    {
     "name": "stdout",
     "output_type": "stream",
     "text": [
      "Word count: 1417\n"
     ]
    }
   ],
   "source": [
    "import io\n",
    "from nbformat import read, NO_CONVERT\n",
    "NOTEBOOK_FULL_PATH= r\"/content/BigData_230181766_v1.ipynb\"\n",
    "with io.open(NOTEBOOK_FULL_PATH.split(\"/\")[-1], 'r', encoding='utf-8') as f:\n",
    "    nb = read(f, NO_CONVERT)\n",
    "\n",
    "word_count = 0\n",
    "for cell in nb.cells:\n",
    "    if cell.cell_type == \"markdown\":\n",
    "        word_count += len(cell['source'].replace('#', '').lstrip().split(' '))\n",
    "print(f\"Word count: {word_count}\")"
   ]
  }
 ],
 "metadata": {
  "accelerator": "GPU",
  "colab": {
   "gpuType": "T4",
   "provenance": []
  },
  "kernelspec": {
   "display_name": "Python 3 (ipykernel)",
   "language": "python",
   "name": "python3"
  },
  "language_info": {
   "codemirror_mode": {
    "name": "ipython",
    "version": 3
   },
   "file_extension": ".py",
   "mimetype": "text/x-python",
   "name": "python",
   "nbconvert_exporter": "python",
   "pygments_lexer": "ipython3",
   "version": "3.11.4"
  }
 },
 "nbformat": 4,
 "nbformat_minor": 1
}
