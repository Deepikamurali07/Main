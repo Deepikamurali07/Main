{
 "cells": [
  {
   "cell_type": "markdown",
   "id": "8b307b84",
   "metadata": {},
   "source": [
    "# **Software for Analytics**"
   ]
  },
  {
   "cell_type": "markdown",
   "id": "246eb4ec",
   "metadata": {},
   "source": [
    "## Exploratory data analysis (EDA) project"
   ]
  },
  {
   "cell_type": "markdown",
   "id": "1b861d1b",
   "metadata": {},
   "source": [
    "## Introduction "
   ]
  },
  {
   "cell_type": "markdown",
   "id": "66229e4a",
   "metadata": {},
   "source": [
    "This EDA project aims to understand vaccination trends and status in the United Kingdom. The analysis was carried out with provided UK vaccination data. The analysis was conducted using a variety of visualisation techniques, Descriptive statistics, hypothesis testing, and the development of a linear regression model."
   ]
  },
  {
   "cell_type": "code",
   "execution_count": 1,
   "id": "3b3013ff",
   "metadata": {},
   "outputs": [],
   "source": [
    "# importing required libraries\n",
    "import pandas as pd\n",
    "import numpy as np\n",
    "import matplotlib.pyplot as plt\n",
    "import seaborn as sns\n",
    "#magic function for diplaying plot in the notebook\n",
    "%matplotlib inline"
   ]
  },
  {
   "cell_type": "markdown",
   "id": "8593ea91",
   "metadata": {},
   "source": [
    "Using the above code, python libraries are included for the project developmant and execution"
   ]
  },
  {
   "cell_type": "code",
   "execution_count": 2,
   "id": "ad400174",
   "metadata": {},
   "outputs": [
    {
     "data": {
      "text/html": [
       "<div>\n",
       "<style scoped>\n",
       "    .dataframe tbody tr th:only-of-type {\n",
       "        vertical-align: middle;\n",
       "    }\n",
       "\n",
       "    .dataframe tbody tr th {\n",
       "        vertical-align: top;\n",
       "    }\n",
       "\n",
       "    .dataframe thead th {\n",
       "        text-align: right;\n",
       "    }\n",
       "</style>\n",
       "<table border=\"1\" class=\"dataframe\">\n",
       "  <thead>\n",
       "    <tr style=\"text-align: right;\">\n",
       "      <th></th>\n",
       "      <th>areaName</th>\n",
       "      <th>areaCode</th>\n",
       "      <th>year</th>\n",
       "      <th>month</th>\n",
       "      <th>Quarter</th>\n",
       "      <th>day</th>\n",
       "      <th>WorkingDay</th>\n",
       "      <th>FirstDose</th>\n",
       "      <th>SecondDose</th>\n",
       "      <th>ThirdDose</th>\n",
       "    </tr>\n",
       "  </thead>\n",
       "  <tbody>\n",
       "    <tr>\n",
       "      <th>0</th>\n",
       "      <td>England</td>\n",
       "      <td>E92000001</td>\n",
       "      <td>2022.0</td>\n",
       "      <td>5</td>\n",
       "      <td>Q2</td>\n",
       "      <td>Mon</td>\n",
       "      <td>Yes</td>\n",
       "      <td>3034.0</td>\n",
       "      <td>3857.0</td>\n",
       "      <td>8747.0</td>\n",
       "    </tr>\n",
       "    <tr>\n",
       "      <th>1</th>\n",
       "      <td>England</td>\n",
       "      <td>E92000001</td>\n",
       "      <td>2022.0</td>\n",
       "      <td>5</td>\n",
       "      <td>Q2</td>\n",
       "      <td>Sun</td>\n",
       "      <td>No</td>\n",
       "      <td>5331.0</td>\n",
       "      <td>3330.0</td>\n",
       "      <td>4767.0</td>\n",
       "    </tr>\n",
       "    <tr>\n",
       "      <th>2</th>\n",
       "      <td>England</td>\n",
       "      <td>E92000001</td>\n",
       "      <td>2022.0</td>\n",
       "      <td>5</td>\n",
       "      <td>Q2</td>\n",
       "      <td>Sat</td>\n",
       "      <td>No</td>\n",
       "      <td>13852.0</td>\n",
       "      <td>9759.0</td>\n",
       "      <td>12335.0</td>\n",
       "    </tr>\n",
       "    <tr>\n",
       "      <th>3</th>\n",
       "      <td>England</td>\n",
       "      <td>E92000001</td>\n",
       "      <td>2022.0</td>\n",
       "      <td>5</td>\n",
       "      <td>Q2</td>\n",
       "      <td>Fri</td>\n",
       "      <td>Yes</td>\n",
       "      <td>5818.0</td>\n",
       "      <td>5529.0</td>\n",
       "      <td>10692.0</td>\n",
       "    </tr>\n",
       "    <tr>\n",
       "      <th>4</th>\n",
       "      <td>England</td>\n",
       "      <td>E92000001</td>\n",
       "      <td>2022.0</td>\n",
       "      <td>5</td>\n",
       "      <td>Q2</td>\n",
       "      <td>Thu</td>\n",
       "      <td>Yes</td>\n",
       "      <td>8439.0</td>\n",
       "      <td>6968.0</td>\n",
       "      <td>11701.0</td>\n",
       "    </tr>\n",
       "  </tbody>\n",
       "</table>\n",
       "</div>"
      ],
      "text/plain": [
       "  areaName   areaCode    year  month Quarter  day WorkingDay  FirstDose  \\\n",
       "0  England  E92000001  2022.0      5      Q2  Mon        Yes     3034.0   \n",
       "1  England  E92000001  2022.0      5      Q2  Sun         No     5331.0   \n",
       "2  England  E92000001  2022.0      5      Q2  Sat         No    13852.0   \n",
       "3  England  E92000001  2022.0      5      Q2  Fri        Yes     5818.0   \n",
       "4  England  E92000001  2022.0      5      Q2  Thu        Yes     8439.0   \n",
       "\n",
       "   SecondDose  ThirdDose  \n",
       "0      3857.0     8747.0  \n",
       "1      3330.0     4767.0  \n",
       "2      9759.0    12335.0  \n",
       "3      5529.0    10692.0  \n",
       "4      6968.0    11701.0  "
      ]
     },
     "execution_count": 2,
     "metadata": {},
     "output_type": "execute_result"
    }
   ],
   "source": [
    "# read the excel Dataset file\n",
    "df=pd.read_excel(\"UK_VaccinationsData.xlsx\")\n",
    "df.head() # Display the first five rows"
   ]
  },
  {
   "cell_type": "markdown",
   "id": "ee462b2e",
   "metadata": {},
   "source": [
    "Here we are reading the excel file of UK Vaccination dataset that is being used for the analysis"
   ]
  },
  {
   "cell_type": "markdown",
   "id": "bf0b5958",
   "metadata": {},
   "source": [
    "### 1. Generate descriptive statistics for the dataset, and comment on the main trends."
   ]
  },
  {
   "cell_type": "code",
   "execution_count": 3,
   "id": "df4acf52",
   "metadata": {},
   "outputs": [
    {
     "data": {
      "text/html": [
       "<div>\n",
       "<style scoped>\n",
       "    .dataframe tbody tr th:only-of-type {\n",
       "        vertical-align: middle;\n",
       "    }\n",
       "\n",
       "    .dataframe tbody tr th {\n",
       "        vertical-align: top;\n",
       "    }\n",
       "\n",
       "    .dataframe thead th {\n",
       "        text-align: right;\n",
       "    }\n",
       "</style>\n",
       "<table border=\"1\" class=\"dataframe\">\n",
       "  <thead>\n",
       "    <tr style=\"text-align: right;\">\n",
       "      <th></th>\n",
       "      <th>year</th>\n",
       "      <th>month</th>\n",
       "      <th>FirstDose</th>\n",
       "      <th>SecondDose</th>\n",
       "      <th>ThirdDose</th>\n",
       "    </tr>\n",
       "  </thead>\n",
       "  <tbody>\n",
       "    <tr>\n",
       "      <th>count</th>\n",
       "      <td>903.000000</td>\n",
       "      <td>904.000000</td>\n",
       "      <td>900.000000</td>\n",
       "      <td>901.000000</td>\n",
       "      <td>898.000000</td>\n",
       "    </tr>\n",
       "    <tr>\n",
       "      <th>mean</th>\n",
       "      <td>2021.625692</td>\n",
       "      <td>5.946903</td>\n",
       "      <td>4994.323333</td>\n",
       "      <td>5574.125416</td>\n",
       "      <td>42529.570156</td>\n",
       "    </tr>\n",
       "    <tr>\n",
       "      <th>std</th>\n",
       "      <td>0.484212</td>\n",
       "      <td>4.146467</td>\n",
       "      <td>9651.335670</td>\n",
       "      <td>9174.101390</td>\n",
       "      <td>104877.579915</td>\n",
       "    </tr>\n",
       "    <tr>\n",
       "      <th>min</th>\n",
       "      <td>2021.000000</td>\n",
       "      <td>1.000000</td>\n",
       "      <td>0.000000</td>\n",
       "      <td>0.000000</td>\n",
       "      <td>0.000000</td>\n",
       "    </tr>\n",
       "    <tr>\n",
       "      <th>25%</th>\n",
       "      <td>2021.000000</td>\n",
       "      <td>2.000000</td>\n",
       "      <td>338.500000</td>\n",
       "      <td>478.000000</td>\n",
       "      <td>1313.500000</td>\n",
       "    </tr>\n",
       "    <tr>\n",
       "      <th>50%</th>\n",
       "      <td>2022.000000</td>\n",
       "      <td>4.000000</td>\n",
       "      <td>876.500000</td>\n",
       "      <td>971.000000</td>\n",
       "      <td>6992.000000</td>\n",
       "    </tr>\n",
       "    <tr>\n",
       "      <th>75%</th>\n",
       "      <td>2022.000000</td>\n",
       "      <td>11.000000</td>\n",
       "      <td>3653.250000</td>\n",
       "      <td>5770.000000</td>\n",
       "      <td>23464.750000</td>\n",
       "    </tr>\n",
       "    <tr>\n",
       "      <th>max</th>\n",
       "      <td>2022.000000</td>\n",
       "      <td>12.000000</td>\n",
       "      <td>115551.000000</td>\n",
       "      <td>48491.000000</td>\n",
       "      <td>830403.000000</td>\n",
       "    </tr>\n",
       "  </tbody>\n",
       "</table>\n",
       "</div>"
      ],
      "text/plain": [
       "              year       month      FirstDose    SecondDose      ThirdDose\n",
       "count   903.000000  904.000000     900.000000    901.000000     898.000000\n",
       "mean   2021.625692    5.946903    4994.323333   5574.125416   42529.570156\n",
       "std       0.484212    4.146467    9651.335670   9174.101390  104877.579915\n",
       "min    2021.000000    1.000000       0.000000      0.000000       0.000000\n",
       "25%    2021.000000    2.000000     338.500000    478.000000    1313.500000\n",
       "50%    2022.000000    4.000000     876.500000    971.000000    6992.000000\n",
       "75%    2022.000000   11.000000    3653.250000   5770.000000   23464.750000\n",
       "max    2022.000000   12.000000  115551.000000  48491.000000  830403.000000"
      ]
     },
     "execution_count": 3,
     "metadata": {},
     "output_type": "execute_result"
    }
   ],
   "source": [
    "'''This function returns the mean, Standard deviation,\n",
    "            minimum and maximum values etc.'''\n",
    "df.describe()"
   ]
  },
  {
   "cell_type": "markdown",
   "id": "5c53ae03",
   "metadata": {},
   "source": [
    "1. There is around 900 records in the UK Vaccination dataset.\n",
    "2. An average number of people who have taken their first, second and third dosage are around 4,995; 5,575 and 42,530\n",
    "3. For first, second and third dose the mean value is greater than median value, this states that it is positively skewed (right skewed).\n",
    "4. The maximum dosage was taken in the year 2022 on month of December, the minimum dosage was taken on January 2021.\n",
    "5. Maximum number of people who have taken the first dose on a single day are 1,15,551. Similarly 48,491 and 8,30,403 people took the second and the third dose respectively."
   ]
  },
  {
   "cell_type": "markdown",
   "id": "80fec618",
   "metadata": {},
   "source": [
    "### 2. Check any records with missing values and handle the missing data as appropriate."
   ]
  },
  {
   "cell_type": "code",
   "execution_count": 4,
   "id": "68ff28ab",
   "metadata": {},
   "outputs": [
    {
     "data": {
      "text/plain": [
       "areaName      0\n",
       "areaCode      0\n",
       "year          1\n",
       "month         0\n",
       "Quarter       1\n",
       "day           1\n",
       "WorkingDay    2\n",
       "FirstDose     4\n",
       "SecondDose    3\n",
       "ThirdDose     6\n",
       "dtype: int64"
      ]
     },
     "execution_count": 4,
     "metadata": {},
     "output_type": "execute_result"
    }
   ],
   "source": [
    "# Checks for empty places in each column and return the count\n",
    "df.isnull().sum()"
   ]
  },
  {
   "cell_type": "code",
   "execution_count": 5,
   "id": "df8216b5",
   "metadata": {},
   "outputs": [],
   "source": [
    "# Delete the row where there is empty places\n",
    "df.dropna(inplace=True)"
   ]
  },
  {
   "cell_type": "code",
   "execution_count": 6,
   "id": "d4835bb8",
   "metadata": {},
   "outputs": [
    {
     "data": {
      "text/plain": [
       "areaName      0\n",
       "areaCode      0\n",
       "year          0\n",
       "month         0\n",
       "Quarter       0\n",
       "day           0\n",
       "WorkingDay    0\n",
       "FirstDose     0\n",
       "SecondDose    0\n",
       "ThirdDose     0\n",
       "dtype: int64"
      ]
     },
     "execution_count": 6,
     "metadata": {},
     "output_type": "execute_result"
    }
   ],
   "source": [
    "# Rechecking if there is any empty cells\n",
    "df.isnull().sum()"
   ]
  },
  {
   "cell_type": "markdown",
   "id": "e91520bd",
   "metadata": {},
   "source": [
    "1. In this part, the data set has been detected with invaled and missing values.\n",
    "2. using the dropna() function the records with missing values are been removed from the dataset for analysis."
   ]
  },
  {
   "cell_type": "markdown",
   "id": "733a1f81",
   "metadata": {},
   "source": [
    "### 3. A. the distribution of one or more individual continuous variables"
   ]
  },
  {
   "cell_type": "code",
   "execution_count": 7,
   "id": "caf4b08b",
   "metadata": {},
   "outputs": [
    {
     "data": {
      "text/plain": [
       "Text(0.5, 1.0, 'Distribution of number of people taken first dose')"
      ]
     },
     "execution_count": 7,
     "metadata": {},
     "output_type": "execute_result"
    },
    {
     "data": {
      "image/png": "[encoded data removed]",
      "text/plain": [
       "<Figure size 640x480 with 1 Axes>"
      ]
     },
     "metadata": {},
     "output_type": "display_data"
    }
   ],
   "source": [
    "'''plotting the distribution of number of people \n",
    "who have taken first dosage using Seaborn '''\n",
    "\n",
    "sns.histplot(df['FirstDose'], bins=20, kde=True)\n",
    "# add x/y labels\n",
    "plt.xlabel(\"No of people who have taken first dose\") \n",
    "plt.ylabel(\"frequency\")\n",
    "# add title\n",
    "plt.title(\"Distribution of number of people taken first dose\")"
   ]
  },
  {
   "cell_type": "markdown",
   "id": "39043de7",
   "metadata": {},
   "source": [
    "1. The histogram shows that distribution of number of people who have taken first dosage during the years 2021 and 2022. \n",
    "2. The graph is positively skewed, the number of people who have taken first dosage are mostly around 10,000 people in a day and gradually decreasing.\n",
    "3. By looking into above graph there was few days where around 80,000 doses were taken in a single day."
   ]
  },
  {
   "cell_type": "markdown",
   "id": "f7ba21c3",
   "metadata": {},
   "source": [
    "### 3. B. the relationship of a pair of continuous variables."
   ]
  },
  {
   "cell_type": "code",
   "execution_count": 8,
   "id": "66c2ca2b",
   "metadata": {},
   "outputs": [
    {
     "data": {
      "text/plain": [
       "Text(0.5, 1.0, 'No of people how have taken first dose vs second dose')"
      ]
     },
     "execution_count": 8,
     "metadata": {},
     "output_type": "execute_result"
    },
    {
     "data": {
      "image/png": "[encoded data removed]",
      "text/plain": [
       "<Figure size 500x500 with 1 Axes>"
      ]
     },
     "metadata": {},
     "output_type": "display_data"
    }
   ],
   "source": [
    "'''creating a scatter plot showing the relationship between the \n",
    "        number of people who have taken first and second dosages'''\n",
    "\n",
    "sns.relplot(x='FirstDose', y = 'SecondDose',  data=df)\n",
    "# add x/y labels\n",
    "plt.xlabel(\"first dose\")\n",
    "plt.ylabel(\"second dose\")\n",
    "# add title\n",
    "plt.title(\"No of people how have taken first dose vs second dose\")"
   ]
  },
  {
   "cell_type": "markdown",
   "id": "9db2ff63",
   "metadata": {},
   "source": [
    "1. The above graphs shows the relationship between the number of people who have take the first dosage and second dosage.\n",
    "2. There is a strong positive correlation between them. This states that when number of people who have taken first dose increases, the number of people who have taken second dose also increases.\n",
    "3. From this we can conclude that people who have taken the first dose are more likely to get the second dosage as well."
   ]
  },
  {
   "cell_type": "markdown",
   "id": "8201976c",
   "metadata": {},
   "source": [
    "### C. the association b/w a categorical variable and a continuous one."
   ]
  },
  {
   "cell_type": "code",
   "execution_count": 9,
   "id": "50f64d91",
   "metadata": {},
   "outputs": [
    {
     "data": {
      "text/plain": [
       "Text(0.5, 1.0, 'No of people who have taken first dose of vaccination for each month in UK')"
      ]
     },
     "execution_count": 9,
     "metadata": {},
     "output_type": "execute_result"
    },
    {
     "data": {
      "image/png": "[encoded data removed]",
      "text/plain": [
       "<Figure size 640x480 with 1 Axes>"
      ]
     },
     "metadata": {},
     "output_type": "display_data"
    }
   ],
   "source": [
    "'''creating a bar plot showing the number of people \n",
    "            who took first dose in each month'''\n",
    "\n",
    "sns.barplot(x='month', y = 'FirstDose',  data=df,errorbar=None)\n",
    "# add x/y labels\n",
    "plt.xlabel(\"Month\")\n",
    "plt.ylabel(\"No of people who have taken first dosage\")\n",
    "# add title\n",
    "plt.title(\"No of people who have taken first dose\"\n",
    "          \" of vaccination for each month in UK\")"
   ]
  },
  {
   "cell_type": "markdown",
   "id": "19e82bfd",
   "metadata": {},
   "source": [
    "1. The number of people who have taken first dosage tend to be more in september followed by October, November and December.\n",
    "2. The lowest number of people who took first dosage was during March.\n",
    "3. The Number of people taken first dose tends to be low in the first half of the year and tend to reach peak in september and gradually decreases again."
   ]
  },
  {
   "cell_type": "markdown",
   "id": "d287054e",
   "metadata": {},
   "source": [
    "### D. The relationship between more than two variables, e.g., using semantic mappings."
   ]
  },
  {
   "cell_type": "code",
   "execution_count": 10,
   "id": "2f4853e9",
   "metadata": {},
   "outputs": [
    {
     "data": {
      "text/plain": [
       "<seaborn.axisgrid.FacetGrid at 0x21a7c652ad0>"
      ]
     },
     "execution_count": 10,
     "metadata": {},
     "output_type": "execute_result"
    },
    {
     "data": {
      "image/png": "[encoded data removed]",
      "text/plain": [
       "<Figure size 664.125x500 with 1 Axes>"
      ]
     },
     "metadata": {},
     "output_type": "display_data"
    }
   ],
   "source": [
    "'''creating a scatter plot showing the number of people \n",
    "                who took first and second dose in each area'''\n",
    "\n",
    "ax=sns.relplot(x='FirstDose',y='SecondDose', hue='areaName',\n",
    "               palette=\"bright\", data=df)\n",
    "# add x/y labels\n",
    "ax.set(xlabel='Number of people taken second dosage',\n",
    "       ylabel='Number of people taken first dosage', \n",
    "       title='Relation between No of people taken'\n",
    "       ' first and second dosage in each area')"
   ]
  },
  {
   "cell_type": "markdown",
   "id": "1ecc10f1",
   "metadata": {},
   "source": [
    "1. The graphs states the relationship between number of pwople taken the first dosage and second dosage in each area in United Kingdom.\n",
    "2. More vaccination has been taken in England compare to other areas and the  graph is also following a strong correlation.\n",
    "3. We can conclude from above graph that people in England tend to be more concerned on their health and people who have taken their first dose are also taking their second dosage."
   ]
  },
  {
   "cell_type": "markdown",
   "id": "74fa97d9",
   "metadata": {},
   "source": [
    "### 4. Display unique values of a categorical variable and their frequencies."
   ]
  },
  {
   "cell_type": "code",
   "execution_count": 11,
   "id": "f951aa36",
   "metadata": {},
   "outputs": [
    {
     "name": "stdout",
     "output_type": "stream",
     "text": [
      "The Quarter in which vaccinations were taken are: ['Q2' 'Q1' 'Q4']\n",
      "The vaccination count in each quarter are as follows:\n",
      " Q1    359\n",
      "Q4    328\n",
      "Q2    203\n",
      "Name: Quarter, dtype: int64\n"
     ]
    }
   ],
   "source": [
    "# The Vaccinations counts in each quarter\n",
    "UniqueValues=df['Quarter'].unique()\n",
    "print(f\"The Quarter in which vaccinations\"\n",
    "      f\" were taken are: {UniqueValues}\")\n",
    "VaccineCounts=df['Quarter'].value_counts()\n",
    "print(f\"The vaccination count in each\"\n",
    "      f\" quarter are as follows:\\n {VaccineCounts}\")\n"
   ]
  },
  {
   "cell_type": "code",
   "execution_count": 12,
   "id": "7d29f650",
   "metadata": {},
   "outputs": [
    {
     "data": {
      "text/plain": [
       "Text(0.5, 1.0, 'Distribution of each quarter of the year 2021 and 2022')"
      ]
     },
     "execution_count": 12,
     "metadata": {},
     "output_type": "execute_result"
    },
    {
     "data": {
      "image/png": "[encoded data removed]",
      "text/plain": [
       "<Figure size 640x480 with 1 Axes>"
      ]
     },
     "metadata": {},
     "output_type": "display_data"
    }
   ],
   "source": [
    "'''plotting the distribution of number of vaccinations taken in \n",
    "            each quarters in the year 2021 and 2022 using Seaborn''' \n",
    "\n",
    "sns.histplot(df['Quarter'], bins=20)\n",
    "# add x/y labels\n",
    "plt.xlabel(\"Quarters\") \n",
    "plt.ylabel(\"frequency\")\n",
    "# add title\n",
    "plt.title(\"Distribution of each quarter of the year 2021 and 2022\")"
   ]
  },
  {
   "cell_type": "markdown",
   "id": "dd640cd4",
   "metadata": {},
   "source": [
    "1. The above graph shows the frequency distribution of number of vaccination taken on each quarters of the year 2021 and 2022.\n",
    "2. The number of people who have taken vaccination on Q1 tends to be higher with a frequency of 359, followed by Q2, Q4 with frequencies of 203 and 328 respectively.\n",
    "3. In Q3, no one has taken vaccinations across UK."
   ]
  },
  {
   "cell_type": "markdown",
   "id": "42779aa7",
   "metadata": {},
   "source": [
    "### 5. Build a contingency table of two potentially related categorical variables. Conduct a statistical test of the independence between them and interpret the results."
   ]
  },
  {
   "cell_type": "code",
   "execution_count": 13,
   "id": "af6753b7",
   "metadata": {},
   "outputs": [],
   "source": [
    "# import library for performing statistical analysis\n",
    "from scipy import stats"
   ]
  },
  {
   "cell_type": "code",
   "execution_count": 14,
   "id": "934a7f97",
   "metadata": {},
   "outputs": [
    {
     "name": "stdout",
     "output_type": "stream",
     "text": [
      "Quarter           Q1  Q2  Q4\n",
      "areaName                    \n",
      "England           90  53  92\n",
      "Northern Ireland  89  53  91\n",
      "Scotland          90  49  79\n",
      "Wales             90  48  66\n"
     ]
    }
   ],
   "source": [
    "# create contigency table with areaname and quarter\n",
    "con_table = pd.crosstab(df['areaName'], df['Quarter']) \n",
    "print(con_table) "
   ]
  },
  {
   "cell_type": "code",
   "execution_count": 15,
   "id": "59ac45c5",
   "metadata": {},
   "outputs": [
    {
     "data": {
      "text/plain": [
       "<Axes: xlabel='areaName'>"
      ]
     },
     "execution_count": 15,
     "metadata": {},
     "output_type": "execute_result"
    },
    {
     "data": {
      "image/png": "[encoded data removed]",
      "text/plain": [
       "<Figure size 640x480 with 1 Axes>"
      ]
     },
     "metadata": {},
     "output_type": "display_data"
    }
   ],
   "source": [
    "#Plots graph based on contingency table\n",
    "con_table.plot(kind='bar',stacked=False)"
   ]
  },
  {
   "cell_type": "markdown",
   "id": "6a2b0cb0",
   "metadata": {},
   "source": [
    "1. The above graph states about the number of people who took vaccination in different places across United Kingdom in all 4 quarters of the year.\n",
    "2. In England, the number of people who have taken vaccination are higher in Q4, followed by in Q1, Q2 and Q3 respectively. Northern Ireland follows same trend as England.\n",
    "3. In Scotland and Wales, more vaccination was taken in Q1, followed by Q4 and Q2.\n"
   ]
  },
  {
   "cell_type": "code",
   "execution_count": 16,
   "id": "96e97f92",
   "metadata": {},
   "outputs": [],
   "source": [
    "# statistical test - chi-square test\n",
    "chi2, p_val, dof, expected=stats.chi2_contingency(con_table)"
   ]
  },
  {
   "cell_type": "code",
   "execution_count": 17,
   "id": "b7bdce0b",
   "metadata": {},
   "outputs": [
    {
     "name": "stdout",
     "output_type": "stream",
     "text": [
      "p-value: 0.7925789480239712\n",
      "We fail to reject the null hypothesis as p-value 0.7925789480239712 is greater than 0.05\n"
     ]
    }
   ],
   "source": [
    "#printing p value and interpretation\n",
    "print(f\"p-value: {p_val}\")\n",
    "if p_val<0.05:\n",
    "    print(f\"We reject the null hypothesis as p-value {p_val}\"\n",
    "          \" is less than 0.05\")\n",
    "else:\n",
    "    print(f\"We fail to reject the null hypothesis as p-value {p_val}\" \n",
    "          \" is greater than 0.05\")\n"
   ]
  },
  {
   "cell_type": "markdown",
   "id": "a603fe04",
   "metadata": {},
   "source": [
    "The p-value (0.1855) obtained from statistical test of independence is greater that 0.05, this states that we fail to reject the null hypothesis and the categorical variables quarter and areaName are independent."
   ]
  },
  {
   "cell_type": "markdown",
   "id": "9791ff2d",
   "metadata": {},
   "source": [
    "### 6. Retrieve one or more subset of rows based on two or more criteria and present descriptive statistics on the subset(s)."
   ]
  },
  {
   "cell_type": "code",
   "execution_count": 18,
   "id": "21699762",
   "metadata": {},
   "outputs": [
    {
     "data": {
      "text/html": [
       "<div>\n",
       "<style scoped>\n",
       "    .dataframe tbody tr th:only-of-type {\n",
       "        vertical-align: middle;\n",
       "    }\n",
       "\n",
       "    .dataframe tbody tr th {\n",
       "        vertical-align: top;\n",
       "    }\n",
       "\n",
       "    .dataframe thead th {\n",
       "        text-align: right;\n",
       "    }\n",
       "</style>\n",
       "<table border=\"1\" class=\"dataframe\">\n",
       "  <thead>\n",
       "    <tr style=\"text-align: right;\">\n",
       "      <th></th>\n",
       "      <th>areaName</th>\n",
       "      <th>areaCode</th>\n",
       "      <th>year</th>\n",
       "      <th>month</th>\n",
       "      <th>Quarter</th>\n",
       "      <th>day</th>\n",
       "      <th>WorkingDay</th>\n",
       "      <th>FirstDose</th>\n",
       "      <th>SecondDose</th>\n",
       "      <th>ThirdDose</th>\n",
       "    </tr>\n",
       "  </thead>\n",
       "  <tbody>\n",
       "    <tr>\n",
       "      <th>53</th>\n",
       "      <td>England</td>\n",
       "      <td>E92000001</td>\n",
       "      <td>2022.0</td>\n",
       "      <td>3</td>\n",
       "      <td>Q1</td>\n",
       "      <td>Thu</td>\n",
       "      <td>Yes</td>\n",
       "      <td>3530.0</td>\n",
       "      <td>10881.0</td>\n",
       "      <td>13692.0</td>\n",
       "    </tr>\n",
       "    <tr>\n",
       "      <th>54</th>\n",
       "      <td>England</td>\n",
       "      <td>E92000001</td>\n",
       "      <td>2022.0</td>\n",
       "      <td>3</td>\n",
       "      <td>Q1</td>\n",
       "      <td>Wed</td>\n",
       "      <td>Yes</td>\n",
       "      <td>3503.0</td>\n",
       "      <td>11249.0</td>\n",
       "      <td>14052.0</td>\n",
       "    </tr>\n",
       "    <tr>\n",
       "      <th>55</th>\n",
       "      <td>England</td>\n",
       "      <td>E92000001</td>\n",
       "      <td>2022.0</td>\n",
       "      <td>3</td>\n",
       "      <td>Q1</td>\n",
       "      <td>Tue</td>\n",
       "      <td>Yes</td>\n",
       "      <td>3559.0</td>\n",
       "      <td>10148.0</td>\n",
       "      <td>12642.0</td>\n",
       "    </tr>\n",
       "    <tr>\n",
       "      <th>56</th>\n",
       "      <td>England</td>\n",
       "      <td>E92000001</td>\n",
       "      <td>2022.0</td>\n",
       "      <td>3</td>\n",
       "      <td>Q1</td>\n",
       "      <td>Mon</td>\n",
       "      <td>Yes</td>\n",
       "      <td>2994.0</td>\n",
       "      <td>9500.0</td>\n",
       "      <td>11974.0</td>\n",
       "    </tr>\n",
       "    <tr>\n",
       "      <th>59</th>\n",
       "      <td>England</td>\n",
       "      <td>E92000001</td>\n",
       "      <td>2022.0</td>\n",
       "      <td>3</td>\n",
       "      <td>Q1</td>\n",
       "      <td>Fri</td>\n",
       "      <td>Yes</td>\n",
       "      <td>3654.0</td>\n",
       "      <td>11943.0</td>\n",
       "      <td>14656.0</td>\n",
       "    </tr>\n",
       "  </tbody>\n",
       "</table>\n",
       "</div>"
      ],
      "text/plain": [
       "   areaName   areaCode    year  month Quarter  day WorkingDay  FirstDose  \\\n",
       "53  England  E92000001  2022.0      3      Q1  Thu        Yes     3530.0   \n",
       "54  England  E92000001  2022.0      3      Q1  Wed        Yes     3503.0   \n",
       "55  England  E92000001  2022.0      3      Q1  Tue        Yes     3559.0   \n",
       "56  England  E92000001  2022.0      3      Q1  Mon        Yes     2994.0   \n",
       "59  England  E92000001  2022.0      3      Q1  Fri        Yes     3654.0   \n",
       "\n",
       "    SecondDose  ThirdDose  \n",
       "53     10881.0    13692.0  \n",
       "54     11249.0    14052.0  \n",
       "55     10148.0    12642.0  \n",
       "56      9500.0    11974.0  \n",
       "59     11943.0    14656.0  "
      ]
     },
     "execution_count": 18,
     "metadata": {},
     "output_type": "execute_result"
    }
   ],
   "source": [
    "# 1st subset with criteria of vaccination done on \n",
    "    #quarter 1 and its a working day\n",
    "df1= df[(df['WorkingDay'] == 'Yes') & (df['Quarter'] == 'Q1')]\n",
    "df1.head()"
   ]
  },
  {
   "cell_type": "markdown",
   "id": "005385d6",
   "metadata": {},
   "source": [
    "This data is about the number of people taken vaccination in quarter 1 (Q1) during a working day. The descriptive statistics is obtained for the same."
   ]
  },
  {
   "cell_type": "code",
   "execution_count": 19,
   "id": "265ea53d",
   "metadata": {},
   "outputs": [
    {
     "data": {
      "text/html": [
       "<div>\n",
       "<style scoped>\n",
       "    .dataframe tbody tr th:only-of-type {\n",
       "        vertical-align: middle;\n",
       "    }\n",
       "\n",
       "    .dataframe tbody tr th {\n",
       "        vertical-align: top;\n",
       "    }\n",
       "\n",
       "    .dataframe thead th {\n",
       "        text-align: right;\n",
       "    }\n",
       "</style>\n",
       "<table border=\"1\" class=\"dataframe\">\n",
       "  <thead>\n",
       "    <tr style=\"text-align: right;\">\n",
       "      <th></th>\n",
       "      <th>year</th>\n",
       "      <th>month</th>\n",
       "      <th>FirstDose</th>\n",
       "      <th>SecondDose</th>\n",
       "      <th>ThirdDose</th>\n",
       "    </tr>\n",
       "  </thead>\n",
       "  <tbody>\n",
       "    <tr>\n",
       "      <th>count</th>\n",
       "      <td>256.0</td>\n",
       "      <td>256.00000</td>\n",
       "      <td>256.000000</td>\n",
       "      <td>256.000000</td>\n",
       "      <td>256.000000</td>\n",
       "    </tr>\n",
       "    <tr>\n",
       "      <th>mean</th>\n",
       "      <td>2022.0</td>\n",
       "      <td>2.03125</td>\n",
       "      <td>2777.207031</td>\n",
       "      <td>5504.664062</td>\n",
       "      <td>13708.968750</td>\n",
       "    </tr>\n",
       "    <tr>\n",
       "      <th>std</th>\n",
       "      <td>0.0</td>\n",
       "      <td>0.83019</td>\n",
       "      <td>4862.766291</td>\n",
       "      <td>8505.746566</td>\n",
       "      <td>28569.086873</td>\n",
       "    </tr>\n",
       "    <tr>\n",
       "      <th>min</th>\n",
       "      <td>2022.0</td>\n",
       "      <td>1.00000</td>\n",
       "      <td>0.000000</td>\n",
       "      <td>0.000000</td>\n",
       "      <td>0.000000</td>\n",
       "    </tr>\n",
       "    <tr>\n",
       "      <th>25%</th>\n",
       "      <td>2022.0</td>\n",
       "      <td>1.00000</td>\n",
       "      <td>237.000000</td>\n",
       "      <td>434.750000</td>\n",
       "      <td>1650.500000</td>\n",
       "    </tr>\n",
       "    <tr>\n",
       "      <th>50%</th>\n",
       "      <td>2022.0</td>\n",
       "      <td>2.00000</td>\n",
       "      <td>564.000000</td>\n",
       "      <td>845.500000</td>\n",
       "      <td>3999.500000</td>\n",
       "    </tr>\n",
       "    <tr>\n",
       "      <th>75%</th>\n",
       "      <td>2022.0</td>\n",
       "      <td>3.00000</td>\n",
       "      <td>3003.000000</td>\n",
       "      <td>7442.750000</td>\n",
       "      <td>14716.500000</td>\n",
       "    </tr>\n",
       "    <tr>\n",
       "      <th>max</th>\n",
       "      <td>2022.0</td>\n",
       "      <td>3.00000</td>\n",
       "      <td>22307.000000</td>\n",
       "      <td>33056.000000</td>\n",
       "      <td>199810.000000</td>\n",
       "    </tr>\n",
       "  </tbody>\n",
       "</table>\n",
       "</div>"
      ],
      "text/plain": [
       "         year      month     FirstDose    SecondDose      ThirdDose\n",
       "count   256.0  256.00000    256.000000    256.000000     256.000000\n",
       "mean   2022.0    2.03125   2777.207031   5504.664062   13708.968750\n",
       "std       0.0    0.83019   4862.766291   8505.746566   28569.086873\n",
       "min    2022.0    1.00000      0.000000      0.000000       0.000000\n",
       "25%    2022.0    1.00000    237.000000    434.750000    1650.500000\n",
       "50%    2022.0    2.00000    564.000000    845.500000    3999.500000\n",
       "75%    2022.0    3.00000   3003.000000   7442.750000   14716.500000\n",
       "max    2022.0    3.00000  22307.000000  33056.000000  199810.000000"
      ]
     },
     "execution_count": 19,
     "metadata": {},
     "output_type": "execute_result"
    }
   ],
   "source": [
    "# Descriptive statistics\n",
    "df1.describe()"
   ]
  },
  {
   "cell_type": "markdown",
   "id": "abc18d45",
   "metadata": {},
   "source": [
    "1. The average number of people who have taken first dosage, second dosage and third dosage in quarter 1(Q1) during a working day is 2777; 5505; 13,709 respectively (the mean values are rounded up as number of people cannot be with decimal values)\n",
    "2. It is positively skewed as mean value is higher than median value.\n",
    "3. In 2022, the maximum vaccines were taken in the month of march and minimum vaccines at January."
   ]
  },
  {
   "cell_type": "code",
   "execution_count": 20,
   "id": "35273ffe",
   "metadata": {},
   "outputs": [
    {
     "data": {
      "text/html": [
       "<div>\n",
       "<style scoped>\n",
       "    .dataframe tbody tr th:only-of-type {\n",
       "        vertical-align: middle;\n",
       "    }\n",
       "\n",
       "    .dataframe tbody tr th {\n",
       "        vertical-align: top;\n",
       "    }\n",
       "\n",
       "    .dataframe thead th {\n",
       "        text-align: right;\n",
       "    }\n",
       "</style>\n",
       "<table border=\"1\" class=\"dataframe\">\n",
       "  <thead>\n",
       "    <tr style=\"text-align: right;\">\n",
       "      <th></th>\n",
       "      <th>areaName</th>\n",
       "      <th>areaCode</th>\n",
       "      <th>year</th>\n",
       "      <th>month</th>\n",
       "      <th>Quarter</th>\n",
       "      <th>day</th>\n",
       "      <th>WorkingDay</th>\n",
       "      <th>FirstDose</th>\n",
       "      <th>SecondDose</th>\n",
       "      <th>ThirdDose</th>\n",
       "    </tr>\n",
       "  </thead>\n",
       "  <tbody>\n",
       "    <tr>\n",
       "      <th>53</th>\n",
       "      <td>England</td>\n",
       "      <td>E92000001</td>\n",
       "      <td>2022.0</td>\n",
       "      <td>3</td>\n",
       "      <td>Q1</td>\n",
       "      <td>Thu</td>\n",
       "      <td>Yes</td>\n",
       "      <td>3530.0</td>\n",
       "      <td>10881.0</td>\n",
       "      <td>13692.0</td>\n",
       "    </tr>\n",
       "    <tr>\n",
       "      <th>54</th>\n",
       "      <td>England</td>\n",
       "      <td>E92000001</td>\n",
       "      <td>2022.0</td>\n",
       "      <td>3</td>\n",
       "      <td>Q1</td>\n",
       "      <td>Wed</td>\n",
       "      <td>Yes</td>\n",
       "      <td>3503.0</td>\n",
       "      <td>11249.0</td>\n",
       "      <td>14052.0</td>\n",
       "    </tr>\n",
       "    <tr>\n",
       "      <th>55</th>\n",
       "      <td>England</td>\n",
       "      <td>E92000001</td>\n",
       "      <td>2022.0</td>\n",
       "      <td>3</td>\n",
       "      <td>Q1</td>\n",
       "      <td>Tue</td>\n",
       "      <td>Yes</td>\n",
       "      <td>3559.0</td>\n",
       "      <td>10148.0</td>\n",
       "      <td>12642.0</td>\n",
       "    </tr>\n",
       "    <tr>\n",
       "      <th>56</th>\n",
       "      <td>England</td>\n",
       "      <td>E92000001</td>\n",
       "      <td>2022.0</td>\n",
       "      <td>3</td>\n",
       "      <td>Q1</td>\n",
       "      <td>Mon</td>\n",
       "      <td>Yes</td>\n",
       "      <td>2994.0</td>\n",
       "      <td>9500.0</td>\n",
       "      <td>11974.0</td>\n",
       "    </tr>\n",
       "    <tr>\n",
       "      <th>57</th>\n",
       "      <td>England</td>\n",
       "      <td>E92000001</td>\n",
       "      <td>2022.0</td>\n",
       "      <td>3</td>\n",
       "      <td>Q1</td>\n",
       "      <td>Sun</td>\n",
       "      <td>No</td>\n",
       "      <td>2363.0</td>\n",
       "      <td>6781.0</td>\n",
       "      <td>6366.0</td>\n",
       "    </tr>\n",
       "  </tbody>\n",
       "</table>\n",
       "</div>"
      ],
      "text/plain": [
       "   areaName   areaCode    year  month Quarter  day WorkingDay  FirstDose  \\\n",
       "53  England  E92000001  2022.0      3      Q1  Thu        Yes     3530.0   \n",
       "54  England  E92000001  2022.0      3      Q1  Wed        Yes     3503.0   \n",
       "55  England  E92000001  2022.0      3      Q1  Tue        Yes     3559.0   \n",
       "56  England  E92000001  2022.0      3      Q1  Mon        Yes     2994.0   \n",
       "57  England  E92000001  2022.0      3      Q1  Sun         No     2363.0   \n",
       "\n",
       "    SecondDose  ThirdDose  \n",
       "53     10881.0    13692.0  \n",
       "54     11249.0    14052.0  \n",
       "55     10148.0    12642.0  \n",
       "56      9500.0    11974.0  \n",
       "57      6781.0     6366.0  "
      ]
     },
     "execution_count": 20,
     "metadata": {},
     "output_type": "execute_result"
    }
   ],
   "source": [
    "# 1st subset with criteria of vaccination done on quarter 1 in England\n",
    "df2= df[(df['areaName'] == 'England') & (df['Quarter'] == 'Q1')]\n",
    "df2.head()"
   ]
  },
  {
   "cell_type": "code",
   "execution_count": 21,
   "id": "cc326595",
   "metadata": {},
   "outputs": [
    {
     "data": {
      "text/html": [
       "<div>\n",
       "<style scoped>\n",
       "    .dataframe tbody tr th:only-of-type {\n",
       "        vertical-align: middle;\n",
       "    }\n",
       "\n",
       "    .dataframe tbody tr th {\n",
       "        vertical-align: top;\n",
       "    }\n",
       "\n",
       "    .dataframe thead th {\n",
       "        text-align: right;\n",
       "    }\n",
       "</style>\n",
       "<table border=\"1\" class=\"dataframe\">\n",
       "  <thead>\n",
       "    <tr style=\"text-align: right;\">\n",
       "      <th></th>\n",
       "      <th>year</th>\n",
       "      <th>month</th>\n",
       "      <th>FirstDose</th>\n",
       "      <th>SecondDose</th>\n",
       "      <th>ThirdDose</th>\n",
       "    </tr>\n",
       "  </thead>\n",
       "  <tbody>\n",
       "    <tr>\n",
       "      <th>count</th>\n",
       "      <td>90.0</td>\n",
       "      <td>90.000000</td>\n",
       "      <td>90.000000</td>\n",
       "      <td>90.000000</td>\n",
       "      <td>90.000000</td>\n",
       "    </tr>\n",
       "    <tr>\n",
       "      <th>mean</th>\n",
       "      <td>2022.0</td>\n",
       "      <td>2.000000</td>\n",
       "      <td>9716.422222</td>\n",
       "      <td>19072.755556</td>\n",
       "      <td>41625.133333</td>\n",
       "    </tr>\n",
       "    <tr>\n",
       "      <th>std</th>\n",
       "      <td>0.0</td>\n",
       "      <td>0.834643</td>\n",
       "      <td>6081.817286</td>\n",
       "      <td>7811.600452</td>\n",
       "      <td>45317.807403</td>\n",
       "    </tr>\n",
       "    <tr>\n",
       "      <th>min</th>\n",
       "      <td>2022.0</td>\n",
       "      <td>1.000000</td>\n",
       "      <td>2203.000000</td>\n",
       "      <td>2684.000000</td>\n",
       "      <td>6366.000000</td>\n",
       "    </tr>\n",
       "    <tr>\n",
       "      <th>25%</th>\n",
       "      <td>2022.0</td>\n",
       "      <td>1.000000</td>\n",
       "      <td>4092.000000</td>\n",
       "      <td>12755.500000</td>\n",
       "      <td>16093.250000</td>\n",
       "    </tr>\n",
       "    <tr>\n",
       "      <th>50%</th>\n",
       "      <td>2022.0</td>\n",
       "      <td>2.000000</td>\n",
       "      <td>8118.500000</td>\n",
       "      <td>17851.000000</td>\n",
       "      <td>23614.000000</td>\n",
       "    </tr>\n",
       "    <tr>\n",
       "      <th>75%</th>\n",
       "      <td>2022.0</td>\n",
       "      <td>3.000000</td>\n",
       "      <td>13946.500000</td>\n",
       "      <td>24319.500000</td>\n",
       "      <td>45082.250000</td>\n",
       "    </tr>\n",
       "    <tr>\n",
       "      <th>max</th>\n",
       "      <td>2022.0</td>\n",
       "      <td>3.000000</td>\n",
       "      <td>29231.000000</td>\n",
       "      <td>41351.000000</td>\n",
       "      <td>206676.000000</td>\n",
       "    </tr>\n",
       "  </tbody>\n",
       "</table>\n",
       "</div>"
      ],
      "text/plain": [
       "         year      month     FirstDose    SecondDose      ThirdDose\n",
       "count    90.0  90.000000     90.000000     90.000000      90.000000\n",
       "mean   2022.0   2.000000   9716.422222  19072.755556   41625.133333\n",
       "std       0.0   0.834643   6081.817286   7811.600452   45317.807403\n",
       "min    2022.0   1.000000   2203.000000   2684.000000    6366.000000\n",
       "25%    2022.0   1.000000   4092.000000  12755.500000   16093.250000\n",
       "50%    2022.0   2.000000   8118.500000  17851.000000   23614.000000\n",
       "75%    2022.0   3.000000  13946.500000  24319.500000   45082.250000\n",
       "max    2022.0   3.000000  29231.000000  41351.000000  206676.000000"
      ]
     },
     "execution_count": 21,
     "metadata": {},
     "output_type": "execute_result"
    }
   ],
   "source": [
    "#descriptive statistics\n",
    "df2.describe()"
   ]
  },
  {
   "cell_type": "markdown",
   "id": "dac2dbf0",
   "metadata": {},
   "source": [
    "1. The average number of people who have taken first, second and third dose in England during quarter 1 is 9716.42; 19072.75 and 41615.13.\n",
    "2. The maximum vaccination was taken on march 2022."
   ]
  },
  {
   "cell_type": "markdown",
   "id": "073c1fc2",
   "metadata": {},
   "source": [
    "### 7. Conduct a statistical test of the significance of the difference between the means of two subsets of the data and interpret the results."
   ]
  },
  {
   "cell_type": "code",
   "execution_count": 22,
   "id": "ad9f7186",
   "metadata": {},
   "outputs": [],
   "source": [
    "# subset m1 hs data of Number of people who have taken first dosage\n",
    "m1 = df['FirstDose']\n",
    "# subset m1 hs data of Number of people who have taken second dosage\n",
    "m2 = df['SecondDose']"
   ]
  },
  {
   "cell_type": "code",
   "execution_count": 23,
   "id": "6575f5d6",
   "metadata": {},
   "outputs": [
    {
     "name": "stdout",
     "output_type": "stream",
     "text": [
      "Mean value of subset 1: 5007.202247191011 and Mean value of subset 2: 5598.837078651685\n"
     ]
    }
   ],
   "source": [
    "v1=m1.mean()     # Mean of m1\n",
    "v2=m2.mean()     # Mean of m2\n",
    "# Display the mean values of m1 and m2\n",
    "print(f\"Mean value of subset 1: {v1} and Mean value of subset 2: {v2}\")"
   ]
  },
  {
   "cell_type": "code",
   "execution_count": 24,
   "id": "48f49826",
   "metadata": {},
   "outputs": [
    {
     "name": "stdout",
     "output_type": "stream",
     "text": [
      "t-value: -1.324221356439918, p-value: 0.18559973999546153\n",
      "We fail to reject the null hypothesis as p-value 0.18559973999546153 is greater than 0.05\n"
     ]
    }
   ],
   "source": [
    "# Statistical test for differnece between 2 means\n",
    "t_val, p_value=stats.ttest_ind(m1,m2)\n",
    "# Displays the t and p value found\n",
    "print(f\"t-value: {t_val}, p-value: {p_value}\")\n",
    "if p_value<0.05:\n",
    "    print(f\"We reject the null hypothesis as p-value {p_value}\"\n",
    "    \" is less than 0.05\")\n",
    "else:\n",
    "    print(f\"We fail to reject the null hypothesis as p-value {p_value}\"\n",
    "          \" is greater than 0.05\")"
   ]
  },
  {
   "cell_type": "markdown",
   "id": "824378a5",
   "metadata": {},
   "source": [
    "The obtained p value from statistical test p-value: 0.1855 is greater than 𝛼 (0.05), hence we fail to reject the null hypothesis and conclude that there is difference between the means of both subset."
   ]
  },
  {
   "cell_type": "markdown",
   "id": "e319300d",
   "metadata": {},
   "source": [
    "### 8. Create one or more tables that group the data by a certain categorical variable and display summarized information for each group (e.g., the mean or sum within the group)."
   ]
  },
  {
   "cell_type": "code",
   "execution_count": 25,
   "id": "d4f5b9e9",
   "metadata": {},
   "outputs": [
    {
     "name": "stdout",
     "output_type": "stream",
     "text": [
      "  Quarter    FirstDose   SecondDose     ThirdDose\n",
      "0      Q1  2849.724234  5608.415042  13164.225627\n",
      "1      Q2  3118.315271  2395.266010   4060.669951\n",
      "2      Q4  8537.625000  7571.051829  99352.807927\n"
     ]
    }
   ],
   "source": [
    "'''table 1 - The average of number of first,\n",
    "        second and third dose by each quarter'''\n",
    "dose_quarter = df.groupby('Quarter')[['FirstDose','SecondDose',\n",
    "                                      'ThirdDose']].mean().reset_index()\n",
    "print(dose_quarter)"
   ]
  },
  {
   "cell_type": "markdown",
   "id": "1cb4045d",
   "metadata": {},
   "source": [
    "1. In Q1, An average of 2850 number of people took first dosage, 5608 people have taken second dosage and 13,614 number of people have taken third dosage.\n",
    "2. Similarly in Q2 and Q4, the number of people who have taken first dosage are 3,118 and 8,537. Second dosage are 2395 and 7571. Third dosage are 4061 ans 99353.\n",
    "3. In Overall, the number of people who have taken all three types of dosage were more in Q4."
   ]
  },
  {
   "cell_type": "code",
   "execution_count": 26,
   "id": "e9241baa",
   "metadata": {},
   "outputs": [
    {
     "name": "stdout",
     "output_type": "stream",
     "text": [
      "     year    FirstDose   SecondDose     ThirdDose\n",
      "0  2021.0  8537.625000  7571.051829  99352.807927\n",
      "1  2022.0  2946.741993  4447.793594   9875.930605\n"
     ]
    }
   ],
   "source": [
    "'''table 2 - The average of number of first, \n",
    "                    second and third dose by each year'''\n",
    "dose_Month = df.groupby('year')[['FirstDose','SecondDose',\n",
    "                                 'ThirdDose']].mean().reset_index()\n",
    "print(dose_Month)"
   ]
  },
  {
   "cell_type": "markdown",
   "id": "8b558920",
   "metadata": {},
   "source": [
    "1. The number of people who have taken all three types of dosages are higher in the year 2021.\n",
    "2. In 2021, 8,538 number of people have taken first dosage, 7571 have taken second dosage and 99353 have taken third dosage.\n",
    "3. Similarly in 2022, the number of people who have taken first, second and third dosages are 2947, 4448 and 9876 respectively."
   ]
  },
  {
   "cell_type": "markdown",
   "id": "a0c846e8",
   "metadata": {},
   "source": [
    "### 9. Implement a linear regression model and interpret its output including its accuracy"
   ]
  },
  {
   "cell_type": "code",
   "execution_count": 27,
   "id": "3f7add70",
   "metadata": {
    "scrolled": false
   },
   "outputs": [
    {
     "data": {
      "text/html": [
       "<style>\n",
       "        .bk-notebook-logo {\n",
       "            display: block;\n",
       "            width: 20px;\n",
       "            height: 20px;\n",
       "            background-image: url(data:image/png;base64,iVBORw0KGgoAAAANSUhEUgAAABQAAAAUCAYAAACNiR0NAAAABHNCSVQICAgIfAhkiAAAAAlwSFlzAAALEgAACxIB0t1+/AAAABx0RVh0U29mdHdhcmUAQWRvYmUgRmlyZXdvcmtzIENTNui8sowAAAOkSURBVDiNjZRtaJVlGMd/1/08zzln5zjP1LWcU9N0NkN8m2CYjpgQYQXqSs0I84OLIC0hkEKoPtiH3gmKoiJDU7QpLgoLjLIQCpEsNJ1vqUOdO7ppbuec5+V+rj4ctwzd8IIbbi6u+8f1539dt3A78eXC7QizUF7gyV1fD1Yqg4JWz84yffhm0qkFqBogB9rM8tZdtwVsPUhWhGcFJngGeWrPzHm5oaMmkfEg1usvLFyc8jLRqDOMru7AyC8saQr7GG7f5fvDeH7Ej8CM66nIF+8yngt6HWaKh7k49Soy9nXurCi1o3qUbS3zWfrYeQDTB/Qj6kX6Ybhw4B+bOYoLKCC9H3Nu/leUTZ1JdRWkkn2ldcCamzrcf47KKXdAJllSlxAOkRgyHsGC/zRday5Qld9DyoM4/q/rUoy/CXh3jzOu3bHUVZeU+DEn8FInkPBFlu3+nW3Nw0mk6vCDiWg8CeJaxEwuHS3+z5RgY+YBR6V1Z1nxSOfoaPa4LASWxxdNp+VWTk7+4vzaou8v8PN+xo+KY2xsw6une2frhw05CTYOmQvsEhjhWjn0bmXPjpE1+kplmmkP3suftwTubK9Vq22qKmrBhpY4jvd5afdRA3wGjFAgcnTK2s4hY0/GPNIb0nErGMCRxWOOX64Z8RAC4oCXdklmEvcL8o0BfkNK4lUg9HTl+oPlQxdNo3Mg4Nv175e/1LDGzZen30MEjRUtmXSfiTVu1kK8W4txyV6BMKlbgk3lMwYCiusNy9fVfvvwMxv8Ynl6vxoByANLTWplvuj/nF9m2+PDtt1eiHPBr1oIfhCChQMBw6Aw0UulqTKZdfVvfG7VcfIqLG9bcldL/+pdWTLxLUy8Qq38heUIjh4XlzZxzQm19lLFlr8vdQ97rjZVOLf8nclzckbcD4wxXMidpX30sFd37Fv/GtwwhzhxGVAprjbg0gCAEeIgwCZyTV2Z1REEW8O4py0wsjeloKoMr6iCY6dP92H6Vw/oTyICIthibxjm/DfN9lVz8IqtqKYLUXfoKVMVQVVJOElGjrnnUt9T9wbgp8AyYKaGlqingHZU/uG2NTZSVqwHQTWkx9hxjkpWDaCg6Ckj5qebgBVbT3V3NNXMSiWSDdGV3hrtzla7J+duwPOToIg42ChPQOQjspnSlp1V+Gjdged7+8UN5CRAV7a5EdFNwCjEaBR27b3W890TE7g24NAP/mMDXRWrGoFPQI9ls/MWO2dWFAar/xcOIImbbpA3zgAAAABJRU5ErkJggg==);\n",
       "        }\n",
       "    </style>\n",
       "    <div>\n",
       "        <a href=\"https://bokeh.org\" target=\"_blank\" class=\"bk-notebook-logo\"></a>\n",
       "        <span id=\"ca1413ee-2b82-432a-a8ab-0640ccda08bf\">Loading BokehJS ...</span>\n",
       "    </div>\n"
      ]
     },
     "metadata": {},
     "output_type": "display_data"
    },
    {
     "data": {
      "application/javascript": [
       "(function(root) {\n",
       "  function now() {\n",
       "    return new Date();\n",
       "  }\n",
       "\n",
       "  const force = true;\n",
       "\n",
       "  if (typeof root._bokeh_onload_callbacks === \"undefined\" || force === true) {\n",
       "    root._bokeh_onload_callbacks = [];\n",
       "    root._bokeh_is_loading = undefined;\n",
       "  }\n",
       "\n",
       "const JS_MIME_TYPE = 'application/javascript';\n",
       "  const HTML_MIME_TYPE = 'text/html';\n",
       "  const EXEC_MIME_TYPE = 'application/vnd.bokehjs_exec.v0+json';\n",
       "  const CLASS_NAME = 'output_bokeh rendered_html';\n",
       "\n",
       "  /**\n",
       "   * Render data to the DOM node\n",
       "   */\n",
       "  function render(props, node) {\n",
       "    const script = document.createElement(\"script\");\n",
       "    node.appendChild(script);\n",
       "  }\n",
       "\n",
       "  /**\n",
       "   * Handle when an output is cleared or removed\n",
       "   */\n",
       "  function handleClearOutput(event, handle) {\n",
       "    const cell = handle.cell;\n",
       "\n",
       "    const id = cell.output_area._bokeh_element_id;\n",
       "    const server_id = cell.output_area._bokeh_server_id;\n",
       "    // Clean up Bokeh references\n",
       "    if (id != null && id in Bokeh.index) {\n",
       "      Bokeh.index[id].model.document.clear();\n",
       "      delete Bokeh.index[id];\n",
       "    }\n",
       "\n",
       "    if (server_id !== undefined) {\n",
       "      // Clean up Bokeh references\n",
       "      const cmd_clean = \"from bokeh.io.state import curstate; print(curstate().uuid_to_server['\" + server_id + \"'].get_sessions()[0].document.roots[0]._id)\";\n",
       "      cell.notebook.kernel.execute(cmd_clean, {\n",
       "        iopub: {\n",
       "          output: function(msg) {\n",
       "            const id = msg.content.text.trim();\n",
       "            if (id in Bokeh.index) {\n",
       "              Bokeh.index[id].model.document.clear();\n",
       "              delete Bokeh.index[id];\n",
       "            }\n",
       "          }\n",
       "        }\n",
       "      });\n",
       "      // Destroy server and session\n",
       "      const cmd_destroy = \"import bokeh.io.notebook as ion; ion.destroy_server('\" + server_id + \"')\";\n",
       "      cell.notebook.kernel.execute(cmd_destroy);\n",
       "    }\n",
       "  }\n",
       "\n",
       "  /**\n",
       "   * Handle when a new output is added\n",
       "   */\n",
       "  function handleAddOutput(event, handle) {\n",
       "    const output_area = handle.output_area;\n",
       "    const output = handle.output;\n",
       "\n",
       "    // limit handleAddOutput to display_data with EXEC_MIME_TYPE content only\n",
       "    if ((output.output_type != \"display_data\") || (!Object.prototype.hasOwnProperty.call(output.data, EXEC_MIME_TYPE))) {\n",
       "      return\n",
       "    }\n",
       "\n",
       "    const toinsert = output_area.element.find(\".\" + CLASS_NAME.split(' ')[0]);\n",
       "\n",
       "    if (output.metadata[EXEC_MIME_TYPE][\"id\"] !== undefined) {\n",
       "      toinsert[toinsert.length - 1].firstChild.textContent = output.data[JS_MIME_TYPE];\n",
       "      // store reference to embed id on output_area\n",
       "      output_area._bokeh_element_id = output.metadata[EXEC_MIME_TYPE][\"id\"];\n",
       "    }\n",
       "    if (output.metadata[EXEC_MIME_TYPE][\"server_id\"] !== undefined) {\n",
       "      const bk_div = document.createElement(\"div\");\n",
       "      bk_div.innerHTML = output.data[HTML_MIME_TYPE];\n",
       "      const script_attrs = bk_div.children[0].attributes;\n",
       "      for (let i = 0; i < script_attrs.length; i++) {\n",
       "        toinsert[toinsert.length - 1].firstChild.setAttribute(script_attrs[i].name, script_attrs[i].value);\n",
       "        toinsert[toinsert.length - 1].firstChild.textContent = bk_div.children[0].textContent\n",
       "      }\n",
       "      // store reference to server id on output_area\n",
       "      output_area._bokeh_server_id = output.metadata[EXEC_MIME_TYPE][\"server_id\"];\n",
       "    }\n",
       "  }\n",
       "\n",
       "  function register_renderer(events, OutputArea) {\n",
       "\n",
       "    function append_mime(data, metadata, element) {\n",
       "      // create a DOM node to render to\n",
       "      const toinsert = this.create_output_subarea(\n",
       "        metadata,\n",
       "        CLASS_NAME,\n",
       "        EXEC_MIME_TYPE\n",
       "      );\n",
       "      this.keyboard_manager.register_events(toinsert);\n",
       "      // Render to node\n",
       "      const props = {data: data, metadata: metadata[EXEC_MIME_TYPE]};\n",
       "      render(props, toinsert[toinsert.length - 1]);\n",
       "      element.append(toinsert);\n",
       "      return toinsert\n",
       "    }\n",
       "\n",
       "    /* Handle when an output is cleared or removed */\n",
       "    events.on('clear_output.CodeCell', handleClearOutput);\n",
       "    events.on('delete.Cell', handleClearOutput);\n",
       "\n",
       "    /* Handle when a new output is added */\n",
       "    events.on('output_added.OutputArea', handleAddOutput);\n",
       "\n",
       "    /**\n",
       "     * Register the mime type and append_mime function with output_area\n",
       "     */\n",
       "    OutputArea.prototype.register_mime_type(EXEC_MIME_TYPE, append_mime, {\n",
       "      /* Is output safe? */\n",
       "      safe: true,\n",
       "      /* Index of renderer in `output_area.display_order` */\n",
       "      index: 0\n",
       "    });\n",
       "  }\n",
       "\n",
       "  // register the mime type if in Jupyter Notebook environment and previously unregistered\n",
       "  if (root.Jupyter !== undefined) {\n",
       "    const events = require('base/js/events');\n",
       "    const OutputArea = require('notebook/js/outputarea').OutputArea;\n",
       "\n",
       "    if (OutputArea.prototype.mime_types().indexOf(EXEC_MIME_TYPE) == -1) {\n",
       "      register_renderer(events, OutputArea);\n",
       "    }\n",
       "  }\n",
       "  if (typeof (root._bokeh_timeout) === \"undefined\" || force === true) {\n",
       "    root._bokeh_timeout = Date.now() + 5000;\n",
       "    root._bokeh_failed_load = false;\n",
       "  }\n",
       "\n",
       "  const NB_LOAD_WARNING = {'data': {'text/html':\n",
       "     \"<div style='background-color: #fdd'>\\n\"+\n",
       "     \"<p>\\n\"+\n",
       "     \"BokehJS does not appear to have successfully loaded. If loading BokehJS from CDN, this \\n\"+\n",
       "     \"may be due to a slow or bad network connection. Possible fixes:\\n\"+\n",
       "     \"</p>\\n\"+\n",
       "     \"<ul>\\n\"+\n",
       "     \"<li>re-rerun `output_notebook()` to attempt to load from CDN again, or</li>\\n\"+\n",
       "     \"<li>use INLINE resources instead, as so:</li>\\n\"+\n",
       "     \"</ul>\\n\"+\n",
       "     \"<code>\\n\"+\n",
       "     \"from bokeh.resources import INLINE\\n\"+\n",
       "     \"output_notebook(resources=INLINE)\\n\"+\n",
       "     \"</code>\\n\"+\n",
       "     \"</div>\"}};\n",
       "\n",
       "  function display_loaded() {\n",
       "    const el = document.getElementById(\"ca1413ee-2b82-432a-a8ab-0640ccda08bf\");\n",
       "    if (el != null) {\n",
       "      el.textContent = \"BokehJS is loading...\";\n",
       "    }\n",
       "    if (root.Bokeh !== undefined) {\n",
       "      if (el != null) {\n",
       "        el.textContent = \"BokehJS \" + root.Bokeh.version + \" successfully loaded.\";\n",
       "      }\n",
       "    } else if (Date.now() < root._bokeh_timeout) {\n",
       "      setTimeout(display_loaded, 100)\n",
       "    }\n",
       "  }\n",
       "\n",
       "  function run_callbacks() {\n",
       "    try {\n",
       "      root._bokeh_onload_callbacks.forEach(function(callback) {\n",
       "        if (callback != null)\n",
       "          callback();\n",
       "      });\n",
       "    } finally {\n",
       "      delete root._bokeh_onload_callbacks\n",
       "    }\n",
       "    console.debug(\"Bokeh: all callbacks have finished\");\n",
       "  }\n",
       "\n",
       "  function load_libs(css_urls, js_urls, callback) {\n",
       "    if (css_urls == null) css_urls = [];\n",
       "    if (js_urls == null) js_urls = [];\n",
       "\n",
       "    root._bokeh_onload_callbacks.push(callback);\n",
       "    if (root._bokeh_is_loading > 0) {\n",
       "      console.debug(\"Bokeh: BokehJS is being loaded, scheduling callback at\", now());\n",
       "      return null;\n",
       "    }\n",
       "    if (js_urls == null || js_urls.length === 0) {\n",
       "      run_callbacks();\n",
       "      return null;\n",
       "    }\n",
       "    console.debug(\"Bokeh: BokehJS not loaded, scheduling load and callback at\", now());\n",
       "    root._bokeh_is_loading = css_urls.length + js_urls.length;\n",
       "\n",
       "    function on_load() {\n",
       "      root._bokeh_is_loading--;\n",
       "      if (root._bokeh_is_loading === 0) {\n",
       "        console.debug(\"Bokeh: all BokehJS libraries/stylesheets loaded\");\n",
       "        run_callbacks()\n",
       "      }\n",
       "    }\n",
       "\n",
       "    function on_error(url) {\n",
       "      console.error(\"failed to load \" + url);\n",
       "    }\n",
       "\n",
       "    for (let i = 0; i < css_urls.length; i++) {\n",
       "      const url = css_urls[i];\n",
       "      const element = document.createElement(\"link\");\n",
       "      element.onload = on_load;\n",
       "      element.onerror = on_error.bind(null, url);\n",
       "      element.rel = \"stylesheet\";\n",
       "      element.type = \"text/css\";\n",
       "      element.href = url;\n",
       "      console.debug(\"Bokeh: injecting link tag for BokehJS stylesheet: \", url);\n",
       "      document.body.appendChild(element);\n",
       "    }\n",
       "\n",
       "    for (let i = 0; i < js_urls.length; i++) {\n",
       "      const url = js_urls[i];\n",
       "      const element = document.createElement('script');\n",
       "      element.onload = on_load;\n",
       "      element.onerror = on_error.bind(null, url);\n",
       "      element.async = false;\n",
       "      element.src = url;\n",
       "      console.debug(\"Bokeh: injecting script tag for BokehJS library: \", url);\n",
       "      document.head.appendChild(element);\n",
       "    }\n",
       "  };\n",
       "\n",
       "  function inject_raw_css(css) {\n",
       "    const element = document.createElement(\"style\");\n",
       "    element.appendChild(document.createTextNode(css));\n",
       "    document.body.appendChild(element);\n",
       "  }\n",
       "\n",
       "  const js_urls = [\"https://cdn.bokeh.org/bokeh/release/bokeh-3.2.1.min.js\", \"https://cdn.bokeh.org/bokeh/release/bokeh-gl-3.2.1.min.js\", \"https://cdn.bokeh.org/bokeh/release/bokeh-widgets-3.2.1.min.js\", \"https://cdn.bokeh.org/bokeh/release/bokeh-tables-3.2.1.min.js\", \"https://cdn.bokeh.org/bokeh/release/bokeh-mathjax-3.2.1.min.js\"];\n",
       "  const css_urls = [];\n",
       "\n",
       "  const inline_js = [    function(Bokeh) {\n",
       "      Bokeh.set_log_level(\"info\");\n",
       "    },\n",
       "function(Bokeh) {\n",
       "    }\n",
       "  ];\n",
       "\n",
       "  function run_inline_js() {\n",
       "    if (root.Bokeh !== undefined || force === true) {\n",
       "          for (let i = 0; i < inline_js.length; i++) {\n",
       "      inline_js[i].call(root, root.Bokeh);\n",
       "    }\n",
       "if (force === true) {\n",
       "        display_loaded();\n",
       "      }} else if (Date.now() < root._bokeh_timeout) {\n",
       "      setTimeout(run_inline_js, 100);\n",
       "    } else if (!root._bokeh_failed_load) {\n",
       "      console.log(\"Bokeh: BokehJS failed to load within specified timeout.\");\n",
       "      root._bokeh_failed_load = true;\n",
       "    } else if (force !== true) {\n",
       "      const cell = $(document.getElementById(\"ca1413ee-2b82-432a-a8ab-0640ccda08bf\")).parents('.cell').data().cell;\n",
       "      cell.output_area.append_execute_result(NB_LOAD_WARNING)\n",
       "    }\n",
       "  }\n",
       "\n",
       "  if (root._bokeh_is_loading === 0) {\n",
       "    console.debug(\"Bokeh: BokehJS loaded, going straight to plotting\");\n",
       "    run_inline_js();\n",
       "  } else {\n",
       "    load_libs(css_urls, js_urls, function() {\n",
       "      console.debug(\"Bokeh: BokehJS plotting callback run at\", now());\n",
       "      run_inline_js();\n",
       "    });\n",
       "  }\n",
       "}(window));"
      ],
      "application/vnd.bokehjs_load.v0+json": "(function(root) {\n  function now() {\n    return new Date();\n  }\n\n  const force = true;\n\n  if (typeof root._bokeh_onload_callbacks === \"undefined\" || force === true) {\n    root._bokeh_onload_callbacks = [];\n    root._bokeh_is_loading = undefined;\n  }\n\n\n  if (typeof (root._bokeh_timeout) === \"undefined\" || force === true) {\n    root._bokeh_timeout = Date.now() + 5000;\n    root._bokeh_failed_load = false;\n  }\n\n  const NB_LOAD_WARNING = {'data': {'text/html':\n     \"<div style='background-color: #fdd'>\\n\"+\n     \"<p>\\n\"+\n     \"BokehJS does not appear to have successfully loaded. If loading BokehJS from CDN, this \\n\"+\n     \"may be due to a slow or bad network connection. Possible fixes:\\n\"+\n     \"</p>\\n\"+\n     \"<ul>\\n\"+\n     \"<li>re-rerun `output_notebook()` to attempt to load from CDN again, or</li>\\n\"+\n     \"<li>use INLINE resources instead, as so:</li>\\n\"+\n     \"</ul>\\n\"+\n     \"<code>\\n\"+\n     \"from bokeh.resources import INLINE\\n\"+\n     \"output_notebook(resources=INLINE)\\n\"+\n     \"</code>\\n\"+\n     \"</div>\"}};\n\n  function display_loaded() {\n    const el = document.getElementById(\"ca1413ee-2b82-432a-a8ab-0640ccda08bf\");\n    if (el != null) {\n      el.textContent = \"BokehJS is loading...\";\n    }\n    if (root.Bokeh !== undefined) {\n      if (el != null) {\n        el.textContent = \"BokehJS \" + root.Bokeh.version + \" successfully loaded.\";\n      }\n    } else if (Date.now() < root._bokeh_timeout) {\n      setTimeout(display_loaded, 100)\n    }\n  }\n\n  function run_callbacks() {\n    try {\n      root._bokeh_onload_callbacks.forEach(function(callback) {\n        if (callback != null)\n          callback();\n      });\n    } finally {\n      delete root._bokeh_onload_callbacks\n    }\n    console.debug(\"Bokeh: all callbacks have finished\");\n  }\n\n  function load_libs(css_urls, js_urls, callback) {\n    if (css_urls == null) css_urls = [];\n    if (js_urls == null) js_urls = [];\n\n    root._bokeh_onload_callbacks.push(callback);\n    if (root._bokeh_is_loading > 0) {\n      console.debug(\"Bokeh: BokehJS is being loaded, scheduling callback at\", now());\n      return null;\n    }\n    if (js_urls == null || js_urls.length === 0) {\n      run_callbacks();\n      return null;\n    }\n    console.debug(\"Bokeh: BokehJS not loaded, scheduling load and callback at\", now());\n    root._bokeh_is_loading = css_urls.length + js_urls.length;\n\n    function on_load() {\n      root._bokeh_is_loading--;\n      if (root._bokeh_is_loading === 0) {\n        console.debug(\"Bokeh: all BokehJS libraries/stylesheets loaded\");\n        run_callbacks()\n      }\n    }\n\n    function on_error(url) {\n      console.error(\"failed to load \" + url);\n    }\n\n    for (let i = 0; i < css_urls.length; i++) {\n      const url = css_urls[i];\n      const element = document.createElement(\"link\");\n      element.onload = on_load;\n      element.onerror = on_error.bind(null, url);\n      element.rel = \"stylesheet\";\n      element.type = \"text/css\";\n      element.href = url;\n      console.debug(\"Bokeh: injecting link tag for BokehJS stylesheet: \", url);\n      document.body.appendChild(element);\n    }\n\n    for (let i = 0; i < js_urls.length; i++) {\n      const url = js_urls[i];\n      const element = document.createElement('script');\n      element.onload = on_load;\n      element.onerror = on_error.bind(null, url);\n      element.async = false;\n      element.src = url;\n      console.debug(\"Bokeh: injecting script tag for BokehJS library: \", url);\n      document.head.appendChild(element);\n    }\n  };\n\n  function inject_raw_css(css) {\n    const element = document.createElement(\"style\");\n    element.appendChild(document.createTextNode(css));\n    document.body.appendChild(element);\n  }\n\n  const js_urls = [\"https://cdn.bokeh.org/bokeh/release/bokeh-3.2.1.min.js\", \"https://cdn.bokeh.org/bokeh/release/bokeh-gl-3.2.1.min.js\", \"https://cdn.bokeh.org/bokeh/release/bokeh-widgets-3.2.1.min.js\", \"https://cdn.bokeh.org/bokeh/release/bokeh-tables-3.2.1.min.js\", \"https://cdn.bokeh.org/bokeh/release/bokeh-mathjax-3.2.1.min.js\"];\n  const css_urls = [];\n\n  const inline_js = [    function(Bokeh) {\n      Bokeh.set_log_level(\"info\");\n    },\nfunction(Bokeh) {\n    }\n  ];\n\n  function run_inline_js() {\n    if (root.Bokeh !== undefined || force === true) {\n          for (let i = 0; i < inline_js.length; i++) {\n      inline_js[i].call(root, root.Bokeh);\n    }\nif (force === true) {\n        display_loaded();\n      }} else if (Date.now() < root._bokeh_timeout) {\n      setTimeout(run_inline_js, 100);\n    } else if (!root._bokeh_failed_load) {\n      console.log(\"Bokeh: BokehJS failed to load within specified timeout.\");\n      root._bokeh_failed_load = true;\n    } else if (force !== true) {\n      const cell = $(document.getElementById(\"ca1413ee-2b82-432a-a8ab-0640ccda08bf\")).parents('.cell').data().cell;\n      cell.output_area.append_execute_result(NB_LOAD_WARNING)\n    }\n  }\n\n  if (root._bokeh_is_loading === 0) {\n    console.debug(\"Bokeh: BokehJS loaded, going straight to plotting\");\n    run_inline_js();\n  } else {\n    load_libs(css_urls, js_urls, function() {\n      console.debug(\"Bokeh: BokehJS plotting callback run at\", now());\n      run_inline_js();\n    });\n  }\n}(window));"
     },
     "metadata": {},
     "output_type": "display_data"
    }
   ],
   "source": [
    "# import library for linear regression\n",
    "import statsmodels.api as sm\n",
    "from bokeh.io import output_notebook\n",
    "output_notebook()\n",
    "\n",
    "from bokeh.plotting import figure\n",
    "from bokeh.io import show\n",
    "# FirstDose and SecondDose - Independent var\n",
    "# ThirdDose - Dependent Var\n",
    "# to predict how number of people who have taken\n",
    "    #is impacted based on month of the year"
   ]
  },
  {
   "cell_type": "markdown",
   "id": "809d5520",
   "metadata": {},
   "source": [
    "In this linear regression model, we predict that how the number of people getting their third dose vaccinated is impacted based on the first and second dose vaccinated. ThirdDose is the dependent variable (Y), FirstDose and Second Dose is the independent variable (X)."
   ]
  },
  {
   "cell_type": "code",
   "execution_count": 28,
   "id": "3dfc670c",
   "metadata": {},
   "outputs": [
    {
     "data": {
      "text/html": [
       "\n",
       "  <div id=\"c659b3ba-d037-45bc-8b9f-2e80040e941e\" data-root-id=\"p1001\" style=\"display: contents;\"></div>\n"
      ]
     },
     "metadata": {},
     "output_type": "display_data"
    },
    {
     "data": {
      "application/javascript": [
       "(function(root) {\n",
       "  function embed_document(root) {\n",
       "  const docs_json = {\"a4284fd2-e6fe-4ac4-8070-b98931827920\":{\"version\":\"3.2.1\",\"title\":\"Bokeh Application\",\"roots\":[{\"type\":\"object\",\"name\":\"Figure\",\"id\":\"p1001\",\"attributes\":{\"width\":400,\"height\":400,\"x_range\":{\"type\":\"object\",\"name\":\"DataRange1d\",\"id\":\"p1002\"},\"y_range\":{\"type\":\"object\",\"name\":\"DataRange1d\",\"id\":\"p1003\"},\"x_scale\":{\"type\":\"object\",\"name\":\"LinearScale\",\"id\":\"p1011\"},\"y_scale\":{\"type\":\"object\",\"name\":\"LinearScale\",\"id\":\"p1012\"},\"title\":{\"type\":\"object\",\"name\":\"Title\",\"id\":\"p1004\",\"attributes\":{\"text\":\"Third Dose Vs (FirstDose and Second Dose)\"}},\"renderers\":[{\"type\":\"object\",\"name\":\"GlyphRenderer\",\"id\":\"p1036\",\"attributes\":{\"data_source\":{\"type\":\"object\",\"name\":\"ColumnDataSource\",\"id\":\"p1030\",\"attributes\":{\"selected\":{\"type\":\"object\",\"name\":\"Selection\",\"id\":\"p1031\",\"attributes\":{\"indices\":[],\"line_indices\":[]}},\"selection_policy\":{\"type\":\"object\",\"name\":\"UnionRenderers\",\"id\":\"p1032\"},\"data\":{\"type\":\"map\",\"entries\":[[\"x\",{\"type\":\"ndarray\",\"array\":{\"type\":\"bytes\",\"data\":\"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\"},\"shape\":[890],\"dtype\":\"float64\",\"order\":\"little\"}],[\"y\",{\"type\":\"ndarray\",\"array\":{\"type\":\"bytes\",\"data\":\"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\"},\"shape\":[890],\"dtype\":\"float64\",\"order\":\"little\"}]]}}},\"view\":{\"type\":\"object\",\"name\":\"CDSView\",\"id\":\"p1037\",\"attributes\":{\"filter\":{\"type\":\"object\",\"name\":\"AllIndices\",\"id\":\"p1038\"}}},\"glyph\":{\"type\":\"object\",\"name\":\"Circle\",\"id\":\"p1033\",\"attributes\":{\"x\":{\"type\":\"field\",\"field\":\"x\"},\"y\":{\"type\":\"field\",\"field\":\"y\"},\"line_color\":{\"type\":\"value\",\"value\":\"#1f77b4\"},\"fill_color\":{\"type\":\"value\",\"value\":\"#1f77b4\"}}},\"nonselection_glyph\":{\"type\":\"object\",\"name\":\"Circle\",\"id\":\"p1034\",\"attributes\":{\"x\":{\"type\":\"field\",\"field\":\"x\"},\"y\":{\"type\":\"field\",\"field\":\"y\"},\"line_color\":{\"type\":\"value\",\"value\":\"#1f77b4\"},\"line_alpha\":{\"type\":\"value\",\"value\":0.1},\"fill_color\":{\"type\":\"value\",\"value\":\"#1f77b4\"},\"fill_alpha\":{\"type\":\"value\",\"value\":0.1},\"hatch_alpha\":{\"type\":\"value\",\"value\":0.1}}},\"muted_glyph\":{\"type\":\"object\",\"name\":\"Circle\",\"id\":\"p1035\",\"attributes\":{\"x\":{\"type\":\"field\",\"field\":\"x\"},\"y\":{\"type\":\"field\",\"field\":\"y\"},\"line_color\":{\"type\":\"value\",\"value\":\"#1f77b4\"},\"line_alpha\":{\"type\":\"value\",\"value\":0.2},\"fill_color\":{\"type\":\"value\",\"value\":\"#1f77b4\"},\"fill_alpha\":{\"type\":\"value\",\"value\":0.2},\"hatch_alpha\":{\"type\":\"value\",\"value\":0.2}}}}}],\"toolbar\":{\"type\":\"object\",\"name\":\"Toolbar\",\"id\":\"p1010\",\"attributes\":{\"tools\":[{\"type\":\"object\",\"name\":\"PanTool\",\"id\":\"p1023\"},{\"type\":\"object\",\"name\":\"WheelZoomTool\",\"id\":\"p1024\"},{\"type\":\"object\",\"name\":\"BoxZoomTool\",\"id\":\"p1025\",\"attributes\":{\"overlay\":{\"type\":\"object\",\"name\":\"BoxAnnotation\",\"id\":\"p1026\",\"attributes\":{\"syncable\":false,\"level\":\"overlay\",\"visible\":false,\"left_units\":\"canvas\",\"right_units\":\"canvas\",\"bottom_units\":\"canvas\",\"top_units\":\"canvas\",\"line_color\":\"black\",\"line_alpha\":1.0,\"line_width\":2,\"line_dash\":[4,4],\"fill_color\":\"lightgrey\",\"fill_alpha\":0.5}}}},{\"type\":\"object\",\"name\":\"SaveTool\",\"id\":\"p1027\"},{\"type\":\"object\",\"name\":\"ResetTool\",\"id\":\"p1028\"},{\"type\":\"object\",\"name\":\"HelpTool\",\"id\":\"p1029\"}]}},\"left\":[{\"type\":\"object\",\"name\":\"LinearAxis\",\"id\":\"p1018\",\"attributes\":{\"ticker\":{\"type\":\"object\",\"name\":\"BasicTicker\",\"id\":\"p1019\",\"attributes\":{\"mantissas\":[1,2,5]}},\"formatter\":{\"type\":\"object\",\"name\":\"BasicTickFormatter\",\"id\":\"p1020\"},\"axis_label\":\"Third Dose\",\"major_label_policy\":{\"type\":\"object\",\"name\":\"AllLabels\",\"id\":\"p1021\"}}}],\"below\":[{\"type\":\"object\",\"name\":\"LinearAxis\",\"id\":\"p1013\",\"attributes\":{\"ticker\":{\"type\":\"object\",\"name\":\"BasicTicker\",\"id\":\"p1014\",\"attributes\":{\"mantissas\":[1,2,5]}},\"formatter\":{\"type\":\"object\",\"name\":\"BasicTickFormatter\",\"id\":\"p1015\"},\"axis_label\":\"First and Second Dose\",\"major_label_policy\":{\"type\":\"object\",\"name\":\"AllLabels\",\"id\":\"p1016\"}}}],\"center\":[{\"type\":\"object\",\"name\":\"Grid\",\"id\":\"p1017\",\"attributes\":{\"axis\":{\"id\":\"p1013\"}}},{\"type\":\"object\",\"name\":\"Grid\",\"id\":\"p1022\",\"attributes\":{\"dimension\":1,\"axis\":{\"id\":\"p1018\"}}}]}}]}};\n",
       "  const render_items = [{\"docid\":\"a4284fd2-e6fe-4ac4-8070-b98931827920\",\"roots\":{\"p1001\":\"c659b3ba-d037-45bc-8b9f-2e80040e941e\"},\"root_ids\":[\"p1001\"]}];\n",
       "  root.Bokeh.embed.embed_items_notebook(docs_json, render_items);\n",
       "  }\n",
       "  if (root.Bokeh !== undefined) {\n",
       "    embed_document(root);\n",
       "  } else {\n",
       "    let attempts = 0;\n",
       "    const timer = setInterval(function(root) {\n",
       "      if (root.Bokeh !== undefined) {\n",
       "        clearInterval(timer);\n",
       "        embed_document(root);\n",
       "      } else {\n",
       "        attempts++;\n",
       "        if (attempts > 100) {\n",
       "          clearInterval(timer);\n",
       "          console.log(\"Bokeh: ERROR: Unable to run BokehJS code because BokehJS library is missing\");\n",
       "        }\n",
       "      }\n",
       "    }, 10, root)\n",
       "  }\n",
       "})(window);"
      ],
      "application/vnd.bokehjs_exec.v0+json": ""
     },
     "metadata": {
      "application/vnd.bokehjs_exec.v0+json": {
       "id": "p1001"
      }
     },
     "output_type": "display_data"
    }
   ],
   "source": [
    "fig = figure(height=400, width=400,\n",
    "             title=\"Third Dose Vs (FirstDose and Second Dose)\", \n",
    "             x_axis_label='First and Second Dose', \n",
    "             y_axis_label='Third Dose')\n",
    "# To combine both independent variable for plotting\n",
    "vaccination = df['FirstDose'] + df['SecondDose']\n",
    "# plotting scatter plot between dependent and independent variable\n",
    "fig.circle(vaccination,df['ThirdDose'])\n",
    "show(fig)"
   ]
  },
  {
   "cell_type": "code",
   "execution_count": 29,
   "id": "f5f08ab0",
   "metadata": {},
   "outputs": [
    {
     "data": {
      "text/plain": [
       "0.8055505627387312"
      ]
     },
     "execution_count": 29,
     "metadata": {},
     "output_type": "execute_result"
    }
   ],
   "source": [
    "# Perform the correlation\n",
    "vaccination.corr(df['ThirdDose'], method='pearson')\n"
   ]
  },
  {
   "cell_type": "markdown",
   "id": "8c1e93b5",
   "metadata": {},
   "source": [
    "The correlation coefficient is greater than 0 so it has a positive relation between number of people who have taken third dosage  and Number of people who have taken first and second dosage of vaccination"
   ]
  },
  {
   "cell_type": "code",
   "execution_count": 30,
   "id": "ef17dbce",
   "metadata": {},
   "outputs": [],
   "source": [
    "#Building Ordinary Least Square model\n",
    "model = sm.OLS.from_formula('ThirdDose ~ FirstDose + SecondDose',\n",
    "                            data=df).fit()"
   ]
  },
  {
   "cell_type": "code",
   "execution_count": 31,
   "id": "19bd495d",
   "metadata": {},
   "outputs": [
    {
     "data": {
      "text/plain": [
       "Intercept    -7049.629599\n",
       "FirstDose        4.655133\n",
       "SecondDose       4.749578\n",
       "dtype: float64"
      ]
     },
     "execution_count": 31,
     "metadata": {},
     "output_type": "execute_result"
    }
   ],
   "source": [
    "# Calculate Intercept and coefficient\n",
    "model.params"
   ]
  },
  {
   "cell_type": "code",
   "execution_count": 32,
   "id": "82cefe48",
   "metadata": {},
   "outputs": [
    {
     "data": {
      "text/html": [
       "<table class=\"simpletable\">\n",
       "<caption>OLS Regression Results</caption>\n",
       "<tr>\n",
       "  <th>Dep. Variable:</th>        <td>ThirdDose</td>    <th>  R-squared:         </th> <td>   0.649</td> \n",
       "</tr>\n",
       "<tr>\n",
       "  <th>Model:</th>                   <td>OLS</td>       <th>  Adj. R-squared:    </th> <td>   0.648</td> \n",
       "</tr>\n",
       "<tr>\n",
       "  <th>Method:</th>             <td>Least Squares</td>  <th>  F-statistic:       </th> <td>   819.7</td> \n",
       "</tr>\n",
       "<tr>\n",
       "  <th>Date:</th>             <td>Wed, 13 Dec 2023</td> <th>  Prob (F-statistic):</th> <td>2.45e-202</td>\n",
       "</tr>\n",
       "<tr>\n",
       "  <th>Time:</th>                 <td>01:58:10</td>     <th>  Log-Likelihood:    </th> <td> -11089.</td> \n",
       "</tr>\n",
       "<tr>\n",
       "  <th>No. Observations:</th>      <td>   890</td>      <th>  AIC:               </th> <td>2.218e+04</td>\n",
       "</tr>\n",
       "<tr>\n",
       "  <th>Df Residuals:</th>          <td>   887</td>      <th>  BIC:               </th> <td>2.220e+04</td>\n",
       "</tr>\n",
       "<tr>\n",
       "  <th>Df Model:</th>              <td>     2</td>      <th>                     </th>     <td> </td>    \n",
       "</tr>\n",
       "<tr>\n",
       "  <th>Covariance Type:</th>      <td>nonrobust</td>    <th>                     </th>     <td> </td>    \n",
       "</tr>\n",
       "</table>\n",
       "<table class=\"simpletable\">\n",
       "<tr>\n",
       "       <td></td>         <th>coef</th>     <th>std err</th>      <th>t</th>      <th>P>|t|</th>  <th>[0.025</th>    <th>0.975]</th>  \n",
       "</tr>\n",
       "<tr>\n",
       "  <th>Intercept</th>  <td>-7049.6296</td> <td> 2452.926</td> <td>   -2.874</td> <td> 0.004</td> <td>-1.19e+04</td> <td>-2235.414</td>\n",
       "</tr>\n",
       "<tr>\n",
       "  <th>FirstDose</th>  <td>    4.6551</td> <td>    0.392</td> <td>   11.867</td> <td> 0.000</td> <td>    3.885</td> <td>    5.425</td>\n",
       "</tr>\n",
       "<tr>\n",
       "  <th>SecondDose</th> <td>    4.7496</td> <td>    0.413</td> <td>   11.502</td> <td> 0.000</td> <td>    3.939</td> <td>    5.560</td>\n",
       "</tr>\n",
       "</table>\n",
       "<table class=\"simpletable\">\n",
       "<tr>\n",
       "  <th>Omnibus:</th>       <td>530.004</td> <th>  Durbin-Watson:     </th> <td>   0.220</td> \n",
       "</tr>\n",
       "<tr>\n",
       "  <th>Prob(Omnibus):</th> <td> 0.000</td>  <th>  Jarque-Bera (JB):  </th> <td>12014.269</td>\n",
       "</tr>\n",
       "<tr>\n",
       "  <th>Skew:</th>          <td> 2.263</td>  <th>  Prob(JB):          </th> <td>    0.00</td> \n",
       "</tr>\n",
       "<tr>\n",
       "  <th>Kurtosis:</th>      <td>20.421</td>  <th>  Cond. No.          </th> <td>1.73e+04</td> \n",
       "</tr>\n",
       "</table><br/><br/>Notes:<br/>[1] Standard Errors assume that the covariance matrix of the errors is correctly specified.<br/>[2] The condition number is large, 1.73e+04. This might indicate that there are<br/>strong multicollinearity or other numerical problems."
      ],
      "text/latex": [
       "\\begin{center}\n",
       "\\begin{tabular}{lclc}\n",
       "\\toprule\n",
       "\\textbf{Dep. Variable:}    &    ThirdDose     & \\textbf{  R-squared:         } &     0.649   \\\\\n",
       "\\textbf{Model:}            &       OLS        & \\textbf{  Adj. R-squared:    } &     0.648   \\\\\n",
       "\\textbf{Method:}           &  Least Squares   & \\textbf{  F-statistic:       } &     819.7   \\\\\n",
       "\\textbf{Date:}             & Wed, 13 Dec 2023 & \\textbf{  Prob (F-statistic):} & 2.45e-202   \\\\\n",
       "\\textbf{Time:}             &     01:58:10     & \\textbf{  Log-Likelihood:    } &   -11089.   \\\\\n",
       "\\textbf{No. Observations:} &         890      & \\textbf{  AIC:               } & 2.218e+04   \\\\\n",
       "\\textbf{Df Residuals:}     &         887      & \\textbf{  BIC:               } & 2.220e+04   \\\\\n",
       "\\textbf{Df Model:}         &           2      & \\textbf{                     } &             \\\\\n",
       "\\textbf{Covariance Type:}  &    nonrobust     & \\textbf{                     } &             \\\\\n",
       "\\bottomrule\n",
       "\\end{tabular}\n",
       "\\begin{tabular}{lcccccc}\n",
       "                    & \\textbf{coef} & \\textbf{std err} & \\textbf{t} & \\textbf{P$> |$t$|$} & \\textbf{[0.025} & \\textbf{0.975]}  \\\\\n",
       "\\midrule\n",
       "\\textbf{Intercept}  &   -7049.6296  &     2452.926     &    -2.874  &         0.004        &    -1.19e+04    &    -2235.414     \\\\\n",
       "\\textbf{FirstDose}  &       4.6551  &        0.392     &    11.867  &         0.000        &        3.885    &        5.425     \\\\\n",
       "\\textbf{SecondDose} &       4.7496  &        0.413     &    11.502  &         0.000        &        3.939    &        5.560     \\\\\n",
       "\\bottomrule\n",
       "\\end{tabular}\n",
       "\\begin{tabular}{lclc}\n",
       "\\textbf{Omnibus:}       & 530.004 & \\textbf{  Durbin-Watson:     } &     0.220  \\\\\n",
       "\\textbf{Prob(Omnibus):} &   0.000 & \\textbf{  Jarque-Bera (JB):  } & 12014.269  \\\\\n",
       "\\textbf{Skew:}          &   2.263 & \\textbf{  Prob(JB):          } &      0.00  \\\\\n",
       "\\textbf{Kurtosis:}      &  20.421 & \\textbf{  Cond. No.          } &  1.73e+04  \\\\\n",
       "\\bottomrule\n",
       "\\end{tabular}\n",
       "%\\caption{OLS Regression Results}\n",
       "\\end{center}\n",
       "\n",
       "Notes: \\newline\n",
       " [1] Standard Errors assume that the covariance matrix of the errors is correctly specified. \\newline\n",
       " [2] The condition number is large, 1.73e+04. This might indicate that there are \\newline\n",
       " strong multicollinearity or other numerical problems."
      ],
      "text/plain": [
       "<class 'statsmodels.iolib.summary.Summary'>\n",
       "\"\"\"\n",
       "                            OLS Regression Results                            \n",
       "==============================================================================\n",
       "Dep. Variable:              ThirdDose   R-squared:                       0.649\n",
       "Model:                            OLS   Adj. R-squared:                  0.648\n",
       "Method:                 Least Squares   F-statistic:                     819.7\n",
       "Date:                Wed, 13 Dec 2023   Prob (F-statistic):          2.45e-202\n",
       "Time:                        01:58:10   Log-Likelihood:                -11089.\n",
       "No. Observations:                 890   AIC:                         2.218e+04\n",
       "Df Residuals:                     887   BIC:                         2.220e+04\n",
       "Df Model:                           2                                         \n",
       "Covariance Type:            nonrobust                                         \n",
       "==============================================================================\n",
       "                 coef    std err          t      P>|t|      [0.025      0.975]\n",
       "------------------------------------------------------------------------------\n",
       "Intercept  -7049.6296   2452.926     -2.874      0.004   -1.19e+04   -2235.414\n",
       "FirstDose      4.6551      0.392     11.867      0.000       3.885       5.425\n",
       "SecondDose     4.7496      0.413     11.502      0.000       3.939       5.560\n",
       "==============================================================================\n",
       "Omnibus:                      530.004   Durbin-Watson:                   0.220\n",
       "Prob(Omnibus):                  0.000   Jarque-Bera (JB):            12014.269\n",
       "Skew:                           2.263   Prob(JB):                         0.00\n",
       "Kurtosis:                      20.421   Cond. No.                     1.73e+04\n",
       "==============================================================================\n",
       "\n",
       "Notes:\n",
       "[1] Standard Errors assume that the covariance matrix of the errors is correctly specified.\n",
       "[2] The condition number is large, 1.73e+04. This might indicate that there are\n",
       "strong multicollinearity or other numerical problems.\n",
       "\"\"\""
      ]
     },
     "execution_count": 32,
     "metadata": {},
     "output_type": "execute_result"
    }
   ],
   "source": [
    "# the summary of linear regression test\n",
    "model.summary()"
   ]
  },
  {
   "cell_type": "markdown",
   "id": "e4472baf",
   "metadata": {},
   "source": [
    "The coeffecients of intercept is -7049.6296 and of FirstDose is 4.6551 and second dose is 4.7496. Thus $ThirdDose = -7049.6296 + 4.6551*FirstDose + 4.7496*SecondDose + e$"
   ]
  },
  {
   "cell_type": "markdown",
   "id": "45dee187",
   "metadata": {},
   "source": [
    "The p-value of the intercept is 0.004 which is less than 0.05, hence it has a significant effect on the dependent variable."
   ]
  },
  {
   "cell_type": "markdown",
   "id": "933f48a5",
   "metadata": {},
   "source": [
    "1. The R square value is 0.649, which indicates that the first dosage and second dosage variable is good predictor of the dependent variable third dose.\n",
    "2. About 64% of third dose data can be predicted by first dose and second dose variable data, this indicates a moderate relation between the variables."
   ]
  },
  {
   "cell_type": "code",
   "execution_count": 33,
   "id": "d833cce6",
   "metadata": {},
   "outputs": [
    {
     "data": {
      "text/html": [
       "\n",
       "  <div id=\"f2623a4c-b4db-474f-909e-9ecaa76892b0\" data-root-id=\"p1041\" style=\"display: contents;\"></div>\n"
      ]
     },
     "metadata": {},
     "output_type": "display_data"
    },
    {
     "data": {
      "application/javascript": [
       "(function(root) {\n",
       "  function embed_document(root) {\n",
       "  const docs_json = {\"994a98ac-1ef7-4b26-aaaa-5b480f27ce99\":{\"version\":\"3.2.1\",\"title\":\"Bokeh Application\",\"roots\":[{\"type\":\"object\",\"name\":\"Figure\",\"id\":\"p1041\",\"attributes\":{\"width\":400,\"height\":400,\"x_range\":{\"type\":\"object\",\"name\":\"DataRange1d\",\"id\":\"p1042\"},\"y_range\":{\"type\":\"object\",\"name\":\"DataRange1d\",\"id\":\"p1043\"},\"x_scale\":{\"type\":\"object\",\"name\":\"LinearScale\",\"id\":\"p1051\"},\"y_scale\":{\"type\":\"object\",\"name\":\"LinearScale\",\"id\":\"p1052\"},\"title\":{\"type\":\"object\",\"name\":\"Title\",\"id\":\"p1044\",\"attributes\":{\"text\":\"Standardized Residuals Vs Fitted Values\"}},\"renderers\":[{\"type\":\"object\",\"name\":\"GlyphRenderer\",\"id\":\"p1076\",\"attributes\":{\"data_source\":{\"type\":\"object\",\"name\":\"ColumnDataSource\",\"id\":\"p1070\",\"attributes\":{\"selected\":{\"type\":\"object\",\"name\":\"Selection\",\"id\":\"p1071\",\"attributes\":{\"indices\":[],\"line_indices\":[]}},\"selection_policy\":{\"type\":\"object\",\"name\":\"UnionRenderers\",\"id\":\"p1072\"},\"data\":{\"type\":\"map\",\"entries\":[[\"x\",{\"type\":\"ndarray\",\"array\":{\"type\":\"bytes\",\"data\":\"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\"},\"shape\":[890],\"dtype\":\"float64\",\"order\":\"little\"}],[\"y\",{\"type\":\"ndarray\",\"array\":{\"type\":\"bytes\",\"data\":\"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\"},\"shape\":[890],\"dtype\":\"float64\",\"order\":\"little\"}]]}}},\"view\":{\"type\":\"object\",\"name\":\"CDSView\",\"id\":\"p1077\",\"attributes\":{\"filter\":{\"type\":\"object\",\"name\":\"AllIndices\",\"id\":\"p1078\"}}},\"glyph\":{\"type\":\"object\",\"name\":\"Circle\",\"id\":\"p1073\",\"attributes\":{\"x\":{\"type\":\"field\",\"field\":\"x\"},\"y\":{\"type\":\"field\",\"field\":\"y\"},\"line_color\":{\"type\":\"value\",\"value\":\"#1f77b4\"},\"fill_color\":{\"type\":\"value\",\"value\":\"#1f77b4\"}}},\"nonselection_glyph\":{\"type\":\"object\",\"name\":\"Circle\",\"id\":\"p1074\",\"attributes\":{\"x\":{\"type\":\"field\",\"field\":\"x\"},\"y\":{\"type\":\"field\",\"field\":\"y\"},\"line_color\":{\"type\":\"value\",\"value\":\"#1f77b4\"},\"line_alpha\":{\"type\":\"value\",\"value\":0.1},\"fill_color\":{\"type\":\"value\",\"value\":\"#1f77b4\"},\"fill_alpha\":{\"type\":\"value\",\"value\":0.1},\"hatch_alpha\":{\"type\":\"value\",\"value\":0.1}}},\"muted_glyph\":{\"type\":\"object\",\"name\":\"Circle\",\"id\":\"p1075\",\"attributes\":{\"x\":{\"type\":\"field\",\"field\":\"x\"},\"y\":{\"type\":\"field\",\"field\":\"y\"},\"line_color\":{\"type\":\"value\",\"value\":\"#1f77b4\"},\"line_alpha\":{\"type\":\"value\",\"value\":0.2},\"fill_color\":{\"type\":\"value\",\"value\":\"#1f77b4\"},\"fill_alpha\":{\"type\":\"value\",\"value\":0.2},\"hatch_alpha\":{\"type\":\"value\",\"value\":0.2}}}}}],\"toolbar\":{\"type\":\"object\",\"name\":\"Toolbar\",\"id\":\"p1050\",\"attributes\":{\"tools\":[{\"type\":\"object\",\"name\":\"PanTool\",\"id\":\"p1063\"},{\"type\":\"object\",\"name\":\"WheelZoomTool\",\"id\":\"p1064\"},{\"type\":\"object\",\"name\":\"BoxZoomTool\",\"id\":\"p1065\",\"attributes\":{\"overlay\":{\"type\":\"object\",\"name\":\"BoxAnnotation\",\"id\":\"p1066\",\"attributes\":{\"syncable\":false,\"level\":\"overlay\",\"visible\":false,\"left_units\":\"canvas\",\"right_units\":\"canvas\",\"bottom_units\":\"canvas\",\"top_units\":\"canvas\",\"line_color\":\"black\",\"line_alpha\":1.0,\"line_width\":2,\"line_dash\":[4,4],\"fill_color\":\"lightgrey\",\"fill_alpha\":0.5}}}},{\"type\":\"object\",\"name\":\"SaveTool\",\"id\":\"p1067\"},{\"type\":\"object\",\"name\":\"ResetTool\",\"id\":\"p1068\"},{\"type\":\"object\",\"name\":\"HelpTool\",\"id\":\"p1069\"}]}},\"left\":[{\"type\":\"object\",\"name\":\"LinearAxis\",\"id\":\"p1058\",\"attributes\":{\"ticker\":{\"type\":\"object\",\"name\":\"BasicTicker\",\"id\":\"p1059\",\"attributes\":{\"mantissas\":[1,2,5]}},\"formatter\":{\"type\":\"object\",\"name\":\"BasicTickFormatter\",\"id\":\"p1060\"},\"axis_label\":\"standardized residuals\",\"major_label_policy\":{\"type\":\"object\",\"name\":\"AllLabels\",\"id\":\"p1061\"}}}],\"below\":[{\"type\":\"object\",\"name\":\"LinearAxis\",\"id\":\"p1053\",\"attributes\":{\"ticker\":{\"type\":\"object\",\"name\":\"BasicTicker\",\"id\":\"p1054\",\"attributes\":{\"mantissas\":[1,2,5]}},\"formatter\":{\"type\":\"object\",\"name\":\"BasicTickFormatter\",\"id\":\"p1055\"},\"axis_label\":\"fitted values\",\"major_label_policy\":{\"type\":\"object\",\"name\":\"AllLabels\",\"id\":\"p1056\"}}}],\"center\":[{\"type\":\"object\",\"name\":\"Grid\",\"id\":\"p1057\",\"attributes\":{\"axis\":{\"id\":\"p1053\"}}},{\"type\":\"object\",\"name\":\"Grid\",\"id\":\"p1062\",\"attributes\":{\"dimension\":1,\"axis\":{\"id\":\"p1058\"}}}]}}]}};\n",
       "  const render_items = [{\"docid\":\"994a98ac-1ef7-4b26-aaaa-5b480f27ce99\",\"roots\":{\"p1041\":\"f2623a4c-b4db-474f-909e-9ecaa76892b0\"},\"root_ids\":[\"p1041\"]}];\n",
       "  root.Bokeh.embed.embed_items_notebook(docs_json, render_items);\n",
       "  }\n",
       "  if (root.Bokeh !== undefined) {\n",
       "    embed_document(root);\n",
       "  } else {\n",
       "    let attempts = 0;\n",
       "    const timer = setInterval(function(root) {\n",
       "      if (root.Bokeh !== undefined) {\n",
       "        clearInterval(timer);\n",
       "        embed_document(root);\n",
       "      } else {\n",
       "        attempts++;\n",
       "        if (attempts > 100) {\n",
       "          clearInterval(timer);\n",
       "          console.log(\"Bokeh: ERROR: Unable to run BokehJS code because BokehJS library is missing\");\n",
       "        }\n",
       "      }\n",
       "    }, 10, root)\n",
       "  }\n",
       "})(window);"
      ],
      "application/vnd.bokehjs_exec.v0+json": ""
     },
     "metadata": {
      "application/vnd.bokehjs_exec.v0+json": {
       "id": "p1041"
      }
     },
     "output_type": "display_data"
    }
   ],
   "source": [
    "#plot standarsized residual graph\n",
    "fig = figure(height=400, width=400,\n",
    "             title=\"Standardized Residuals Vs Fitted Values\", \n",
    "             x_axis_label='fitted values', \n",
    "             y_axis_label='standardized residuals')\n",
    "\n",
    "# the x axis is the fitted values\n",
    "# the y axis is the standardized residuals\n",
    "st_resids = model.get_influence().resid_studentized_internal\n",
    "fig.circle(model.fittedvalues, st_resids)\n",
    "\n",
    "show(fig)"
   ]
  },
  {
   "cell_type": "markdown",
   "id": "dc6d8b18",
   "metadata": {},
   "source": [
    "1. Zero mean of residuals: From the above graph we can state that the residuals are scattered around the zero line.\n",
    "2. Normality of distribution of residuals: The below histogram states that the residuals are normally distributed with one outliner around 8."
   ]
  },
  {
   "cell_type": "code",
   "execution_count": 34,
   "id": "46a369b8",
   "metadata": {},
   "outputs": [],
   "source": [
    "# create a histogram with 10 bins\n",
    "hist, edges = np.histogram(st_resids, density=True, bins=10)"
   ]
  },
  {
   "cell_type": "code",
   "execution_count": 35,
   "id": "9ff8544e",
   "metadata": {},
   "outputs": [
    {
     "data": {
      "text/html": [
       "\n",
       "  <div id=\"cc69ce20-7f19-4dcc-b7d8-0e2b75ead116\" data-root-id=\"p1081\" style=\"display: contents;\"></div>\n"
      ]
     },
     "metadata": {},
     "output_type": "display_data"
    },
    {
     "data": {
      "application/javascript": [
       "(function(root) {\n",
       "  function embed_document(root) {\n",
       "  const docs_json = {\"c5d7e07d-9889-4a5d-8090-d7aa8b25c6bc\":{\"version\":\"3.2.1\",\"title\":\"Bokeh Application\",\"roots\":[{\"type\":\"object\",\"name\":\"Figure\",\"id\":\"p1081\",\"attributes\":{\"width\":400,\"height\":400,\"x_range\":{\"type\":\"object\",\"name\":\"DataRange1d\",\"id\":\"p1082\"},\"y_range\":{\"type\":\"object\",\"name\":\"DataRange1d\",\"id\":\"p1083\"},\"x_scale\":{\"type\":\"object\",\"name\":\"LinearScale\",\"id\":\"p1091\"},\"y_scale\":{\"type\":\"object\",\"name\":\"LinearScale\",\"id\":\"p1092\"},\"title\":{\"type\":\"object\",\"name\":\"Title\",\"id\":\"p1084\",\"attributes\":{\"text\":\"Distribution of Standardized Residuals\"}},\"renderers\":[{\"type\":\"object\",\"name\":\"GlyphRenderer\",\"id\":\"p1116\",\"attributes\":{\"data_source\":{\"type\":\"object\",\"name\":\"ColumnDataSource\",\"id\":\"p1110\",\"attributes\":{\"selected\":{\"type\":\"object\",\"name\":\"Selection\",\"id\":\"p1111\",\"attributes\":{\"indices\":[],\"line_indices\":[]}},\"selection_policy\":{\"type\":\"object\",\"name\":\"UnionRenderers\",\"id\":\"p1112\"},\"data\":{\"type\":\"map\",\"entries\":[[\"top\",{\"type\":\"ndarray\",\"array\":{\"type\":\"bytes\",\"data\":\"NlZt0iy+TD/gVYQD3PZxP9ugIx80S6w/Mw72S/JnzD+Um6WSmt3dP95VhAPc9pE/dKsfOGcmeT8wVm3SLL5cPzBWbdIsvlw/4lWEA9z2cT8=\"},\"shape\":[10],\"dtype\":\"float64\",\"order\":\"little\"}],[\"left\",{\"type\":\"ndarray\",\"array\":{\"type\":\"bytes\",\"data\":\"S+l1LYtOFMAYJhtbt10OwJl5SltYHgTANJrztvK9878A2bcVaRmoP8QXT0iJP/U/Yjj4oyPfBEDe5Mijgh4PQK/IzNHwrhRA7x61UaDOGUA=\"},\"shape\":[10],\"dtype\":\"float64\",\"order\":\"little\"}],[\"right\",{\"type\":\"ndarray\",\"array\":{\"type\":\"bytes\",\"data\":\"GCYbW7ddDsCZeUpbWB4EwDSa87byvfO/ANm3FWkZqD/EF09IiT/1P2I4+KMj3wRA3uTIo4IeD0CvyMzR8K4UQO8etVGgzhlALnWd0U/uHkA=\"},\"shape\":[10],\"dtype\":\"float64\",\"order\":\"little\"}]]}}},\"view\":{\"type\":\"object\",\"name\":\"CDSView\",\"id\":\"p1117\",\"attributes\":{\"filter\":{\"type\":\"object\",\"name\":\"AllIndices\",\"id\":\"p1118\"}}},\"glyph\":{\"type\":\"object\",\"name\":\"Quad\",\"id\":\"p1113\",\"attributes\":{\"left\":{\"type\":\"field\",\"field\":\"left\"},\"right\":{\"type\":\"field\",\"field\":\"right\"},\"bottom\":{\"type\":\"value\",\"value\":0},\"top\":{\"type\":\"field\",\"field\":\"top\"},\"fill_color\":{\"type\":\"value\",\"value\":\"#1f77b4\"}}},\"nonselection_glyph\":{\"type\":\"object\",\"name\":\"Quad\",\"id\":\"p1114\",\"attributes\":{\"left\":{\"type\":\"field\",\"field\":\"left\"},\"right\":{\"type\":\"field\",\"field\":\"right\"},\"bottom\":{\"type\":\"value\",\"value\":0},\"top\":{\"type\":\"field\",\"field\":\"top\"},\"line_alpha\":{\"type\":\"value\",\"value\":0.1},\"fill_color\":{\"type\":\"value\",\"value\":\"#1f77b4\"},\"fill_alpha\":{\"type\":\"value\",\"value\":0.1},\"hatch_alpha\":{\"type\":\"value\",\"value\":0.1}}},\"muted_glyph\":{\"type\":\"object\",\"name\":\"Quad\",\"id\":\"p1115\",\"attributes\":{\"left\":{\"type\":\"field\",\"field\":\"left\"},\"right\":{\"type\":\"field\",\"field\":\"right\"},\"bottom\":{\"type\":\"value\",\"value\":0},\"top\":{\"type\":\"field\",\"field\":\"top\"},\"line_alpha\":{\"type\":\"value\",\"value\":0.2},\"fill_color\":{\"type\":\"value\",\"value\":\"#1f77b4\"},\"fill_alpha\":{\"type\":\"value\",\"value\":0.2},\"hatch_alpha\":{\"type\":\"value\",\"value\":0.2}}}}}],\"toolbar\":{\"type\":\"object\",\"name\":\"Toolbar\",\"id\":\"p1090\",\"attributes\":{\"tools\":[{\"type\":\"object\",\"name\":\"PanTool\",\"id\":\"p1103\"},{\"type\":\"object\",\"name\":\"WheelZoomTool\",\"id\":\"p1104\"},{\"type\":\"object\",\"name\":\"BoxZoomTool\",\"id\":\"p1105\",\"attributes\":{\"overlay\":{\"type\":\"object\",\"name\":\"BoxAnnotation\",\"id\":\"p1106\",\"attributes\":{\"syncable\":false,\"level\":\"overlay\",\"visible\":false,\"left_units\":\"canvas\",\"right_units\":\"canvas\",\"bottom_units\":\"canvas\",\"top_units\":\"canvas\",\"line_color\":\"black\",\"line_alpha\":1.0,\"line_width\":2,\"line_dash\":[4,4],\"fill_color\":\"lightgrey\",\"fill_alpha\":0.5}}}},{\"type\":\"object\",\"name\":\"SaveTool\",\"id\":\"p1107\"},{\"type\":\"object\",\"name\":\"ResetTool\",\"id\":\"p1108\"},{\"type\":\"object\",\"name\":\"HelpTool\",\"id\":\"p1109\"}]}},\"left\":[{\"type\":\"object\",\"name\":\"LinearAxis\",\"id\":\"p1098\",\"attributes\":{\"ticker\":{\"type\":\"object\",\"name\":\"BasicTicker\",\"id\":\"p1099\",\"attributes\":{\"mantissas\":[1,2,5]}},\"formatter\":{\"type\":\"object\",\"name\":\"BasicTickFormatter\",\"id\":\"p1100\"},\"axis_label\":\"frequency\",\"major_label_policy\":{\"type\":\"object\",\"name\":\"AllLabels\",\"id\":\"p1101\"}}}],\"below\":[{\"type\":\"object\",\"name\":\"LinearAxis\",\"id\":\"p1093\",\"attributes\":{\"ticker\":{\"type\":\"object\",\"name\":\"BasicTicker\",\"id\":\"p1094\",\"attributes\":{\"mantissas\":[1,2,5]}},\"formatter\":{\"type\":\"object\",\"name\":\"BasicTickFormatter\",\"id\":\"p1095\"},\"axis_label\":\"St_resids\",\"major_label_policy\":{\"type\":\"object\",\"name\":\"AllLabels\",\"id\":\"p1096\"}}}],\"center\":[{\"type\":\"object\",\"name\":\"Grid\",\"id\":\"p1097\",\"attributes\":{\"axis\":{\"id\":\"p1093\"}}},{\"type\":\"object\",\"name\":\"Grid\",\"id\":\"p1102\",\"attributes\":{\"dimension\":1,\"axis\":{\"id\":\"p1098\"}}}]}}]}};\n",
       "  const render_items = [{\"docid\":\"c5d7e07d-9889-4a5d-8090-d7aa8b25c6bc\",\"roots\":{\"p1081\":\"cc69ce20-7f19-4dcc-b7d8-0e2b75ead116\"},\"root_ids\":[\"p1081\"]}];\n",
       "  root.Bokeh.embed.embed_items_notebook(docs_json, render_items);\n",
       "  }\n",
       "  if (root.Bokeh !== undefined) {\n",
       "    embed_document(root);\n",
       "  } else {\n",
       "    let attempts = 0;\n",
       "    const timer = setInterval(function(root) {\n",
       "      if (root.Bokeh !== undefined) {\n",
       "        clearInterval(timer);\n",
       "        embed_document(root);\n",
       "      } else {\n",
       "        attempts++;\n",
       "        if (attempts > 100) {\n",
       "          clearInterval(timer);\n",
       "          console.log(\"Bokeh: ERROR: Unable to run BokehJS code because BokehJS library is missing\");\n",
       "        }\n",
       "      }\n",
       "    }, 10, root)\n",
       "  }\n",
       "})(window);"
      ],
      "application/vnd.bokehjs_exec.v0+json": ""
     },
     "metadata": {
      "application/vnd.bokehjs_exec.v0+json": {
       "id": "p1081"
      }
     },
     "output_type": "display_data"
    }
   ],
   "source": [
    "fig = figure(height=400, width=400,\n",
    "             title=\"Distribution of Standardized Residuals\",\n",
    "             x_axis_label='St_resids', y_axis_label='frequency')\n",
    "fig.quad(top=hist, bottom=0, left=edges[:-1], right=edges[1:],\n",
    "         line_color=\"black\")\n",
    "\n",
    "show(fig)"
   ]
  },
  {
   "cell_type": "markdown",
   "id": "59589d87",
   "metadata": {},
   "source": [
    "## Conclusion"
   ]
  },
  {
   "cell_type": "markdown",
   "id": "9cb8ae3b",
   "metadata": {},
   "source": [
    "1. The analysis was conducted with around 900 datarows.\n",
    "2. The data is positively skewed which states that as number of people who have taken first dosage increase it more likely to increase the number of people to take the second dosage. \n",
    "3. The Maximum number of vaccinations was taken in December 2022 and Minimum was taken in January 2021.\n"
   ]
  },
  {
   "cell_type": "markdown",
   "id": "8317b1f3",
   "metadata": {},
   "source": [
    "4. The number of people who have taken Vaccination are more in England compared to other areas.\n",
    "5. The maximum number of vaccination was taken in quarter Q1, then Q4 followed by Q3.\n",
    "\n",
    "\n",
    "6. The Linear regression model is significant based p-value obtained, but R-Square states that number of people who have taken first and second dose is useful to predict 64% of number of people who have taken third dose."
   ]
  },
  {
   "cell_type": "code",
   "execution_count": null,
   "id": "e3f647ae",
   "metadata": {},
   "outputs": [],
   "source": []
  }
 ],
 "metadata": {
  "kernelspec": {
   "display_name": "Python 3 (ipykernel)",
   "language": "python",
   "name": "python3"
  },
  "language_info": {
   "codemirror_mode": {
    "name": "ipython",
    "version": 3
   },
   "file_extension": ".py",
   "mimetype": "text/x-python",
   "name": "python",
   "nbconvert_exporter": "python",
   "pygments_lexer": "ipython3",
   "version": "3.11.4"
  }
 },
 "nbformat": 4,
 "nbformat_minor": 5
}
